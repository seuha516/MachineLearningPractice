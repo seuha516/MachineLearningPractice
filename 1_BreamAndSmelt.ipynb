{
  "nbformat": 4,
  "nbformat_minor": 0,
  "metadata": {
    "colab": {
      "name": "BreamAndSmelt",
      "provenance": [],
      "collapsed_sections": [],
      "toc_visible": true,
      "authorship_tag": "ABX9TyNnrfZwbZ1GBdJmghFQlW85",
      "include_colab_link": true
    },
    "kernelspec": {
      "name": "python3",
      "display_name": "Python 3"
    }
  },
  "cells": [
    {
      "cell_type": "markdown",
      "metadata": {
        "id": "view-in-github",
        "colab_type": "text"
      },
      "source": [
        "<a href=\"https://colab.research.google.com/github/seuha516/MachineLearning_Practice/blob/main/BreamAndSmelt.ipynb\" target=\"_parent\"><img src=\"https://colab.research.google.com/assets/colab-badge.svg\" alt=\"Open In Colab\"/></a>"
      ]
    },
    {
      "cell_type": "markdown",
      "metadata": {
        "id": "h7DrgCS2pjOz"
      },
      "source": [
        "# **도미**와 **빙어** 구분하기!"
      ]
    },
    {
      "cell_type": "markdown",
      "metadata": {
        "id": "F-BWnqEzqVbX"
      },
      "source": [
        "## *Data*"
      ]
    },
    {
      "cell_type": "code",
      "metadata": {
        "id": "3K2AyM7spzEj"
      },
      "source": [
        "bream_length = [25.4, 26.3, 26.5, 29.0, 29.0, 29.7, 29.7, 30.0, 30.0, 30.7, 31.0, 31.0, \r\n",
        "                31.5, 32.0, 32.0, 32.0, 33.0, 33.0, 33.5, 33.5, 34.0, 34.0, 34.5, 35.0, \r\n",
        "                35.0, 35.0, 35.0, 36.0, 36.0, 37.0, 38.5, 38.5, 39.5, 41.0, 41.0]\r\n",
        "bream_weight = [242.0, 290.0, 340.0, 363.0, 430.0, 450.0, 500.0, 390.0, 450.0, 500.0, 475.0, 500.0, \r\n",
        "                500.0, 340.0, 600.0, 600.0, 700.0, 700.0, 610.0, 650.0, 575.0, 685.0, 620.0, 680.0, \r\n",
        "                700.0, 725.0, 720.0, 714.0, 850.0, 1000.0, 920.0, 955.0, 925.0, 975.0, 950.0]\r\n",
        "smelt_length = [9.8, 10.5, 10.6, 11.0, 11.2, 11.3, 11.8, 11.8, 12.0, 12.2, 12.4, 13.0, 14.3, 15.0]\r\n",
        "smelt_weight = [6.7, 7.5, 7.0, 9.7, 9.8, 8.7, 10.0, 9.9, 9.8, 12.2, 13.4, 12.2, 19.7, 19.9]\r\n",
        "\r\n",
        "fish=['도미','빙어']"
      ],
      "execution_count": 33,
      "outputs": []
    },
    {
      "cell_type": "markdown",
      "metadata": {
        "id": "WUQP7WiPqsTN"
      },
      "source": [
        "## *Scatter Diagram*"
      ]
    },
    {
      "cell_type": "code",
      "metadata": {
        "colab": {
          "base_uri": "https://localhost:8080/",
          "height": 279
        },
        "id": "MZpKXDbWq1fn",
        "outputId": "d38b84f4-59c6-44e2-c924-01cc37cadb32"
      },
      "source": [
        "import matplotlib.pyplot as plt\r\n",
        "\r\n",
        "plt.scatter(bream_length, bream_weight)\r\n",
        "plt.scatter(smelt_length, smelt_weight)\r\n",
        "plt.xlabel('length')\r\n",
        "plt.ylabel('weight')\r\n",
        "plt.show()"
      ],
      "execution_count": 34,
      "outputs": [
        {
          "output_type": "display_data",
          "data": {
            "image/png": "[encoded data removed]",
            "text/plain": [
              "<Figure size 432x288 with 1 Axes>"
            ]
          },
          "metadata": {
            "tags": [],
            "needs_background": "light"
          }
        }
      ]
    },
    {
      "cell_type": "markdown",
      "metadata": {
        "id": "VVkhQIQXq_4C"
      },
      "source": [
        "## *Machine Learning*"
      ]
    },
    {
      "cell_type": "markdown",
      "metadata": {
        "id": "I0IzqXnWrJ5k"
      },
      "source": [
        "### Data Training"
      ]
    },
    {
      "cell_type": "code",
      "metadata": {
        "colab": {
          "base_uri": "https://localhost:8080/"
        },
        "id": "vcU8kv_QrM0B",
        "outputId": "e71d549c-dd6e-43b4-b70a-94a28311c015"
      },
      "source": [
        "length=bream_length+smelt_length\r\n",
        "weight=bream_weight+smelt_weight\r\n",
        "\r\n",
        "fish_data=[[l,w] for l,w in zip(length,weight)]\r\n",
        "print(fish_data)"
      ],
      "execution_count": 35,
      "outputs": [
        {
          "output_type": "stream",
          "text": [
            "[[25.4, 242.0], [26.3, 290.0], [26.5, 340.0], [29.0, 363.0], [29.0, 430.0], [29.7, 450.0], [29.7, 500.0], [30.0, 390.0], [30.0, 450.0], [30.7, 500.0], [31.0, 475.0], [31.0, 500.0], [31.5, 500.0], [32.0, 340.0], [32.0, 600.0], [32.0, 600.0], [33.0, 700.0], [33.0, 700.0], [33.5, 610.0], [33.5, 650.0], [34.0, 575.0], [34.0, 685.0], [34.5, 620.0], [35.0, 680.0], [35.0, 700.0], [35.0, 725.0], [35.0, 720.0], [36.0, 714.0], [36.0, 850.0], [37.0, 1000.0], [38.5, 920.0], [38.5, 955.0], [39.5, 925.0], [41.0, 975.0], [41.0, 950.0], [9.8, 6.7], [10.5, 7.5], [10.6, 7.0], [11.0, 9.7], [11.2, 9.8], [11.3, 8.7], [11.8, 10.0], [11.8, 9.9], [12.0, 9.8], [12.2, 12.2], [12.4, 13.4], [13.0, 12.2], [14.3, 19.7], [15.0, 19.9]]\n"
          ],
          "name": "stdout"
        }
      ]
    },
    {
      "cell_type": "code",
      "metadata": {
        "id": "7fOfWAcgtXGP",
        "colab": {
          "base_uri": "https://localhost:8080/"
        },
        "outputId": "cbcd1393-f552-4545-e076-cea6b5207896"
      },
      "source": [
        "fish_kind=[0]*35+[1]*14  #도미는 0, 빙어는 1\r\n",
        "print(fish_kind)"
      ],
      "execution_count": 36,
      "outputs": [
        {
          "output_type": "stream",
          "text": [
            "[0, 0, 0, 0, 0, 0, 0, 0, 0, 0, 0, 0, 0, 0, 0, 0, 0, 0, 0, 0, 0, 0, 0, 0, 0, 0, 0, 0, 0, 0, 0, 0, 0, 0, 0, 1, 1, 1, 1, 1, 1, 1, 1, 1, 1, 1, 1, 1, 1]\n"
          ],
          "name": "stdout"
        }
      ]
    },
    {
      "cell_type": "code",
      "metadata": {
        "id": "nSXekqCbtdPr",
        "colab": {
          "base_uri": "https://localhost:8080/"
        },
        "outputId": "0c19e7e0-632d-4540-ef06-db9d0966a170"
      },
      "source": [
        "from sklearn.neighbors import KNeighborsClassifier\r\n",
        "kn=KNeighborsClassifier(n_neighbors=5)\r\n",
        "kn.fit(fish_data,fish_kind)\r\n",
        "kn.score(fish_data,fish_kind)"
      ],
      "execution_count": 37,
      "outputs": [
        {
          "output_type": "execute_result",
          "data": {
            "text/plain": [
              "1.0"
            ]
          },
          "metadata": {
            "tags": []
          },
          "execution_count": 37
        }
      ]
    },
    {
      "cell_type": "code",
      "metadata": {
        "colab": {
          "base_uri": "https://localhost:8080/"
        },
        "id": "8LGC4YB2tzvI",
        "outputId": "643d40c4-f2bf-47d1-9f6e-33a24d2a71fe"
      },
      "source": [
        "print(kn._fit_X)"
      ],
      "execution_count": 38,
      "outputs": [
        {
          "output_type": "stream",
          "text": [
            "[[  25.4  242. ]\n",
            " [  26.3  290. ]\n",
            " [  26.5  340. ]\n",
            " [  29.   363. ]\n",
            " [  29.   430. ]\n",
            " [  29.7  450. ]\n",
            " [  29.7  500. ]\n",
            " [  30.   390. ]\n",
            " [  30.   450. ]\n",
            " [  30.7  500. ]\n",
            " [  31.   475. ]\n",
            " [  31.   500. ]\n",
            " [  31.5  500. ]\n",
            " [  32.   340. ]\n",
            " [  32.   600. ]\n",
            " [  32.   600. ]\n",
            " [  33.   700. ]\n",
            " [  33.   700. ]\n",
            " [  33.5  610. ]\n",
            " [  33.5  650. ]\n",
            " [  34.   575. ]\n",
            " [  34.   685. ]\n",
            " [  34.5  620. ]\n",
            " [  35.   680. ]\n",
            " [  35.   700. ]\n",
            " [  35.   725. ]\n",
            " [  35.   720. ]\n",
            " [  36.   714. ]\n",
            " [  36.   850. ]\n",
            " [  37.  1000. ]\n",
            " [  38.5  920. ]\n",
            " [  38.5  955. ]\n",
            " [  39.5  925. ]\n",
            " [  41.   975. ]\n",
            " [  41.   950. ]\n",
            " [   9.8    6.7]\n",
            " [  10.5    7.5]\n",
            " [  10.6    7. ]\n",
            " [  11.     9.7]\n",
            " [  11.2    9.8]\n",
            " [  11.3    8.7]\n",
            " [  11.8   10. ]\n",
            " [  11.8    9.9]\n",
            " [  12.     9.8]\n",
            " [  12.2   12.2]\n",
            " [  12.4   13.4]\n",
            " [  13.    12.2]\n",
            " [  14.3   19.7]\n",
            " [  15.    19.9]]\n"
          ],
          "name": "stdout"
        }
      ]
    },
    {
      "cell_type": "code",
      "metadata": {
        "colab": {
          "base_uri": "https://localhost:8080/"
        },
        "id": "B_6ybLzwt5Ld",
        "outputId": "ab160e24-1852-4f8c-bf63-6d1d88543d69"
      },
      "source": [
        "print(kn._y)"
      ],
      "execution_count": 39,
      "outputs": [
        {
          "output_type": "stream",
          "text": [
            "[0 0 0 0 0 0 0 0 0 0 0 0 0 0 0 0 0 0 0 0 0 0 0 0 0 0 0 0 0 0 0 0 0 0 0 1 1\n",
            " 1 1 1 1 1 1 1 1 1 1 1 1]\n"
          ],
          "name": "stdout"
        }
      ]
    },
    {
      "cell_type": "markdown",
      "metadata": {
        "id": "xNUNpi_lrXM0"
      },
      "source": [
        "### Classify New Fish"
      ]
    },
    {
      "cell_type": "code",
      "metadata": {
        "id": "_OLWAk1idhkP",
        "colab": {
          "base_uri": "https://localhost:8080/",
          "height": 1000
        },
        "outputId": "a8de5659-8da4-4d72-d48f-de49f7e90699"
      },
      "source": [
        "while(1):\r\n",
        "  print(\"알고 싶은 생선의 길이와 무게를 입력하세요.\")\r\n",
        "  len,wei=map(int,input().split())\r\n",
        "  if(len==0 and wei==0): break\r\n",
        "\r\n",
        "  plt.scatter(bream_length, bream_weight)\r\n",
        "  plt.scatter(smelt_length, smelt_weight)\r\n",
        "  plt.scatter(len, wei, marker='^')\r\n",
        "  plt.xlabel('length')\r\n",
        "  plt.ylabel('weight')\r\n",
        "  plt.show()\r\n",
        "\r\n",
        "  result=kn.predict([[len,wei]])[0]\r\n",
        "  print(\"길이 %d, 무게 %d인 생선은 %s!\\n\"% (len, wei, fish[result]))\r\n",
        "  \r\n",
        "  print(\"맞았으면 1, 틀렸으면 0을 입력하세요.\")\r\n",
        "  ok=int(input())\r\n",
        "  new_fish_kind=result if ok==1 else 1-result\r\n",
        "  if(new_fish_kind==0):\r\n",
        "    bream_length.append(len)\r\n",
        "    bream_weight.append(wei)\r\n",
        "  else:\r\n",
        "    smelt_length.append(len)\r\n",
        "    smelt_weight.append(wei)\r\n",
        "  fish_data.append([len,wei])\r\n",
        "  fish_kind.append(new_fish_kind)\r\n",
        "  kn.fit(fish_data,fish_kind)\r\n",
        "  "
      ],
      "execution_count": 40,
      "outputs": [
        {
          "output_type": "stream",
          "text": [
            "알고 싶은 생선의 길이와 무게를 입력하세요.\n",
            "30 600\n"
          ],
          "name": "stdout"
        },
        {
          "output_type": "display_data",
          "data": {
            "image/png": "[encoded data removed]",
            "text/plain": [
              "<Figure size 432x288 with 1 Axes>"
            ]
          },
          "metadata": {
            "tags": [],
            "needs_background": "light"
          }
        },
        {
          "output_type": "stream",
          "text": [
            "길이 30, 무게 600인 생선은 도미!\n",
            "\n",
            "맞았으면 1, 틀렸으면 0을 입력하세요.\n",
            "1\n",
            "알고 싶은 생선의 길이와 무게를 입력하세요.\n",
            "10 25\n"
          ],
          "name": "stdout"
        },
        {
          "output_type": "display_data",
          "data": {
            "image/png": "[encoded data removed]",
            "text/plain": [
              "<Figure size 432x288 with 1 Axes>"
            ]
          },
          "metadata": {
            "tags": [],
            "needs_background": "light"
          }
        },
        {
          "output_type": "stream",
          "text": [
            "길이 10, 무게 25인 생선은 빙어!\n",
            "\n",
            "맞았으면 1, 틀렸으면 0을 입력하세요.\n",
            "1\n",
            "알고 싶은 생선의 길이와 무게를 입력하세요.\n",
            "40 900\n"
          ],
          "name": "stdout"
        },
        {
          "output_type": "display_data",
          "data": {
            "image/png": "[encoded data removed]",
            "text/plain": [
              "<Figure size 432x288 with 1 Axes>"
            ]
          },
          "metadata": {
            "tags": [],
            "needs_background": "light"
          }
        },
        {
          "output_type": "stream",
          "text": [
            "길이 40, 무게 900인 생선은 도미!\n",
            "\n",
            "맞았으면 1, 틀렸으면 0을 입력하세요.\n",
            "1\n",
            "알고 싶은 생선의 길이와 무게를 입력하세요.\n",
            "17 22\n"
          ],
          "name": "stdout"
        },
        {
          "output_type": "display_data",
          "data": {
            "image/png": "[encoded data removed]",
            "text/plain": [
              "<Figure size 432x288 with 1 Axes>"
            ]
          },
          "metadata": {
            "tags": [],
            "needs_background": "light"
          }
        },
        {
          "output_type": "stream",
          "text": [
            "길이 17, 무게 22인 생선은 빙어!\n",
            "\n",
            "맞았으면 1, 틀렸으면 0을 입력하세요.\n",
            "1\n",
            "알고 싶은 생선의 길이와 무게를 입력하세요.\n",
            "0 0\n"
          ],
          "name": "stdout"
        }
      ]
    },
    {
      "cell_type": "markdown",
      "metadata": {
        "id": "nfX11phq-3hM"
      },
      "source": [
        "### Problem Solve"
      ]
    },
    {
      "cell_type": "code",
      "metadata": {
        "colab": {
          "base_uri": "https://localhost:8080/"
        },
        "id": "d0io2wRr_Bab",
        "outputId": "89170025-c593-4d71-d9ff-6e4466fb858f"
      },
      "source": [
        "kn=KNeighborsClassifier()\r\n",
        "kn.fit(fish_data,fish_kind)\r\n",
        "\r\n",
        "for n in range(5,50):\r\n",
        "  kn.n_neighbors=n;\r\n",
        "  score=kn.score(fish_data,fish_kind)\r\n",
        "  if(score<1):\r\n",
        "    print(\"n_neighbors=%d 부터 score가 1이 아님. score=%.15f\"%(n,score))\r\n",
        "    break;"
      ],
      "execution_count": 41,
      "outputs": [
        {
          "output_type": "stream",
          "text": [
            "n_neighbors=19 부터 score가 1이 아님. score=0.981132075471698\n"
          ],
          "name": "stdout"
        }
      ]
    }
  ]
}