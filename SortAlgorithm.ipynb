{
  "nbformat": 4,
  "nbformat_minor": 0,
  "metadata": {
    "colab": {
      "name": "SortAlgorithm",
      "provenance": [],
      "authorship_tag": "ABX9TyNq/di4BroJvQN+FttCNL9U",
      "include_colab_link": true
    },
    "kernelspec": {
      "name": "python3",
      "display_name": "Python 3"
    }
  },
  "cells": [
    {
      "cell_type": "markdown",
      "metadata": {
        "id": "view-in-github",
        "colab_type": "text"
      },
      "source": [
        "<a href=\"https://colab.research.google.com/github/seuha516/MachineLearningPractice/blob/main/SortAlgorithm.ipynb\" target=\"_parent\"><img src=\"https://colab.research.google.com/assets/colab-badge.svg\" alt=\"Open In Colab\"/></a>"
      ]
    },
    {
      "cell_type": "markdown",
      "metadata": {
        "id": "u8SgFq34SX_g"
      },
      "source": [
        "#다양한 **분류 알고리즘**"
      ]
    },
    {
      "cell_type": "markdown",
      "metadata": {
        "id": "gso1X6qsSekR"
      },
      "source": [
        "## KNeighborsClassfier"
      ]
    },
    {
      "cell_type": "markdown",
      "metadata": {
        "id": "aikSFEeFSegh"
      },
      "source": [
        "###Data"
      ]
    },
    {
      "cell_type": "code",
      "metadata": {
        "colab": {
          "base_uri": "https://localhost:8080/",
          "height": 195
        },
        "id": "lIBvCXBASJQV",
        "outputId": "c21aa04c-a3ca-4b71-e326-97541530ba4f"
      },
      "source": [
        "import pandas as pd\r\n",
        "import numpy as np\r\n",
        "fish=pd.read_csv('https://bit.ly/fish_csv')\r\n",
        "fish.head()"
      ],
      "execution_count": 81,
      "outputs": [
        {
          "output_type": "execute_result",
          "data": {
            "text/html": [
              "<div>\n",
              "<style scoped>\n",
              "    .dataframe tbody tr th:only-of-type {\n",
              "        vertical-align: middle;\n",
              "    }\n",
              "\n",
              "    .dataframe tbody tr th {\n",
              "        vertical-align: top;\n",
              "    }\n",
              "\n",
              "    .dataframe thead th {\n",
              "        text-align: right;\n",
              "    }\n",
              "</style>\n",
              "<table border=\"1\" class=\"dataframe\">\n",
              "  <thead>\n",
              "    <tr style=\"text-align: right;\">\n",
              "      <th></th>\n",
              "      <th>Species</th>\n",
              "      <th>Weight</th>\n",
              "      <th>Length</th>\n",
              "      <th>Diagonal</th>\n",
              "      <th>Height</th>\n",
              "      <th>Width</th>\n",
              "    </tr>\n",
              "  </thead>\n",
              "  <tbody>\n",
              "    <tr>\n",
              "      <th>0</th>\n",
              "      <td>Bream</td>\n",
              "      <td>242.0</td>\n",
              "      <td>25.4</td>\n",
              "      <td>30.0</td>\n",
              "      <td>11.5200</td>\n",
              "      <td>4.0200</td>\n",
              "    </tr>\n",
              "    <tr>\n",
              "      <th>1</th>\n",
              "      <td>Bream</td>\n",
              "      <td>290.0</td>\n",
              "      <td>26.3</td>\n",
              "      <td>31.2</td>\n",
              "      <td>12.4800</td>\n",
              "      <td>4.3056</td>\n",
              "    </tr>\n",
              "    <tr>\n",
              "      <th>2</th>\n",
              "      <td>Bream</td>\n",
              "      <td>340.0</td>\n",
              "      <td>26.5</td>\n",
              "      <td>31.1</td>\n",
              "      <td>12.3778</td>\n",
              "      <td>4.6961</td>\n",
              "    </tr>\n",
              "    <tr>\n",
              "      <th>3</th>\n",
              "      <td>Bream</td>\n",
              "      <td>363.0</td>\n",
              "      <td>29.0</td>\n",
              "      <td>33.5</td>\n",
              "      <td>12.7300</td>\n",
              "      <td>4.4555</td>\n",
              "    </tr>\n",
              "    <tr>\n",
              "      <th>4</th>\n",
              "      <td>Bream</td>\n",
              "      <td>430.0</td>\n",
              "      <td>29.0</td>\n",
              "      <td>34.0</td>\n",
              "      <td>12.4440</td>\n",
              "      <td>5.1340</td>\n",
              "    </tr>\n",
              "  </tbody>\n",
              "</table>\n",
              "</div>"
            ],
            "text/plain": [
              "  Species  Weight  Length  Diagonal   Height   Width\n",
              "0   Bream   242.0    25.4      30.0  11.5200  4.0200\n",
              "1   Bream   290.0    26.3      31.2  12.4800  4.3056\n",
              "2   Bream   340.0    26.5      31.1  12.3778  4.6961\n",
              "3   Bream   363.0    29.0      33.5  12.7300  4.4555\n",
              "4   Bream   430.0    29.0      34.0  12.4440  5.1340"
            ]
          },
          "metadata": {
            "tags": []
          },
          "execution_count": 81
        }
      ]
    },
    {
      "cell_type": "code",
      "metadata": {
        "colab": {
          "base_uri": "https://localhost:8080/"
        },
        "id": "zlUBvymcTLb4",
        "outputId": "e5823c71-d355-47c1-dc4e-0f53f1335889"
      },
      "source": [
        "print(pd.unique(fish['Species']))"
      ],
      "execution_count": 82,
      "outputs": [
        {
          "output_type": "stream",
          "text": [
            "['Bream' 'Roach' 'Whitefish' 'Parkki' 'Perch' 'Pike' 'Smelt']\n"
          ],
          "name": "stdout"
        }
      ]
    },
    {
      "cell_type": "code",
      "metadata": {
        "colab": {
          "base_uri": "https://localhost:8080/"
        },
        "id": "QzMLAgfFTdH0",
        "outputId": "35b395cb-cdd1-4607-9d31-a0dd149facd7"
      },
      "source": [
        "fish_input=fish[['Weight','Length','Diagonal','Height','Width']].to_numpy()\r\n",
        "fish_target=fish['Species'].to_numpy()\r\n",
        "print(fish_input[:5])\r\n",
        "print(fish_target[:5])"
      ],
      "execution_count": 83,
      "outputs": [
        {
          "output_type": "stream",
          "text": [
            "[[242.      25.4     30.      11.52     4.02  ]\n",
            " [290.      26.3     31.2     12.48     4.3056]\n",
            " [340.      26.5     31.1     12.3778   4.6961]\n",
            " [363.      29.      33.5     12.73     4.4555]\n",
            " [430.      29.      34.      12.444    5.134 ]]\n",
            "['Bream' 'Bream' 'Bream' 'Bream' 'Bream']\n"
          ],
          "name": "stdout"
        }
      ]
    },
    {
      "cell_type": "markdown",
      "metadata": {
        "id": "yUn8mDGdoaKK"
      },
      "source": [
        "### Train_Test_Split"
      ]
    },
    {
      "cell_type": "code",
      "metadata": {
        "id": "-2wZYOEVTz3n"
      },
      "source": [
        "from sklearn.model_selection import train_test_split\r\n",
        "train_input,test_input,train_target,test_target=train_test_split(fish_input,fish_target,random_state=42)"
      ],
      "execution_count": 84,
      "outputs": []
    },
    {
      "cell_type": "code",
      "metadata": {
        "id": "cfCLHhRpUCQ8"
      },
      "source": [
        "from sklearn.preprocessing import StandardScaler\r\n",
        "ss=StandardScaler()\r\n",
        "ss.fit(train_input)\r\n",
        "train_scaled=ss.transform(train_input)\r\n",
        "test_scaled=ss.transform(test_input)"
      ],
      "execution_count": 85,
      "outputs": []
    },
    {
      "cell_type": "markdown",
      "metadata": {
        "id": "WFnf_C7ZUR2S"
      },
      "source": [
        "###Test"
      ]
    },
    {
      "cell_type": "code",
      "metadata": {
        "colab": {
          "base_uri": "https://localhost:8080/"
        },
        "id": "i5eZ0p3JUT73",
        "outputId": "8def07bc-9cd6-4feb-d4cc-453189efcc7f"
      },
      "source": [
        "from sklearn.neighbors import KNeighborsClassifier\r\n",
        "kn=KNeighborsClassifier(n_neighbors=3)\r\n",
        "kn.fit(train_scaled,train_target)\r\n",
        "print(kn.score(train_scaled,train_target))\r\n",
        "print(kn.score(test_scaled,test_target))"
      ],
      "execution_count": 86,
      "outputs": [
        {
          "output_type": "stream",
          "text": [
            "0.8907563025210085\n",
            "0.85\n"
          ],
          "name": "stdout"
        }
      ]
    },
    {
      "cell_type": "code",
      "metadata": {
        "colab": {
          "base_uri": "https://localhost:8080/"
        },
        "id": "VfDGu1hkVNpw",
        "outputId": "f401a594-6f82-44c6-87f1-65a8fde9bfce"
      },
      "source": [
        "print(kn.classes_)"
      ],
      "execution_count": 87,
      "outputs": [
        {
          "output_type": "stream",
          "text": [
            "['Bream' 'Parkki' 'Perch' 'Pike' 'Roach' 'Smelt' 'Whitefish']\n"
          ],
          "name": "stdout"
        }
      ]
    },
    {
      "cell_type": "code",
      "metadata": {
        "colab": {
          "base_uri": "https://localhost:8080/"
        },
        "id": "0C5jXCL-VSS8",
        "outputId": "7557c2a2-4bed-4c94-bf21-91ec56876ccf"
      },
      "source": [
        "print(kn.predict(test_scaled[:5]))\r\n",
        "print(test_target[:5])"
      ],
      "execution_count": 88,
      "outputs": [
        {
          "output_type": "stream",
          "text": [
            "['Perch' 'Smelt' 'Pike' 'Perch' 'Perch']\n",
            "['Perch' 'Smelt' 'Pike' 'Whitefish' 'Perch']\n"
          ],
          "name": "stdout"
        }
      ]
    },
    {
      "cell_type": "code",
      "metadata": {
        "colab": {
          "base_uri": "https://localhost:8080/"
        },
        "id": "BJFB07HtVroh",
        "outputId": "d8cb36a1-7928-424d-f1d7-4366d8626039"
      },
      "source": [
        "proba=kn.predict_proba(test_scaled[:5])\r\n",
        "print(np.round(proba,decimals=4))"
      ],
      "execution_count": 89,
      "outputs": [
        {
          "output_type": "stream",
          "text": [
            "[[0.     0.     1.     0.     0.     0.     0.    ]\n",
            " [0.     0.     0.     0.     0.     1.     0.    ]\n",
            " [0.     0.     0.     1.     0.     0.     0.    ]\n",
            " [0.     0.     0.6667 0.     0.3333 0.     0.    ]\n",
            " [0.     0.     0.6667 0.     0.3333 0.     0.    ]]\n"
          ],
          "name": "stdout"
        }
      ]
    },
    {
      "cell_type": "code",
      "metadata": {
        "colab": {
          "base_uri": "https://localhost:8080/"
        },
        "id": "S2DiYmC0WDnX",
        "outputId": "7607f55c-03ee-4c96-972e-3e6d1ffd1be2"
      },
      "source": [
        "print(test_scaled[3:4])\r\n",
        "distances,indexes=kn.kneighbors(test_scaled[3:4])\r\n",
        "print(distances)\r\n",
        "print(train_target[indexes])"
      ],
      "execution_count": 90,
      "outputs": [
        {
          "output_type": "stream",
          "text": [
            "[[-0.34698097 -0.23396068 -0.22320459 -0.11905019 -0.12233464]]\n",
            "[[0.20774583 0.24862983 0.33682411]]\n",
            "[['Roach' 'Perch' 'Perch']]\n"
          ],
          "name": "stdout"
        }
      ]
    },
    {
      "cell_type": "markdown",
      "metadata": {
        "id": "3wpWzobTUR0U"
      },
      "source": [
        ""
      ]
    },
    {
      "cell_type": "markdown",
      "metadata": {
        "id": "BJaQ8TOIXFm3"
      },
      "source": [
        "##Logistic Regression"
      ]
    },
    {
      "cell_type": "markdown",
      "metadata": {
        "id": "_8-DA-4NXM3q"
      },
      "source": [
        "###Sigmoid Function"
      ]
    },
    {
      "cell_type": "code",
      "metadata": {
        "colab": {
          "base_uri": "https://localhost:8080/",
          "height": 0
        },
        "id": "gtRh9fm1Xd-D",
        "outputId": "cce99ebe-2a3f-4b44-e7ae-92fc211e78c2"
      },
      "source": [
        "import matplotlib.pyplot as plt\r\n",
        "z=np.arange(-5,5,0.001)\r\n",
        "phi=1/(1+np.exp(-z))\r\n",
        "plt.plot(z,phi)\r\n",
        "plt.show()"
      ],
      "execution_count": 91,
      "outputs": [
        {
          "output_type": "display_data",
          "data": {
            "image/png": "[encoded data removed]",
            "text/plain": [
              "<Figure size 432x288 with 1 Axes>"
            ]
          },
          "metadata": {
            "tags": [],
            "needs_background": "light"
          }
        }
      ]
    },
    {
      "cell_type": "markdown",
      "metadata": {
        "id": "aubn5D9uXyOH"
      },
      "source": [
        "###BreamAndSmelt"
      ]
    },
    {
      "cell_type": "code",
      "metadata": {
        "id": "6PQgWIW9YG-L"
      },
      "source": [
        "bream_smelt_indexes=(train_target=='Bream')|(train_target=='Smelt')\r\n",
        "train_bream_smelt=train_scaled[bream_smelt_indexes]\r\n",
        "target_bream_smelt=train_target[bream_smelt_indexes]"
      ],
      "execution_count": 92,
      "outputs": []
    },
    {
      "cell_type": "code",
      "metadata": {
        "colab": {
          "base_uri": "https://localhost:8080/"
        },
        "id": "H-K7_ScyYdPu",
        "outputId": "a3956509-cbbc-41fe-f735-961b997c18cd"
      },
      "source": [
        "from sklearn.linear_model import LogisticRegression\r\n",
        "lr=LogisticRegression()\r\n",
        "lr.fit(train_bream_smelt,target_bream_smelt)\r\n",
        "\r\n",
        "print(lr.predict(train_bream_smelt[:5]))\r\n",
        "print(lr.predict_proba(train_bream_smelt[:5]))"
      ],
      "execution_count": 93,
      "outputs": [
        {
          "output_type": "stream",
          "text": [
            "['Bream' 'Smelt' 'Bream' 'Bream' 'Bream']\n",
            "[[0.99759855 0.00240145]\n",
            " [0.02735183 0.97264817]\n",
            " [0.99486072 0.00513928]\n",
            " [0.98584202 0.01415798]\n",
            " [0.99767269 0.00232731]]\n"
          ],
          "name": "stdout"
        }
      ]
    },
    {
      "cell_type": "code",
      "metadata": {
        "colab": {
          "base_uri": "https://localhost:8080/"
        },
        "id": "MfXaOEe3Y7yU",
        "outputId": "7b03a375-470b-4a9d-a27e-958865a247ce"
      },
      "source": [
        "print(lr.coef_,lr.intercept_)"
      ],
      "execution_count": 94,
      "outputs": [
        {
          "output_type": "stream",
          "text": [
            "[[-0.4037798  -0.57620209 -0.66280298 -1.01290277 -0.73168947]] [-2.16155132]\n"
          ],
          "name": "stdout"
        }
      ]
    },
    {
      "cell_type": "code",
      "metadata": {
        "colab": {
          "base_uri": "https://localhost:8080/"
        },
        "id": "DR092ClgZBWd",
        "outputId": "6b11c68a-4435-4f6a-e7ce-14e978a4e9cb"
      },
      "source": [
        "decisions=lr.decision_function(train_bream_smelt[:5])\r\n",
        "print(decisions)"
      ],
      "execution_count": 95,
      "outputs": [
        {
          "output_type": "stream",
          "text": [
            "[-6.02927744  3.57123907 -5.26568906 -4.24321775 -6.0607117 ]\n"
          ],
          "name": "stdout"
        }
      ]
    },
    {
      "cell_type": "code",
      "metadata": {
        "colab": {
          "base_uri": "https://localhost:8080/"
        },
        "id": "Py4xN8QKZJtF",
        "outputId": "b4eeeee2-adcc-45f0-e8a0-735575ffcc75"
      },
      "source": [
        "from scipy.special import expit\r\n",
        "print(expit(decisions))"
      ],
      "execution_count": 96,
      "outputs": [
        {
          "output_type": "stream",
          "text": [
            "[0.00240145 0.97264817 0.00513928 0.01415798 0.00232731]\n"
          ],
          "name": "stdout"
        }
      ]
    },
    {
      "cell_type": "markdown",
      "metadata": {
        "id": "t2wzCBpdZX_5"
      },
      "source": [
        "###Multiclass Classification"
      ]
    },
    {
      "cell_type": "code",
      "metadata": {
        "colab": {
          "base_uri": "https://localhost:8080/"
        },
        "id": "fhIh6t9ZZeNV",
        "outputId": "979fbdbf-93a9-4b7c-cfec-53705cd3126b"
      },
      "source": [
        "lr=LogisticRegression(C=20,max_iter=1000)\r\n",
        "lr.fit(train_scaled,train_target)\r\n",
        "print(lr.score(train_scaled,train_target))\r\n",
        "print(lr.score(test_scaled,test_target))"
      ],
      "execution_count": 97,
      "outputs": [
        {
          "output_type": "stream",
          "text": [
            "0.9327731092436975\n",
            "0.925\n"
          ],
          "name": "stdout"
        }
      ]
    },
    {
      "cell_type": "code",
      "metadata": {
        "colab": {
          "base_uri": "https://localhost:8080/"
        },
        "id": "hTfwIG5tZy5B",
        "outputId": "37062065-830a-4ec8-fce7-ac13c1bf35ff"
      },
      "source": [
        "print(lr.classes_)\r\n",
        "\r\n",
        "proba=lr.predict_proba(test_scaled[:5])\r\n",
        "print(np.round(proba,decimals=3))\r\n",
        "print(lr.predict(test_scaled[:5]))"
      ],
      "execution_count": 98,
      "outputs": [
        {
          "output_type": "stream",
          "text": [
            "['Bream' 'Parkki' 'Perch' 'Pike' 'Roach' 'Smelt' 'Whitefish']\n",
            "[[0.    0.014 0.841 0.    0.136 0.007 0.003]\n",
            " [0.    0.003 0.044 0.    0.007 0.946 0.   ]\n",
            " [0.    0.    0.034 0.935 0.015 0.016 0.   ]\n",
            " [0.011 0.034 0.306 0.007 0.567 0.    0.076]\n",
            " [0.    0.    0.904 0.002 0.089 0.002 0.001]]\n",
            "['Perch' 'Smelt' 'Pike' 'Roach' 'Perch']\n"
          ],
          "name": "stdout"
        }
      ]
    },
    {
      "cell_type": "code",
      "metadata": {
        "colab": {
          "base_uri": "https://localhost:8080/"
        },
        "id": "rAcFDACRas9B",
        "outputId": "2abdf2cc-fdd3-47e3-f674-fc86b3a11dd4"
      },
      "source": [
        "decision=lr.decision_function(test_scaled[:5])\r\n",
        "print(np.round(decision,decimals=2))"
      ],
      "execution_count": 99,
      "outputs": [
        {
          "output_type": "stream",
          "text": [
            "[[ -6.5    1.03   5.16  -2.73   3.34   0.33  -0.63]\n",
            " [-10.86   1.93   4.77  -2.4    2.98   7.84  -4.26]\n",
            " [ -4.34  -6.23   3.17   6.49   2.36   2.42  -3.87]\n",
            " [ -0.68   0.45   2.65  -1.19   3.26  -5.75   1.26]\n",
            " [ -6.4   -1.99   5.82  -0.11   3.5   -0.11  -0.71]]\n"
          ],
          "name": "stdout"
        }
      ]
    },
    {
      "cell_type": "code",
      "metadata": {
        "colab": {
          "base_uri": "https://localhost:8080/"
        },
        "id": "dwpDtbmua6dS",
        "outputId": "73570bf6-c928-49d4-ddd5-c4a625a4432c"
      },
      "source": [
        "from scipy.special import softmax\r\n",
        "proba=softmax(decision,axis=1)\r\n",
        "print(np.round(proba,decimals=3))"
      ],
      "execution_count": 100,
      "outputs": [
        {
          "output_type": "stream",
          "text": [
            "[[0.    0.014 0.841 0.    0.136 0.007 0.003]\n",
            " [0.    0.003 0.044 0.    0.007 0.946 0.   ]\n",
            " [0.    0.    0.034 0.935 0.015 0.016 0.   ]\n",
            " [0.011 0.034 0.306 0.007 0.567 0.    0.076]\n",
            " [0.    0.    0.904 0.002 0.089 0.002 0.001]]\n"
          ],
          "name": "stdout"
        }
      ]
    },
    {
      "cell_type": "markdown",
      "metadata": {
        "id": "dceL1VLEf0ng"
      },
      "source": [
        "##Stochastic Gradient Descent"
      ]
    },
    {
      "cell_type": "markdown",
      "metadata": {
        "id": "wIKaeMIuf6BI"
      },
      "source": [
        "###Data"
      ]
    },
    {
      "cell_type": "code",
      "metadata": {
        "id": "unz9DlyTf8s2"
      },
      "source": [
        "fish=pd.read_csv('https://bit.ly/fish_csv')\r\n",
        "\r\n",
        "fish_input=fish[['Weight','Length','Diagonal','Height','Width']].to_numpy()\r\n",
        "fish_target=fish['Species'].to_numpy()\r\n",
        "\r\n",
        "train_input,test_input,train_target,test_target=train_test_split(fish_input,fish_target,random_state=42)\r\n",
        "\r\n",
        "ss=StandardScaler()\r\n",
        "ss.fit(train_input)\r\n",
        "train_scaled=ss.transform(train_input)\r\n",
        "test_scaled=ss.transform(test_input)"
      ],
      "execution_count": 113,
      "outputs": []
    },
    {
      "cell_type": "markdown",
      "metadata": {
        "id": "hKpXP10MgcR1"
      },
      "source": [
        "###SGDClassfier"
      ]
    },
    {
      "cell_type": "code",
      "metadata": {
        "colab": {
          "base_uri": "https://localhost:8080/"
        },
        "id": "xOzQMpOKgeW7",
        "outputId": "b5dee3ba-ed5a-480c-f1e6-499de3da682a"
      },
      "source": [
        "from sklearn.linear_model import SGDClassifier\r\n",
        "sc=SGDClassifier(loss='log',max_iter=10,random_state=42)\r\n",
        "sc.fit(train_scaled,train_target)\r\n",
        "\r\n",
        "print(sc.score(train_scaled,train_target))\r\n",
        "print(sc.score(test_scaled,test_target))"
      ],
      "execution_count": 114,
      "outputs": [
        {
          "output_type": "stream",
          "text": [
            "0.773109243697479\n",
            "0.775\n"
          ],
          "name": "stdout"
        },
        {
          "output_type": "stream",
          "text": [
            "/usr/local/lib/python3.7/dist-packages/sklearn/linear_model/_stochastic_gradient.py:557: ConvergenceWarning: Maximum number of iteration reached before convergence. Consider increasing max_iter to improve the fit.\n",
            "  ConvergenceWarning)\n"
          ],
          "name": "stderr"
        }
      ]
    },
    {
      "cell_type": "code",
      "metadata": {
        "colab": {
          "base_uri": "https://localhost:8080/"
        },
        "id": "3siSWo4Tg-v3",
        "outputId": "276fcb74-d1cd-4d57-87d1-2c9007767889"
      },
      "source": [
        "sc.partial_fit(train_scaled,train_target)\r\n",
        "print(sc.score(train_scaled,train_target))\r\n",
        "print(sc.score(test_scaled,test_target))"
      ],
      "execution_count": 115,
      "outputs": [
        {
          "output_type": "stream",
          "text": [
            "0.8151260504201681\n",
            "0.825\n"
          ],
          "name": "stdout"
        }
      ]
    },
    {
      "cell_type": "markdown",
      "metadata": {
        "id": "qqVwKUtYhmBa"
      },
      "source": [
        "###Early Stopping"
      ]
    },
    {
      "cell_type": "code",
      "metadata": {
        "colab": {
          "base_uri": "https://localhost:8080/",
          "height": 0
        },
        "id": "x6tKqcJehoJO",
        "outputId": "c48a5e90-f1e7-418e-9410-2b73057884a5"
      },
      "source": [
        "sc=SGDClassifier(loss='log',random_state=42)\r\n",
        "train_score=[]\r\n",
        "test_score=[]\r\n",
        "classes=np.unique(train_target)\r\n",
        "\r\n",
        "for _ in range(0,300):\r\n",
        "  sc.partial_fit(train_scaled,train_target,classes=classes)\r\n",
        "  train_score.append(sc.score(train_scaled,train_target))\r\n",
        "  test_score.append(sc.score(test_scaled,test_target))\r\n",
        "\r\n",
        "plt.plot(train_score)\r\n",
        "plt.plot(test_score)\r\n",
        "plt.show()"
      ],
      "execution_count": 116,
      "outputs": [
        {
          "output_type": "display_data",
          "data": {
            "image/png": "[encoded data removed]",
            "text/plain": [
              "<Figure size 432x288 with 1 Axes>"
            ]
          },
          "metadata": {
            "tags": [],
            "needs_background": "light"
          }
        }
      ]
    },
    {
      "cell_type": "code",
      "metadata": {
        "colab": {
          "base_uri": "https://localhost:8080/"
        },
        "id": "MU74lR1uibag",
        "outputId": "f213f0ab-b472-4257-f79f-6b287b813097"
      },
      "source": [
        "#에포크 횟수: 100\r\n",
        "sc=SGDClassifier(loss='log',max_iter=100,tol=None,random_state=42)\r\n",
        "sc.fit(train_scaled,train_target)\r\n",
        "\r\n",
        "print(sc.score(train_scaled,train_target))\r\n",
        "print(sc.score(test_scaled,test_target))"
      ],
      "execution_count": 117,
      "outputs": [
        {
          "output_type": "stream",
          "text": [
            "0.957983193277311\n",
            "0.925\n"
          ],
          "name": "stdout"
        }
      ]
    },
    {
      "cell_type": "markdown",
      "metadata": {
        "id": "_cKkPQ_Ui44S"
      },
      "source": [
        "###Hinge Loss"
      ]
    },
    {
      "cell_type": "code",
      "metadata": {
        "colab": {
          "base_uri": "https://localhost:8080/"
        },
        "id": "gfoYl0d5i3BB",
        "outputId": "3f575956-ea66-4d3f-8a27-504a291641d0"
      },
      "source": [
        "sc=SGDClassifier(loss='hinge',max_iter=100,tol=None,random_state=42)\r\n",
        "sc.fit(train_scaled,train_target)\r\n",
        "\r\n",
        "print(sc.score(train_scaled,train_target))\r\n",
        "print(sc.score(test_scaled,test_target))"
      ],
      "execution_count": 118,
      "outputs": [
        {
          "output_type": "stream",
          "text": [
            "0.9495798319327731\n",
            "0.925\n"
          ],
          "name": "stdout"
        }
      ]
    }
  ]
}