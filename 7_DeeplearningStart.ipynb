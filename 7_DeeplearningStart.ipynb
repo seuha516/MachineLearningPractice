{
  "nbformat": 4,
  "nbformat_minor": 0,
  "metadata": {
    "colab": {
      "name": "DeeplearningStart",
      "provenance": [],
      "collapsed_sections": [],
      "authorship_tag": "ABX9TyOtcioXi15RIldxHSboUr4j",
      "include_colab_link": true
    },
    "kernelspec": {
      "name": "python3",
      "display_name": "Python 3"
    },
    "language_info": {
      "name": "python"
    },
    "accelerator": "GPU"
  },
  "cells": [
    {
      "cell_type": "markdown",
      "metadata": {
        "id": "view-in-github",
        "colab_type": "text"
      },
      "source": [
        "<a href=\"https://colab.research.google.com/github/seuha516/MachineLearningPractice/blob/main/DeeplearningStart.ipynb\" target=\"_parent\"><img src=\"https://colab.research.google.com/assets/colab-badge.svg\" alt=\"Open In Colab\"/></a>"
      ]
    },
    {
      "cell_type": "markdown",
      "metadata": {
        "id": "skwdo1Pwz8PK"
      },
      "source": [
        "#**딥러닝**의 시작"
      ]
    },
    {
      "cell_type": "markdown",
      "metadata": {
        "id": "K6uMLEKR0Dhj"
      },
      "source": [
        "##Artificial Neural Network"
      ]
    },
    {
      "cell_type": "markdown",
      "metadata": {
        "id": "mWxhXmzYz7_o"
      },
      "source": [
        "###MNIST"
      ]
    },
    {
      "cell_type": "code",
      "metadata": {
        "colab": {
          "base_uri": "https://localhost:8080/"
        },
        "id": "6zKhbzki0Oxe",
        "outputId": "4b0ba105-86a7-4763-8bc8-b57378c69e0c"
      },
      "source": [
        "from tensorflow import keras\n",
        "(train_input,train_target),(test_input,test_target)=keras.datasets.fashion_mnist.load_data()"
      ],
      "execution_count": 2,
      "outputs": [
        {
          "output_type": "stream",
          "text": [
            "Downloading data from https://storage.googleapis.com/tensorflow/tf-keras-datasets/train-labels-idx1-ubyte.gz\n",
            "32768/29515 [=================================] - 0s 0us/step\n",
            "Downloading data from https://storage.googleapis.com/tensorflow/tf-keras-datasets/train-images-idx3-ubyte.gz\n",
            "26427392/26421880 [==============================] - 0s 0us/step\n",
            "Downloading data from https://storage.googleapis.com/tensorflow/tf-keras-datasets/t10k-labels-idx1-ubyte.gz\n",
            "8192/5148 [===============================================] - 0s 0us/step\n",
            "Downloading data from https://storage.googleapis.com/tensorflow/tf-keras-datasets/t10k-images-idx3-ubyte.gz\n",
            "4423680/4422102 [==============================] - 0s 0us/step\n"
          ],
          "name": "stdout"
        }
      ]
    },
    {
      "cell_type": "code",
      "metadata": {
        "colab": {
          "base_uri": "https://localhost:8080/"
        },
        "id": "g-E8f8N807Ro",
        "outputId": "e6aa70e1-1514-487c-da89-fdcd395e3fa7"
      },
      "source": [
        "print(train_input.shape,train_target.shape)\n",
        "print(test_input.shape,test_target.shape)"
      ],
      "execution_count": 3,
      "outputs": [
        {
          "output_type": "stream",
          "text": [
            "(60000, 28, 28) (60000,)\n",
            "(10000, 28, 28) (10000,)\n"
          ],
          "name": "stdout"
        }
      ]
    },
    {
      "cell_type": "code",
      "metadata": {
        "colab": {
          "base_uri": "https://localhost:8080/",
          "height": 0
        },
        "id": "xsKJ05Ec1P_f",
        "outputId": "30b60a76-4695-4d20-f894-5407303406c7"
      },
      "source": [
        "import matplotlib.pyplot as plt\n",
        "fig,axs=plt.subplots(1,10,figsize=(10,10))\n",
        "for i in range(10):\n",
        "  axs[i].imshow(train_input[i],cmap='gray_r')\n",
        "  axs[i].axis('off')\n",
        "plt.show()"
      ],
      "execution_count": 4,
      "outputs": [
        {
          "output_type": "display_data",
          "data": {
            "image/png": "[encoded data removed]",
            "text/plain": [
              "<Figure size 720x720 with 10 Axes>"
            ]
          },
          "metadata": {
            "tags": [],
            "needs_background": "light"
          }
        }
      ]
    },
    {
      "cell_type": "code",
      "metadata": {
        "colab": {
          "base_uri": "https://localhost:8080/"
        },
        "id": "3KR9qsEO1vb6",
        "outputId": "012eb99b-9f05-43c8-ef6e-f175c57f9350"
      },
      "source": [
        "print([train_target[i] for i in range (10)])"
      ],
      "execution_count": 5,
      "outputs": [
        {
          "output_type": "stream",
          "text": [
            "[9, 0, 0, 3, 0, 2, 7, 2, 5, 5]\n"
          ],
          "name": "stdout"
        }
      ]
    },
    {
      "cell_type": "code",
      "metadata": {
        "colab": {
          "base_uri": "https://localhost:8080/"
        },
        "id": "uCXy42Wq16e3",
        "outputId": "e3157be5-0277-488f-ea24-3c984b30dad1"
      },
      "source": [
        "import numpy as np\n",
        "print(np.unique(train_target,return_counts=True))"
      ],
      "execution_count": 6,
      "outputs": [
        {
          "output_type": "stream",
          "text": [
            "(array([0, 1, 2, 3, 4, 5, 6, 7, 8, 9], dtype=uint8), array([6000, 6000, 6000, 6000, 6000, 6000, 6000, 6000, 6000, 6000]))\n"
          ],
          "name": "stdout"
        }
      ]
    },
    {
      "cell_type": "markdown",
      "metadata": {
        "id": "-59Tx4yC3Aol"
      },
      "source": [
        "###Logistic Regression\n",
        "\n"
      ]
    },
    {
      "cell_type": "code",
      "metadata": {
        "colab": {
          "base_uri": "https://localhost:8080/"
        },
        "id": "Z0fLtlWA2UWA",
        "outputId": "2137b4f3-813b-4bbc-a1d8-aae40c14589a"
      },
      "source": [
        "train_scaled=train_input/255.0\n",
        "train_scaled=train_scaled.reshape(-1,28*28)\n",
        "\n",
        "print(train_scaled.shape)"
      ],
      "execution_count": 7,
      "outputs": [
        {
          "output_type": "stream",
          "text": [
            "(60000, 784)\n"
          ],
          "name": "stdout"
        }
      ]
    },
    {
      "cell_type": "code",
      "metadata": {
        "colab": {
          "base_uri": "https://localhost:8080/"
        },
        "id": "mPTVB6-d3cGr",
        "outputId": "7d29f27e-1f1d-406e-cdc3-d76209058528"
      },
      "source": [
        "from sklearn.model_selection import cross_validate\n",
        "from sklearn.linear_model import SGDClassifier\n",
        "\n",
        "sc=SGDClassifier(loss='log',max_iter=5,random_state=42)\n",
        "scores=cross_validate(sc,train_scaled,train_target,n_jobs=-1)\n",
        "print(np.mean(scores['test_score']))"
      ],
      "execution_count": 8,
      "outputs": [
        {
          "output_type": "stream",
          "text": [
            "0.8195666666666668\n"
          ],
          "name": "stdout"
        }
      ]
    },
    {
      "cell_type": "markdown",
      "metadata": {
        "id": "I1tdCMrL4y_f"
      },
      "source": [
        "##Tensorflow"
      ]
    },
    {
      "cell_type": "code",
      "metadata": {
        "colab": {
          "base_uri": "https://localhost:8080/"
        },
        "id": "iad4Mn8p0mS-",
        "outputId": "7e73b859-9af1-4fa9-ca80-a3cbc062e91b"
      },
      "source": [
        "import tensorflow as tf\n",
        "from tensorflow import keras\n",
        "\n",
        "from sklearn.model_selection import train_test_split\n",
        "train_scaled,val_scaled,train_target,val_target=train_test_split(train_scaled,train_target,test_size=0.2,random_state=42)\n",
        "\n",
        "print(train_scaled.shape,train_target.shape)\n",
        "print(val_scaled.shape,val_target.shape)"
      ],
      "execution_count": 9,
      "outputs": [
        {
          "output_type": "stream",
          "text": [
            "(48000, 784) (48000,)\n",
            "(12000, 784) (12000,)\n"
          ],
          "name": "stdout"
        }
      ]
    },
    {
      "cell_type": "code",
      "metadata": {
        "colab": {
          "base_uri": "https://localhost:8080/"
        },
        "id": "0kQ5syzQUy0f",
        "outputId": "1df28d5f-91e3-4960-d06a-fb36575d20a5"
      },
      "source": [
        "dense=keras.layers.Dense(10,activation='softmax',input_shape=(784,))\n",
        "model=keras.Sequential(dense)\n",
        "model.compile(loss='sparse_categorical_crossentropy',metrics='accuracy')\n",
        "\n",
        "model.fit(train_scaled,train_target,epochs=5)"
      ],
      "execution_count": 10,
      "outputs": [
        {
          "output_type": "stream",
          "text": [
            "Epoch 1/5\n",
            "1500/1500 [==============================] - 5s 1ms/step - loss: 0.7751 - accuracy: 0.7433\n",
            "Epoch 2/5\n",
            "1500/1500 [==============================] - 2s 1ms/step - loss: 0.4798 - accuracy: 0.8380\n",
            "Epoch 3/5\n",
            "1500/1500 [==============================] - 2s 1ms/step - loss: 0.4672 - accuracy: 0.8441\n",
            "Epoch 4/5\n",
            "1500/1500 [==============================] - 2s 1ms/step - loss: 0.4390 - accuracy: 0.8511\n",
            "Epoch 5/5\n",
            "1500/1500 [==============================] - 2s 1ms/step - loss: 0.4374 - accuracy: 0.8536\n"
          ],
          "name": "stdout"
        },
        {
          "output_type": "execute_result",
          "data": {
            "text/plain": [
              "<tensorflow.python.keras.callbacks.History at 0x7f5b40318990>"
            ]
          },
          "metadata": {
            "tags": []
          },
          "execution_count": 10
        }
      ]
    },
    {
      "cell_type": "code",
      "metadata": {
        "colab": {
          "base_uri": "https://localhost:8080/"
        },
        "id": "RXJXYXuKZlN9",
        "outputId": "36555015-95d2-48a0-ce17-3f449a11305e"
      },
      "source": [
        "model.evaluate(val_scaled,val_target)"
      ],
      "execution_count": 11,
      "outputs": [
        {
          "output_type": "stream",
          "text": [
            "375/375 [==============================] - 1s 1ms/step - loss: 0.4585 - accuracy: 0.8444\n"
          ],
          "name": "stdout"
        },
        {
          "output_type": "execute_result",
          "data": {
            "text/plain": [
              "[0.45846137404441833, 0.8444166779518127]"
            ]
          },
          "metadata": {
            "tags": []
          },
          "execution_count": 11
        }
      ]
    },
    {
      "cell_type": "markdown",
      "metadata": {
        "id": "K7FikD4lc1tL"
      },
      "source": [
        "###Deep Neural"
      ]
    },
    {
      "cell_type": "code",
      "metadata": {
        "colab": {
          "base_uri": "https://localhost:8080/"
        },
        "id": "vVoEzSquZvLr",
        "outputId": "03f770b9-a395-436c-998b-6ebad4cf28ba"
      },
      "source": [
        "dense1=keras.layers.Dense(100,activation='sigmoid',input_shape=(784,))\n",
        "dense2=keras.layers.Dense(10,activation='softmax')\n",
        "model=keras.Sequential([dense1,dense2])\n",
        "model.summary()"
      ],
      "execution_count": 12,
      "outputs": [
        {
          "output_type": "stream",
          "text": [
            "Model: \"sequential_1\"\n",
            "_________________________________________________________________\n",
            "Layer (type)                 Output Shape              Param #   \n",
            "=================================================================\n",
            "dense_1 (Dense)              (None, 100)               78500     \n",
            "_________________________________________________________________\n",
            "dense_2 (Dense)              (None, 10)                1010      \n",
            "=================================================================\n",
            "Total params: 79,510\n",
            "Trainable params: 79,510\n",
            "Non-trainable params: 0\n",
            "_________________________________________________________________\n"
          ],
          "name": "stdout"
        }
      ]
    },
    {
      "cell_type": "code",
      "metadata": {
        "colab": {
          "base_uri": "https://localhost:8080/"
        },
        "id": "P2LrmydueXNV",
        "outputId": "6bdc2b0b-3c7a-4e59-affa-b5c93c6d217f"
      },
      "source": [
        "model=keras.Sequential([\n",
        "  keras.layers.Dense(100,activation='sigmoid',input_shape=(784,),name='hidden'),\n",
        "  keras.layers.Dense(10,activation='softmax',name='output')\n",
        "],name='패션 MNIST 모델')\n",
        "\n",
        "model.summary()"
      ],
      "execution_count": 13,
      "outputs": [
        {
          "output_type": "stream",
          "text": [
            "Model: \"패션 MNIST 모델\"\n",
            "_________________________________________________________________\n",
            "Layer (type)                 Output Shape              Param #   \n",
            "=================================================================\n",
            "hidden (Dense)               (None, 100)               78500     \n",
            "_________________________________________________________________\n",
            "output (Dense)               (None, 10)                1010      \n",
            "=================================================================\n",
            "Total params: 79,510\n",
            "Trainable params: 79,510\n",
            "Non-trainable params: 0\n",
            "_________________________________________________________________\n"
          ],
          "name": "stdout"
        }
      ]
    },
    {
      "cell_type": "code",
      "metadata": {
        "colab": {
          "base_uri": "https://localhost:8080/"
        },
        "id": "6lQY8MBJfLTg",
        "outputId": "dc5f2bea-eae0-4781-dd5d-db97b0bf48c9"
      },
      "source": [
        "model=keras.Sequential()\n",
        "model.add(keras.layers.Dense(100,activation='sigmoid',input_shape=(784,)))\n",
        "model.add(keras.layers.Dense(10,activation='softmax'))\n",
        "\n",
        "model.summary()"
      ],
      "execution_count": 14,
      "outputs": [
        {
          "output_type": "stream",
          "text": [
            "Model: \"sequential_2\"\n",
            "_________________________________________________________________\n",
            "Layer (type)                 Output Shape              Param #   \n",
            "=================================================================\n",
            "dense_3 (Dense)              (None, 100)               78500     \n",
            "_________________________________________________________________\n",
            "dense_4 (Dense)              (None, 10)                1010      \n",
            "=================================================================\n",
            "Total params: 79,510\n",
            "Trainable params: 79,510\n",
            "Non-trainable params: 0\n",
            "_________________________________________________________________\n"
          ],
          "name": "stdout"
        }
      ]
    },
    {
      "cell_type": "code",
      "metadata": {
        "colab": {
          "base_uri": "https://localhost:8080/"
        },
        "id": "ouTy7kjJfaBe",
        "outputId": "8f7cbcfc-b24f-41c2-cb4e-b103f7dce744"
      },
      "source": [
        "model.compile(loss='sparse_categorical_crossentropy',metrics='accuracy')\n",
        "model.fit(train_scaled,train_target,epochs=5)"
      ],
      "execution_count": 15,
      "outputs": [
        {
          "output_type": "stream",
          "text": [
            "Epoch 1/5\n",
            "1500/1500 [==============================] - 3s 2ms/step - loss: 0.7646 - accuracy: 0.7551\n",
            "Epoch 2/5\n",
            "1500/1500 [==============================] - 2s 2ms/step - loss: 0.4215 - accuracy: 0.8480\n",
            "Epoch 3/5\n",
            "1500/1500 [==============================] - 2s 2ms/step - loss: 0.3735 - accuracy: 0.8651\n",
            "Epoch 4/5\n",
            "1500/1500 [==============================] - 2s 2ms/step - loss: 0.3516 - accuracy: 0.8732\n",
            "Epoch 5/5\n",
            "1500/1500 [==============================] - 2s 2ms/step - loss: 0.3285 - accuracy: 0.8806\n"
          ],
          "name": "stdout"
        },
        {
          "output_type": "execute_result",
          "data": {
            "text/plain": [
              "<tensorflow.python.keras.callbacks.History at 0x7f5b40166c90>"
            ]
          },
          "metadata": {
            "tags": []
          },
          "execution_count": 15
        }
      ]
    },
    {
      "cell_type": "markdown",
      "metadata": {
        "id": "-mTa9izafZmK"
      },
      "source": [
        "###ReLU function"
      ]
    },
    {
      "cell_type": "code",
      "metadata": {
        "colab": {
          "base_uri": "https://localhost:8080/"
        },
        "id": "hWoVwS0yftPY",
        "outputId": "6982c1fb-087c-4e1f-c2b0-b09c8081d7e1"
      },
      "source": [
        "model=keras.Sequential()\n",
        "model.add(keras.layers.Flatten(input_shape=(28,28)))\n",
        "model.add(keras.layers.Dense(100,activation='relu'))\n",
        "model.add(keras.layers.Dense(10,activation='softmax'))\n",
        "\n",
        "model.summary()"
      ],
      "execution_count": 16,
      "outputs": [
        {
          "output_type": "stream",
          "text": [
            "Model: \"sequential_3\"\n",
            "_________________________________________________________________\n",
            "Layer (type)                 Output Shape              Param #   \n",
            "=================================================================\n",
            "flatten (Flatten)            (None, 784)               0         \n",
            "_________________________________________________________________\n",
            "dense_5 (Dense)              (None, 100)               78500     \n",
            "_________________________________________________________________\n",
            "dense_6 (Dense)              (None, 10)                1010      \n",
            "=================================================================\n",
            "Total params: 79,510\n",
            "Trainable params: 79,510\n",
            "Non-trainable params: 0\n",
            "_________________________________________________________________\n"
          ],
          "name": "stdout"
        }
      ]
    },
    {
      "cell_type": "code",
      "metadata": {
        "colab": {
          "base_uri": "https://localhost:8080/"
        },
        "id": "q3E0GNzjgW6b",
        "outputId": "aac6a594-7cb9-4b15-a329-e1cca02a3150"
      },
      "source": [
        "(train_input,train_target),(test_input,test_target)=keras.datasets.fashion_mnist.load_data()\n",
        "train_scaled=train_input/255.0\n",
        "train_scaled,val_scaled,train_target,val_target=train_test_split(train_scaled,train_target,test_size=0.2,random_state=42)\n",
        "\n",
        "model.compile(loss='sparse_categorical_crossentropy',metrics='accuracy')\n",
        "model.fit(train_scaled,train_target,epochs=5)"
      ],
      "execution_count": 17,
      "outputs": [
        {
          "output_type": "stream",
          "text": [
            "Epoch 1/5\n",
            "1500/1500 [==============================] - 3s 2ms/step - loss: 0.6765 - accuracy: 0.7598\n",
            "Epoch 2/5\n",
            "1500/1500 [==============================] - 2s 2ms/step - loss: 0.4022 - accuracy: 0.8537\n",
            "Epoch 3/5\n",
            "1500/1500 [==============================] - 2s 2ms/step - loss: 0.3505 - accuracy: 0.8727\n",
            "Epoch 4/5\n",
            "1500/1500 [==============================] - 2s 2ms/step - loss: 0.3377 - accuracy: 0.8788\n",
            "Epoch 5/5\n",
            "1500/1500 [==============================] - 2s 2ms/step - loss: 0.3218 - accuracy: 0.8857\n"
          ],
          "name": "stdout"
        },
        {
          "output_type": "execute_result",
          "data": {
            "text/plain": [
              "<tensorflow.python.keras.callbacks.History at 0x7f5b400f7110>"
            ]
          },
          "metadata": {
            "tags": []
          },
          "execution_count": 17
        }
      ]
    },
    {
      "cell_type": "code",
      "metadata": {
        "colab": {
          "base_uri": "https://localhost:8080/"
        },
        "id": "BODHKOVpg0T-",
        "outputId": "ddbbbe81-8d5b-4cbb-fd70-b304671d74d7"
      },
      "source": [
        "model.evaluate(val_scaled,val_target)"
      ],
      "execution_count": 18,
      "outputs": [
        {
          "output_type": "stream",
          "text": [
            "375/375 [==============================] - 1s 1ms/step - loss: 0.4030 - accuracy: 0.8577\n"
          ],
          "name": "stdout"
        },
        {
          "output_type": "execute_result",
          "data": {
            "text/plain": [
              "[0.4029650092124939, 0.8576666712760925]"
            ]
          },
          "metadata": {
            "tags": []
          },
          "execution_count": 18
        }
      ]
    },
    {
      "cell_type": "markdown",
      "metadata": {
        "id": "5jwSFYPmiQLw"
      },
      "source": [
        "###Optimizer"
      ]
    },
    {
      "cell_type": "code",
      "metadata": {
        "colab": {
          "base_uri": "https://localhost:8080/"
        },
        "id": "tTY63fQ2g8wb",
        "outputId": "b6820c67-f17e-45e5-c63f-49dd12c195d8"
      },
      "source": [
        "model=keras.Sequential()\n",
        "model.add(keras.layers.Flatten(input_shape=(28,28)))\n",
        "model.add(keras.layers.Dense(100,activation='relu'))\n",
        "model.add(keras.layers.Dense(10,activation='softmax'))\n",
        "\n",
        "model.compile(optimizer='adam',loss='sparse_categorical_crossentropy',metrics='accuracy')\n",
        "model.fit(train_scaled,train_target,epochs=5)"
      ],
      "execution_count": 19,
      "outputs": [
        {
          "output_type": "stream",
          "text": [
            "Epoch 1/5\n",
            "1500/1500 [==============================] - 2s 1ms/step - loss: 0.6800 - accuracy: 0.7631\n",
            "Epoch 2/5\n",
            "1500/1500 [==============================] - 2s 1ms/step - loss: 0.4044 - accuracy: 0.8554\n",
            "Epoch 3/5\n",
            "1500/1500 [==============================] - 2s 1ms/step - loss: 0.3587 - accuracy: 0.8693\n",
            "Epoch 4/5\n",
            "1500/1500 [==============================] - 2s 1ms/step - loss: 0.3314 - accuracy: 0.8790\n",
            "Epoch 5/5\n",
            "1500/1500 [==============================] - 2s 1ms/step - loss: 0.3155 - accuracy: 0.8850\n"
          ],
          "name": "stdout"
        },
        {
          "output_type": "execute_result",
          "data": {
            "text/plain": [
              "<tensorflow.python.keras.callbacks.History at 0x7f5afe15e5d0>"
            ]
          },
          "metadata": {
            "tags": []
          },
          "execution_count": 19
        }
      ]
    },
    {
      "cell_type": "code",
      "metadata": {
        "colab": {
          "base_uri": "https://localhost:8080/"
        },
        "id": "ZmxC8A-hit7W",
        "outputId": "43cd1c10-db2c-414b-b3bc-4748c851ddc4"
      },
      "source": [
        "model.evaluate(val_scaled,val_target)"
      ],
      "execution_count": 20,
      "outputs": [
        {
          "output_type": "stream",
          "text": [
            "375/375 [==============================] - 1s 1ms/step - loss: 0.3403 - accuracy: 0.8792\n"
          ],
          "name": "stdout"
        },
        {
          "output_type": "execute_result",
          "data": {
            "text/plain": [
              "[0.3402673900127411, 0.8792499899864197]"
            ]
          },
          "metadata": {
            "tags": []
          },
          "execution_count": 20
        }
      ]
    },
    {
      "cell_type": "markdown",
      "metadata": {
        "id": "VjGqH2k3i3F5"
      },
      "source": [
        "##Model Training"
      ]
    },
    {
      "cell_type": "code",
      "metadata": {
        "id": "54q0uLKcfnf2"
      },
      "source": [
        "(train_input,train_target),(test_input,test_target)=keras.datasets.fashion_mnist.load_data()\n",
        "train_scaled=train_input/255.0\n",
        "train_scaled,val_scaled,train_target,val_target=train_test_split(train_scaled,train_target,test_size=0.2,random_state=42)\n",
        "\n",
        "def model_fn(a_layer=None):\n",
        "  model=keras.Sequential()\n",
        "  model.add(keras.layers.Flatten(input_shape=(28,28)))\n",
        "  model.add(keras.layers.Dense(100,activation='relu'))\n",
        "  if a_layer:\n",
        "    model.add(a_layer)\n",
        "  model.add(keras.layers.Dense(10,activation='softmax'))\n",
        "  return model"
      ],
      "execution_count": 21,
      "outputs": []
    },
    {
      "cell_type": "code",
      "metadata": {
        "colab": {
          "base_uri": "https://localhost:8080/"
        },
        "id": "YuzDR1TiybUS",
        "outputId": "57b574b2-e283-4450-9c55-35cd0a0a3403"
      },
      "source": [
        "model=model_fn()\n",
        "model.summary()"
      ],
      "execution_count": 22,
      "outputs": [
        {
          "output_type": "stream",
          "text": [
            "Model: \"sequential_5\"\n",
            "_________________________________________________________________\n",
            "Layer (type)                 Output Shape              Param #   \n",
            "=================================================================\n",
            "flatten_2 (Flatten)          (None, 784)               0         \n",
            "_________________________________________________________________\n",
            "dense_9 (Dense)              (None, 100)               78500     \n",
            "_________________________________________________________________\n",
            "dense_10 (Dense)             (None, 10)                1010      \n",
            "=================================================================\n",
            "Total params: 79,510\n",
            "Trainable params: 79,510\n",
            "Non-trainable params: 0\n",
            "_________________________________________________________________\n"
          ],
          "name": "stdout"
        }
      ]
    },
    {
      "cell_type": "code",
      "metadata": {
        "id": "9pTDJMlwlYHR"
      },
      "source": [
        "model.compile(loss='sparse_categorical_crossentropy',metrics='accuracy')\n",
        "history=model.fit(train_scaled,train_target,epochs=5,verbose=0)"
      ],
      "execution_count": 23,
      "outputs": []
    },
    {
      "cell_type": "code",
      "metadata": {
        "colab": {
          "base_uri": "https://localhost:8080/"
        },
        "id": "WY2qScamlruE",
        "outputId": "da41da75-6f40-4cc9-a6b8-92f49936631e"
      },
      "source": [
        "print(history.history.keys())"
      ],
      "execution_count": 24,
      "outputs": [
        {
          "output_type": "stream",
          "text": [
            "dict_keys(['loss', 'accuracy'])\n"
          ],
          "name": "stdout"
        }
      ]
    },
    {
      "cell_type": "code",
      "metadata": {
        "colab": {
          "base_uri": "https://localhost:8080/",
          "height": 279
        },
        "id": "Idpxr68Vlz4a",
        "outputId": "52fb7e6a-bf4f-46a8-c92c-7fecf662ecdf"
      },
      "source": [
        "import matplotlib.pyplot as plt\n",
        "plt.plot(history.history['loss'])\n",
        "plt.xlabel('epoch')\n",
        "plt.ylabel('loss')\n",
        "plt.show()"
      ],
      "execution_count": 25,
      "outputs": [
        {
          "output_type": "display_data",
          "data": {
            "image/png": "[encoded data removed]",
            "text/plain": [
              "<Figure size 432x288 with 1 Axes>"
            ]
          },
          "metadata": {
            "tags": [],
            "needs_background": "light"
          }
        }
      ]
    },
    {
      "cell_type": "code",
      "metadata": {
        "colab": {
          "base_uri": "https://localhost:8080/",
          "height": 281
        },
        "id": "PJPMfbSvmBX4",
        "outputId": "01baa3e7-a489-44d2-fffd-b236b220902f"
      },
      "source": [
        "plt.plot(history.history['accuracy'])\n",
        "plt.xlabel('epoch')\n",
        "plt.ylabel('accuracy')\n",
        "plt.show()"
      ],
      "execution_count": 26,
      "outputs": [
        {
          "output_type": "display_data",
          "data": {
            "image/png": "[encoded data removed]",
            "text/plain": [
              "<Figure size 432x288 with 1 Axes>"
            ]
          },
          "metadata": {
            "tags": [],
            "needs_background": "light"
          }
        }
      ]
    },
    {
      "cell_type": "markdown",
      "metadata": {
        "id": "iX6CPOBlmNN7"
      },
      "source": [
        "###Epochs=20"
      ]
    },
    {
      "cell_type": "code",
      "metadata": {
        "colab": {
          "base_uri": "https://localhost:8080/",
          "height": 279
        },
        "id": "0iBCckJImPA-",
        "outputId": "e17b118d-0d8f-44f6-8d3d-71bbb4a14d81"
      },
      "source": [
        "model=model_fn()\n",
        "model.compile(loss='sparse_categorical_crossentropy',metrics='accuracy')\n",
        "history=model.fit(train_scaled,train_target,epochs=20,verbose=0)\n",
        "\n",
        "plt.plot(history.history['loss'])\n",
        "plt.xlabel('epoch')\n",
        "plt.ylabel('loss')\n",
        "plt.show()"
      ],
      "execution_count": 27,
      "outputs": [
        {
          "output_type": "display_data",
          "data": {
            "image/png": "[encoded data removed]",
            "text/plain": [
              "<Figure size 432x288 with 1 Axes>"
            ]
          },
          "metadata": {
            "tags": [],
            "needs_background": "light"
          }
        }
      ]
    },
    {
      "cell_type": "code",
      "metadata": {
        "id": "szRB0azBmb7F"
      },
      "source": [
        "model=model_fn()\n",
        "model.compile(loss='sparse_categorical_crossentropy',metrics='accuracy')\n",
        "history=model.fit(train_scaled,train_target,epochs=20,verbose=0,\n",
        "                  validation_data=(val_scaled,val_target))"
      ],
      "execution_count": 28,
      "outputs": []
    },
    {
      "cell_type": "code",
      "metadata": {
        "colab": {
          "base_uri": "https://localhost:8080/"
        },
        "id": "QIhbl0l9l_fz",
        "outputId": "332ab6f1-7fd8-43bc-e17c-722b784094f1"
      },
      "source": [
        "print(history.history.keys())"
      ],
      "execution_count": 29,
      "outputs": [
        {
          "output_type": "stream",
          "text": [
            "dict_keys(['loss', 'accuracy', 'val_loss', 'val_accuracy'])\n"
          ],
          "name": "stdout"
        }
      ]
    },
    {
      "cell_type": "code",
      "metadata": {
        "colab": {
          "base_uri": "https://localhost:8080/",
          "height": 282
        },
        "id": "HrU4jPlcloWb",
        "outputId": "cb60aa81-548a-422d-cd4c-626f717be4fa"
      },
      "source": [
        "plt.plot(history.history['loss'])\n",
        "plt.plot(history.history['val_loss'])\n",
        "plt.xlabel('epoch')\n",
        "plt.ylabel('loss')\n",
        "plt.legend(['train','val'])\n",
        "plt.show()"
      ],
      "execution_count": 30,
      "outputs": [
        {
          "output_type": "display_data",
          "data": {
            "image/png": "[encoded data removed]",
            "text/plain": [
              "<Figure size 432x288 with 1 Axes>"
            ]
          },
          "metadata": {
            "tags": [],
            "needs_background": "light"
          }
        }
      ]
    },
    {
      "cell_type": "markdown",
      "metadata": {
        "id": "dluSc_pToHp1"
      },
      "source": [
        "###Optimizer"
      ]
    },
    {
      "cell_type": "code",
      "metadata": {
        "colab": {
          "base_uri": "https://localhost:8080/",
          "height": 279
        },
        "id": "WLW22G8ZoKp3",
        "outputId": "f84dd018-1fe7-463d-84f2-0d14cbecf34a"
      },
      "source": [
        "model=model_fn()\n",
        "model.compile(optimizer='adam',loss='sparse_categorical_crossentropy',\n",
        "              metrics='accuracy')\n",
        "history=model.fit(train_scaled,train_target,epochs=20,verbose=0,\n",
        "                  validation_data=(val_scaled,val_target))\n",
        "\n",
        "plt.plot(history.history['loss'])\n",
        "plt.plot(history.history['val_loss'])\n",
        "plt.xlabel('epoch')\n",
        "plt.ylabel('loss')\n",
        "plt.legend(['train','val'])\n",
        "plt.show()"
      ],
      "execution_count": 31,
      "outputs": [
        {
          "output_type": "display_data",
          "data": {
            "image/png": "[encoded data removed]",
            "text/plain": [
              "<Figure size 432x288 with 1 Axes>"
            ]
          },
          "metadata": {
            "tags": [],
            "needs_background": "light"
          }
        }
      ]
    },
    {
      "cell_type": "markdown",
      "metadata": {
        "id": "TiD-9BbPovLR"
      },
      "source": [
        "###Dropout"
      ]
    },
    {
      "cell_type": "code",
      "metadata": {
        "colab": {
          "base_uri": "https://localhost:8080/"
        },
        "id": "wuYtjG6Joxx_",
        "outputId": "52e99759-27d2-4a79-a873-72cd71083dc9"
      },
      "source": [
        "model=model_fn(keras.layers.Dropout(0.3))\n",
        "model.summary()"
      ],
      "execution_count": 32,
      "outputs": [
        {
          "output_type": "stream",
          "text": [
            "Model: \"sequential_9\"\n",
            "_________________________________________________________________\n",
            "Layer (type)                 Output Shape              Param #   \n",
            "=================================================================\n",
            "flatten_6 (Flatten)          (None, 784)               0         \n",
            "_________________________________________________________________\n",
            "dense_17 (Dense)             (None, 100)               78500     \n",
            "_________________________________________________________________\n",
            "dropout (Dropout)            (None, 100)               0         \n",
            "_________________________________________________________________\n",
            "dense_18 (Dense)             (None, 10)                1010      \n",
            "=================================================================\n",
            "Total params: 79,510\n",
            "Trainable params: 79,510\n",
            "Non-trainable params: 0\n",
            "_________________________________________________________________\n"
          ],
          "name": "stdout"
        }
      ]
    },
    {
      "cell_type": "code",
      "metadata": {
        "colab": {
          "base_uri": "https://localhost:8080/",
          "height": 279
        },
        "id": "wDWZOpSWpDgb",
        "outputId": "6514230f-ccd0-410a-e0c0-13a8a53218ab"
      },
      "source": [
        "model.compile(optimizer='adam',loss='sparse_categorical_crossentropy',\n",
        "              metrics='accuracy')\n",
        "history=model.fit(train_scaled,train_target,epochs=20,verbose=0,\n",
        "                  validation_data=(val_scaled,val_target))\n",
        "\n",
        "plt.plot(history.history['loss'])\n",
        "plt.plot(history.history['val_loss'])\n",
        "plt.xlabel('epoch')\n",
        "plt.ylabel('loss')\n",
        "plt.legend(['train','val'])\n",
        "plt.show()"
      ],
      "execution_count": 33,
      "outputs": [
        {
          "output_type": "display_data",
          "data": {
            "image/png": "[encoded data removed]",
            "text/plain": [
              "<Figure size 432x288 with 1 Axes>"
            ]
          },
          "metadata": {
            "tags": [],
            "needs_background": "light"
          }
        }
      ]
    },
    {
      "cell_type": "markdown",
      "metadata": {
        "id": "ZIvHH0j2pofF"
      },
      "source": [
        "###Model Save"
      ]
    },
    {
      "cell_type": "code",
      "metadata": {
        "colab": {
          "base_uri": "https://localhost:8080/"
        },
        "id": "1Ow6v1thpUi8",
        "outputId": "a85be4bc-653c-4e33-d328-228aa5c2a2a6"
      },
      "source": [
        "model=model_fn(keras.layers.Dropout(0.3))\n",
        "model.compile(optimizer='adam',loss='sparse_categorical_crossentropy',\n",
        "              metrics='accuracy')\n",
        "history=model.fit(train_scaled,train_target,epochs=10,verbose=0,\n",
        "                  validation_data=(val_scaled,val_target))\n",
        "\n",
        "model.save_weights('model-weights.h5')\n",
        "model.save('model-whole.h5')\n",
        "\n",
        "!ls -al *.h5"
      ],
      "execution_count": 34,
      "outputs": [
        {
          "output_type": "stream",
          "text": [
            "-rw-r--r-- 1 root root 332480 Mar 22 06:37 model-weights.h5\n",
            "-rw-r--r-- 1 root root 981776 Mar 22 06:37 model-whole.h5\n"
          ],
          "name": "stdout"
        }
      ]
    },
    {
      "cell_type": "code",
      "metadata": {
        "id": "dlIVYEFNprKc"
      },
      "source": [
        "model=model_fn(keras.layers.Dropout(0.3))\n",
        "model.load_weights('model-weights.h5')"
      ],
      "execution_count": 35,
      "outputs": []
    },
    {
      "cell_type": "code",
      "metadata": {
        "colab": {
          "base_uri": "https://localhost:8080/"
        },
        "id": "-WAul1lrqSIv",
        "outputId": "891aab61-8463-4afb-d7f5-2f668171c34b"
      },
      "source": [
        "import numpy as np\n",
        "val_labels=np.argmax(model.predict(val_scaled),axis=-1)\n",
        "print(np.mean(val_labels==val_target))"
      ],
      "execution_count": 38,
      "outputs": [
        {
          "output_type": "stream",
          "text": [
            "0.8839166666666667\n"
          ],
          "name": "stdout"
        }
      ]
    },
    {
      "cell_type": "code",
      "metadata": {
        "colab": {
          "base_uri": "https://localhost:8080/"
        },
        "id": "fFOCvE6lqifU",
        "outputId": "ae86f5b7-b647-460f-eab4-5e64ecad1371"
      },
      "source": [
        "model=keras.models.load_model('model-whole.h5')\n",
        "model.evaluate(val_scaled,val_target)"
      ],
      "execution_count": 39,
      "outputs": [
        {
          "output_type": "stream",
          "text": [
            "375/375 [==============================] - 1s 1ms/step - loss: 0.3265 - accuracy: 0.8839\n"
          ],
          "name": "stdout"
        },
        {
          "output_type": "execute_result",
          "data": {
            "text/plain": [
              "[0.326452374458313, 0.8839166760444641]"
            ]
          },
          "metadata": {
            "tags": []
          },
          "execution_count": 39
        }
      ]
    },
    {
      "cell_type": "markdown",
      "metadata": {
        "id": "0pFpgP8Grbnt"
      },
      "source": [
        "###Callback"
      ]
    },
    {
      "cell_type": "code",
      "metadata": {
        "colab": {
          "base_uri": "https://localhost:8080/"
        },
        "id": "X6b31WFdrchJ",
        "outputId": "966d00ac-accd-4bb0-c349-264dd58dfa09"
      },
      "source": [
        "model=model_fn(keras.layers.Dropout(0.3))\n",
        "model.compile(optimizer='adam',loss='sparse_categorical_crossentropy',\n",
        "              metrics='accuracy')\n",
        "\n",
        "checkpoint_cb=keras.callbacks.ModelCheckpoint('best-model.h5')\n",
        "model.fit(train_scaled,train_target,epochs=20,verbose=0,\n",
        "          validation_data=(val_scaled,val_target),\n",
        "          callbacks=[checkpoint_cb])\n",
        "\n",
        "model=keras.models.load_model('best-model.h5')\n",
        "model.evaluate(val_scaled,val_target)"
      ],
      "execution_count": 40,
      "outputs": [
        {
          "output_type": "stream",
          "text": [
            "375/375 [==============================] - 1s 1ms/step - loss: 0.3193 - accuracy: 0.8866\n"
          ],
          "name": "stdout"
        },
        {
          "output_type": "execute_result",
          "data": {
            "text/plain": [
              "[0.3193037807941437, 0.8865833282470703]"
            ]
          },
          "metadata": {
            "tags": []
          },
          "execution_count": 40
        }
      ]
    },
    {
      "cell_type": "code",
      "metadata": {
        "id": "oJKfLZ14tNJF"
      },
      "source": [
        "model=model_fn(keras.layers.Dropout(0.3))\n",
        "model.compile(optimizer='adam',loss='sparse_categorical_crossentropy',\n",
        "              metrics='accuracy')\n",
        "\n",
        "checkpoint_cb=keras.callbacks.ModelCheckpoint('best-model.h5')\n",
        "early_stopping_cb=keras.callbacks.EarlyStopping(patience=2,restore_best_weights=True)\n",
        "history=model.fit(train_scaled,train_target,epochs=20,verbose=0,\n",
        "                  validation_data=(val_scaled,val_target),\n",
        "                  callbacks=[checkpoint_cb,early_stopping_cb])"
      ],
      "execution_count": 41,
      "outputs": []
    },
    {
      "cell_type": "code",
      "metadata": {
        "colab": {
          "base_uri": "https://localhost:8080/"
        },
        "id": "q1LUlLqftlGc",
        "outputId": "a7a05867-f040-4149-d7b0-de6672974b45"
      },
      "source": [
        "print(early_stopping_cb.stopped_epoch)"
      ],
      "execution_count": 42,
      "outputs": [
        {
          "output_type": "stream",
          "text": [
            "15\n"
          ],
          "name": "stdout"
        }
      ]
    },
    {
      "cell_type": "code",
      "metadata": {
        "colab": {
          "base_uri": "https://localhost:8080/",
          "height": 279
        },
        "id": "FqllvnQ9t69V",
        "outputId": "bb9ab710-369b-4af9-9c59-3199c9e9b895"
      },
      "source": [
        "plt.plot(history.history['loss'])\n",
        "plt.plot(history.history['val_loss'])\n",
        "plt.xlabel('epoch')\n",
        "plt.ylabel('loss')\n",
        "plt.legend(['train','val'])\n",
        "plt.show()"
      ],
      "execution_count": 43,
      "outputs": [
        {
          "output_type": "display_data",
          "data": {
            "image/png": "[encoded data removed]",
            "text/plain": [
              "<Figure size 432x288 with 1 Axes>"
            ]
          },
          "metadata": {
            "tags": [],
            "needs_background": "light"
          }
        }
      ]
    },
    {
      "cell_type": "code",
      "metadata": {
        "colab": {
          "base_uri": "https://localhost:8080/"
        },
        "id": "pKFqBHz3uJah",
        "outputId": "f7576c07-ab86-4f17-e387-c89fc7b6651e"
      },
      "source": [
        "model.evaluate(val_scaled,val_target)"
      ],
      "execution_count": 44,
      "outputs": [
        {
          "output_type": "stream",
          "text": [
            "375/375 [==============================] - 1s 1ms/step - loss: 0.3203 - accuracy: 0.8878\n"
          ],
          "name": "stdout"
        },
        {
          "output_type": "execute_result",
          "data": {
            "text/plain": [
              "[0.3202793598175049, 0.8877500295639038]"
            ]
          },
          "metadata": {
            "tags": []
          },
          "execution_count": 44
        }
      ]
    }
  ]
}