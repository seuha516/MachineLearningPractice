{
  "nbformat": 4,
  "nbformat_minor": 0,
  "metadata": {
    "colab": {
      "name": "BreamAndSmelt2",
      "provenance": [],
      "collapsed_sections": [
        "F-BWnqEzqVbX",
        "67Z-FGUreBv-",
        "6LAfYci_eYK5",
        "vG-3xJRBeqbx",
        "uF3shFtde4DF",
        "E6zEf65noS8c",
        "yUn8mDGdoaKK",
        "E498qPfIooT3",
        "YPotQcBSpAoC"
      ],
      "toc_visible": true,
      "authorship_tag": "ABX9TyNhaRx41i9JWJkhf334TQ5e",
      "include_colab_link": true
    },
    "kernelspec": {
      "name": "python3",
      "display_name": "Python 3"
    }
  },
  "cells": [
    {
      "cell_type": "markdown",
      "metadata": {
        "id": "view-in-github",
        "colab_type": "text"
      },
      "source": [
        "<a href=\"https://colab.research.google.com/github/seuha516/MachineLearning_Practice/blob/main/BreamAndSmelt2.ipynb\" target=\"_parent\"><img src=\"https://colab.research.google.com/assets/colab-badge.svg\" alt=\"Open In Colab\"/></a>"
      ]
    },
    {
      "cell_type": "markdown",
      "metadata": {
        "id": "hVZZMDW1TrpC"
      },
      "source": [
        "# **도미**와 **빙어** 구분하기!"
      ]
    },
    {
      "cell_type": "markdown",
      "metadata": {
        "id": "F-BWnqEzqVbX"
      },
      "source": [
        "## *Data*"
      ]
    },
    {
      "cell_type": "code",
      "metadata": {
        "id": "nbC_UPZTTvRV"
      },
      "source": [
        "fish_length = [25.4, 26.3, 26.5, 29.0, 29.0, 29.7, 29.7, 30.0, 30.0, 30.7, 31.0, 31.0, \r\n",
        "                31.5, 32.0, 32.0, 32.0, 33.0, 33.0, 33.5, 33.5, 34.0, 34.0, 34.5, 35.0, \r\n",
        "                35.0, 35.0, 35.0, 36.0, 36.0, 37.0, 38.5, 38.5, 39.5, 41.0, 41.0, 9.8, \r\n",
        "                10.5, 10.6, 11.0, 11.2, 11.3, 11.8, 11.8, 12.0, 12.2, 12.4, 13.0, 14.3, 15.0]\r\n",
        "fish_weight = [242.0, 290.0, 340.0, 363.0, 430.0, 450.0, 500.0, 390.0, 450.0, 500.0, 475.0, 500.0, \r\n",
        "                500.0, 340.0, 600.0, 600.0, 700.0, 700.0, 610.0, 650.0, 575.0, 685.0, 620.0, 680.0, \r\n",
        "                700.0, 725.0, 720.0, 714.0, 850.0, 1000.0, 920.0, 955.0, 925.0, 975.0, 950.0, 6.7, \r\n",
        "                7.5, 7.0, 9.7, 9.8, 8.7, 10.0, 9.9, 9.8, 12.2, 13.4, 12.2, 19.7, 19.9]\r\n",
        "fish_data=[[l,w] for l,w in zip(fish_length,fish_weight)]\r\n",
        "fish_target=[0]*35+[1]*14"
      ],
      "execution_count": 147,
      "outputs": []
    },
    {
      "cell_type": "markdown",
      "metadata": {
        "id": "67Z-FGUreBv-"
      },
      "source": [
        "## *Train set, Test set (1)*"
      ]
    },
    {
      "cell_type": "code",
      "metadata": {
        "id": "GbF3wdYCd_fi"
      },
      "source": [
        "train_input=fish_data[:35]\r\n",
        "train_target=fish_target[:35]\r\n",
        "test_input=fish_data[35:]\r\n",
        "test_target=fish_target[35:]"
      ],
      "execution_count": 92,
      "outputs": []
    },
    {
      "cell_type": "code",
      "metadata": {
        "colab": {
          "base_uri": "https://localhost:8080/"
        },
        "id": "NOc9INr3URcq",
        "outputId": "7596a9b7-3db5-4bac-f165-79150619ef96"
      },
      "source": [
        "from sklearn.neighbors import KNeighborsClassifier\r\n",
        "kn=KNeighborsClassifier(n_neighbors=5)\r\n",
        "\r\n",
        "# 샘플링 편향\r\n",
        "kn.fit(train_input,train_target)\r\n",
        "kn.score(test_input,test_target) "
      ],
      "execution_count": 93,
      "outputs": [
        {
          "output_type": "execute_result",
          "data": {
            "text/plain": [
              "0.0"
            ]
          },
          "metadata": {
            "tags": []
          },
          "execution_count": 93
        }
      ]
    },
    {
      "cell_type": "markdown",
      "metadata": {
        "id": "6LAfYci_eYK5"
      },
      "source": [
        "## *Train set, Test set (2)*"
      ]
    },
    {
      "cell_type": "markdown",
      "metadata": {
        "id": "vG-3xJRBeqbx"
      },
      "source": [
        "### Numpy"
      ]
    },
    {
      "cell_type": "code",
      "metadata": {
        "id": "rsqUmZE9VKT5"
      },
      "source": [
        "import numpy as np\r\n",
        "\r\n",
        "input_arr=np.array(fish_data)\r\n",
        "target_arr=np.array(fish_target)"
      ],
      "execution_count": 94,
      "outputs": []
    },
    {
      "cell_type": "code",
      "metadata": {
        "colab": {
          "base_uri": "https://localhost:8080/"
        },
        "id": "Dg9n9gGpV7JS",
        "outputId": "203105dc-7d8d-4e54-cfa1-bf1d74383e37"
      },
      "source": [
        "print(input_arr)"
      ],
      "execution_count": 95,
      "outputs": [
        {
          "output_type": "stream",
          "text": [
            "[[  25.4  242. ]\n",
            " [  26.3  290. ]\n",
            " [  26.5  340. ]\n",
            " [  29.   363. ]\n",
            " [  29.   430. ]\n",
            " [  29.7  450. ]\n",
            " [  29.7  500. ]\n",
            " [  30.   390. ]\n",
            " [  30.   450. ]\n",
            " [  30.7  500. ]\n",
            " [  31.   475. ]\n",
            " [  31.   500. ]\n",
            " [  31.5  500. ]\n",
            " [  32.   340. ]\n",
            " [  32.   600. ]\n",
            " [  32.   600. ]\n",
            " [  33.   700. ]\n",
            " [  33.   700. ]\n",
            " [  33.5  610. ]\n",
            " [  33.5  650. ]\n",
            " [  34.   575. ]\n",
            " [  34.   685. ]\n",
            " [  34.5  620. ]\n",
            " [  35.   680. ]\n",
            " [  35.   700. ]\n",
            " [  35.   725. ]\n",
            " [  35.   720. ]\n",
            " [  36.   714. ]\n",
            " [  36.   850. ]\n",
            " [  37.  1000. ]\n",
            " [  38.5  920. ]\n",
            " [  38.5  955. ]\n",
            " [  39.5  925. ]\n",
            " [  41.   975. ]\n",
            " [  41.   950. ]\n",
            " [   9.8    6.7]\n",
            " [  10.5    7.5]\n",
            " [  10.6    7. ]\n",
            " [  11.     9.7]\n",
            " [  11.2    9.8]\n",
            " [  11.3    8.7]\n",
            " [  11.8   10. ]\n",
            " [  11.8    9.9]\n",
            " [  12.     9.8]\n",
            " [  12.2   12.2]\n",
            " [  12.4   13.4]\n",
            " [  13.    12.2]\n",
            " [  14.3   19.7]\n",
            " [  15.    19.9]]\n"
          ],
          "name": "stdout"
        }
      ]
    },
    {
      "cell_type": "code",
      "metadata": {
        "colab": {
          "base_uri": "https://localhost:8080/"
        },
        "id": "R6PMps-LV7LV",
        "outputId": "1c0f21e0-4a44-4f3e-c57f-257b3bdd9116"
      },
      "source": [
        "print(target_arr)"
      ],
      "execution_count": 96,
      "outputs": [
        {
          "output_type": "stream",
          "text": [
            "[0 0 0 0 0 0 0 0 0 0 0 0 0 0 0 0 0 0 0 0 0 0 0 0 0 0 0 0 0 0 0 0 0 0 0 1 1\n",
            " 1 1 1 1 1 1 1 1 1 1 1 1]\n"
          ],
          "name": "stdout"
        }
      ]
    },
    {
      "cell_type": "code",
      "metadata": {
        "colab": {
          "base_uri": "https://localhost:8080/"
        },
        "id": "-qL9iJm-WHZm",
        "outputId": "579f2512-59ae-420e-f03a-51b7fc5431e5"
      },
      "source": [
        "print(input_arr.shape)"
      ],
      "execution_count": 97,
      "outputs": [
        {
          "output_type": "stream",
          "text": [
            "(49, 2)\n"
          ],
          "name": "stdout"
        }
      ]
    },
    {
      "cell_type": "code",
      "metadata": {
        "colab": {
          "base_uri": "https://localhost:8080/"
        },
        "id": "rqGale6ZWN8d",
        "outputId": "2730a0d7-fb91-4147-dfdb-7812f68fe5e5"
      },
      "source": [
        "np.random.seed(42)\r\n",
        "index=np.arange(49)\r\n",
        "np.random.shuffle(index)\r\n",
        "print(index)"
      ],
      "execution_count": 98,
      "outputs": [
        {
          "output_type": "stream",
          "text": [
            "[13 45 47 44 17 27 26 25 31 19 12  4 34  8  3  6 40 41 46 15  9 16 24 33\n",
            " 30  0 43 32  5 29 11 36  1 21  2 37 35 23 39 10 22 18 48 20  7 42 14 28\n",
            " 38]\n"
          ],
          "name": "stdout"
        }
      ]
    },
    {
      "cell_type": "markdown",
      "metadata": {
        "id": "uF3shFtde4DF"
      },
      "source": [
        "### New Data Set"
      ]
    },
    {
      "cell_type": "code",
      "metadata": {
        "id": "q_4gz0teWHby"
      },
      "source": [
        "train_input=input_arr[index[:35]]\r\n",
        "train_target=target_arr[index[:35]]\r\n",
        "test_input=input_arr[index[35:]]\r\n",
        "test_target=target_arr[index[35:]]"
      ],
      "execution_count": 99,
      "outputs": []
    },
    {
      "cell_type": "code",
      "metadata": {
        "colab": {
          "base_uri": "https://localhost:8080/",
          "height": 279
        },
        "id": "jxM3pGP4cRdf",
        "outputId": "885495a1-5023-41d2-bc02-03e1520cb30b"
      },
      "source": [
        "import matplotlib.pyplot as plt\r\n",
        "\r\n",
        "plt.scatter(train_input[:,0], train_input[:,1])\r\n",
        "plt.scatter(test_input[:,0], test_input[:,1])\r\n",
        "plt.xlabel('length')\r\n",
        "plt.ylabel('weight')\r\n",
        "plt.show()"
      ],
      "execution_count": 100,
      "outputs": [
        {
          "output_type": "display_data",
          "data": {
            "image/png": "[encoded data removed]",
            "text/plain": [
              "<Figure size 432x288 with 1 Axes>"
            ]
          },
          "metadata": {
            "tags": [],
            "needs_background": "light"
          }
        }
      ]
    },
    {
      "cell_type": "code",
      "metadata": {
        "colab": {
          "base_uri": "https://localhost:8080/"
        },
        "id": "0oAEPafucvDZ",
        "outputId": "af7fa1af-74f1-41d9-d4b8-b643e4ab1edc"
      },
      "source": [
        "kn.fit(train_input,train_target)\r\n",
        "kn.score(test_input,test_target)"
      ],
      "execution_count": 101,
      "outputs": [
        {
          "output_type": "execute_result",
          "data": {
            "text/plain": [
              "1.0"
            ]
          },
          "metadata": {
            "tags": []
          },
          "execution_count": 101
        }
      ]
    },
    {
      "cell_type": "code",
      "metadata": {
        "colab": {
          "base_uri": "https://localhost:8080/"
        },
        "id": "dI_i2HqWc6AX",
        "outputId": "8d802922-cf9f-4c23-8304-3dc080e96452"
      },
      "source": [
        "print(kn.predict(test_input))\r\n",
        "print(test_target)"
      ],
      "execution_count": 102,
      "outputs": [
        {
          "output_type": "stream",
          "text": [
            "[1 1 0 1 0 0 0 1 0 0 1 0 0 1]\n",
            "[1 1 0 1 0 0 0 1 0 0 1 0 0 1]\n"
          ],
          "name": "stdout"
        }
      ]
    },
    {
      "cell_type": "markdown",
      "metadata": {
        "id": "cgYoWubJgaxz"
      },
      "source": [
        "## *Use Data Preprocessing*"
      ]
    },
    {
      "cell_type": "markdown",
      "metadata": {
        "id": "E6zEf65noS8c"
      },
      "source": [
        "### Numpy"
      ]
    },
    {
      "cell_type": "code",
      "metadata": {
        "colab": {
          "base_uri": "https://localhost:8080/"
        },
        "id": "YZSo_hHWgaUG",
        "outputId": "ead83e25-f768-4377-fbcd-1c630d7837b8"
      },
      "source": [
        "fish_data=np.column_stack((fish_length,fish_weight))\r\n",
        "print(fish_data)"
      ],
      "execution_count": 148,
      "outputs": [
        {
          "output_type": "stream",
          "text": [
            "[[  25.4  242. ]\n",
            " [  26.3  290. ]\n",
            " [  26.5  340. ]\n",
            " [  29.   363. ]\n",
            " [  29.   430. ]\n",
            " [  29.7  450. ]\n",
            " [  29.7  500. ]\n",
            " [  30.   390. ]\n",
            " [  30.   450. ]\n",
            " [  30.7  500. ]\n",
            " [  31.   475. ]\n",
            " [  31.   500. ]\n",
            " [  31.5  500. ]\n",
            " [  32.   340. ]\n",
            " [  32.   600. ]\n",
            " [  32.   600. ]\n",
            " [  33.   700. ]\n",
            " [  33.   700. ]\n",
            " [  33.5  610. ]\n",
            " [  33.5  650. ]\n",
            " [  34.   575. ]\n",
            " [  34.   685. ]\n",
            " [  34.5  620. ]\n",
            " [  35.   680. ]\n",
            " [  35.   700. ]\n",
            " [  35.   725. ]\n",
            " [  35.   720. ]\n",
            " [  36.   714. ]\n",
            " [  36.   850. ]\n",
            " [  37.  1000. ]\n",
            " [  38.5  920. ]\n",
            " [  38.5  955. ]\n",
            " [  39.5  925. ]\n",
            " [  41.   975. ]\n",
            " [  41.   950. ]\n",
            " [   9.8    6.7]\n",
            " [  10.5    7.5]\n",
            " [  10.6    7. ]\n",
            " [  11.     9.7]\n",
            " [  11.2    9.8]\n",
            " [  11.3    8.7]\n",
            " [  11.8   10. ]\n",
            " [  11.8    9.9]\n",
            " [  12.     9.8]\n",
            " [  12.2   12.2]\n",
            " [  12.4   13.4]\n",
            " [  13.    12.2]\n",
            " [  14.3   19.7]\n",
            " [  15.    19.9]]\n"
          ],
          "name": "stdout"
        }
      ]
    },
    {
      "cell_type": "code",
      "metadata": {
        "colab": {
          "base_uri": "https://localhost:8080/"
        },
        "id": "TITokf4UhL6j",
        "outputId": "b3891a8d-8987-4763-92f1-8ac0da857fac"
      },
      "source": [
        "fish_target=np.concatenate((np.zeros(35),(np.ones(14))))\r\n",
        "print(fish_target)"
      ],
      "execution_count": 149,
      "outputs": [
        {
          "output_type": "stream",
          "text": [
            "[0. 0. 0. 0. 0. 0. 0. 0. 0. 0. 0. 0. 0. 0. 0. 0. 0. 0. 0. 0. 0. 0. 0. 0.\n",
            " 0. 0. 0. 0. 0. 0. 0. 0. 0. 0. 0. 1. 1. 1. 1. 1. 1. 1. 1. 1. 1. 1. 1. 1.\n",
            " 1.]\n"
          ],
          "name": "stdout"
        }
      ]
    },
    {
      "cell_type": "markdown",
      "metadata": {
        "id": "yUn8mDGdoaKK"
      },
      "source": [
        "### Train_Test_Split"
      ]
    },
    {
      "cell_type": "code",
      "metadata": {
        "id": "x96joHrchixC"
      },
      "source": [
        "from sklearn.model_selection import train_test_split\r\n",
        "train_input,test_input,train_target,test_target=train_test_split(fish_data,fish_target,random_state=42)"
      ],
      "execution_count": 150,
      "outputs": []
    },
    {
      "cell_type": "code",
      "metadata": {
        "colab": {
          "base_uri": "https://localhost:8080/"
        },
        "id": "qTzqYMBuiD95",
        "outputId": "aa69909e-e27a-448e-e8bc-13c520cd9034"
      },
      "source": [
        "print(train_input.shape,test_input.shape,train_target.shape,test_target.shape)"
      ],
      "execution_count": 151,
      "outputs": [
        {
          "output_type": "stream",
          "text": [
            "(36, 2) (13, 2) (36,) (13,)\n"
          ],
          "name": "stdout"
        }
      ]
    },
    {
      "cell_type": "code",
      "metadata": {
        "colab": {
          "base_uri": "https://localhost:8080/"
        },
        "id": "olIAzycHiXtV",
        "outputId": "9237ea08-194a-41ba-e4e0-ebbcc82e83fe"
      },
      "source": [
        "#샘플링 편향이 나타남\r\n",
        "print(test_target)"
      ],
      "execution_count": 152,
      "outputs": [
        {
          "output_type": "stream",
          "text": [
            "[0. 1. 1. 1. 0. 0. 0. 0. 0. 0. 0. 0. 0.]\n"
          ],
          "name": "stdout"
        }
      ]
    },
    {
      "cell_type": "code",
      "metadata": {
        "colab": {
          "base_uri": "https://localhost:8080/"
        },
        "id": "1ks6QLuiim1h",
        "outputId": "f639e593-f0ca-4b68-b80c-309a498d8a08"
      },
      "source": [
        "train_input,test_input,train_target,test_target=train_test_split(fish_data,fish_target,stratify=fish_target,random_state=42)\r\n",
        "print(test_target)"
      ],
      "execution_count": 153,
      "outputs": [
        {
          "output_type": "stream",
          "text": [
            "[0. 0. 0. 1. 1. 0. 1. 0. 1. 0. 0. 0. 0.]\n"
          ],
          "name": "stdout"
        }
      ]
    },
    {
      "cell_type": "code",
      "metadata": {
        "colab": {
          "base_uri": "https://localhost:8080/"
        },
        "id": "DqoSGCBti5og",
        "outputId": "145b6ae4-e219-4295-d11f-137e58569ab4"
      },
      "source": [
        "kn.fit(train_input,train_target)\r\n",
        "kn.score(test_input,test_target)"
      ],
      "execution_count": 154,
      "outputs": [
        {
          "output_type": "execute_result",
          "data": {
            "text/plain": [
              "1.0"
            ]
          },
          "metadata": {
            "tags": []
          },
          "execution_count": 154
        }
      ]
    },
    {
      "cell_type": "markdown",
      "metadata": {
        "id": "E498qPfIooT3"
      },
      "source": [
        "### New fish : Error!"
      ]
    },
    {
      "cell_type": "code",
      "metadata": {
        "colab": {
          "base_uri": "https://localhost:8080/"
        },
        "id": "M5VhYcbTjGIL",
        "outputId": "d5a487db-9542-460b-9c04-4cc74c722d00"
      },
      "source": [
        "#도미를 빙어로 예측\r\n",
        "print(kn.predict([[25,150]]))"
      ],
      "execution_count": 155,
      "outputs": [
        {
          "output_type": "stream",
          "text": [
            "[1.]\n"
          ],
          "name": "stdout"
        }
      ]
    },
    {
      "cell_type": "code",
      "metadata": {
        "colab": {
          "base_uri": "https://localhost:8080/",
          "height": 279
        },
        "id": "_wr4oEn3jPWz",
        "outputId": "88c2e0e3-82d5-4cb5-85e4-e48c95c37e1a"
      },
      "source": [
        "plt.scatter(train_input[:,0], train_input[:,1])\r\n",
        "plt.scatter(25,150,marker='^')\r\n",
        "plt.xlabel('length')\r\n",
        "plt.ylabel('weight')\r\n",
        "plt.show()"
      ],
      "execution_count": 156,
      "outputs": [
        {
          "output_type": "display_data",
          "data": {
            "image/png": "[encoded data removed]",
            "text/plain": [
              "<Figure size 432x288 with 1 Axes>"
            ]
          },
          "metadata": {
            "tags": [],
            "needs_background": "light"
          }
        }
      ]
    },
    {
      "cell_type": "code",
      "metadata": {
        "colab": {
          "base_uri": "https://localhost:8080/",
          "height": 279
        },
        "id": "xQuOSSdEjfnk",
        "outputId": "7e6c08c0-b59a-43bc-b623-a0c6bae832b2"
      },
      "source": [
        "distances,indexes=kn.kneighbors([[25,150]])\r\n",
        "\r\n",
        "plt.scatter(train_input[:,0], train_input[:,1])\r\n",
        "plt.scatter(25,150,marker='^')\r\n",
        "plt.scatter(train_input[indexes,0],train_input[indexes,1],marker='D')\r\n",
        "plt.xlabel('length')\r\n",
        "plt.ylabel('weight')\r\n",
        "plt.show()"
      ],
      "execution_count": 157,
      "outputs": [
        {
          "output_type": "display_data",
          "data": {
            "image/png": "[encoded data removed]",
            "text/plain": [
              "<Figure size 432x288 with 1 Axes>"
            ]
          },
          "metadata": {
            "tags": [],
            "needs_background": "light"
          }
        }
      ]
    },
    {
      "cell_type": "code",
      "metadata": {
        "colab": {
          "base_uri": "https://localhost:8080/"
        },
        "id": "0Wd1keA7j9wV",
        "outputId": "d52778a2-3d35-458b-b6a8-8e8da454297c"
      },
      "source": [
        "print(train_input[indexes])\r\n",
        "print(train_target[indexes])"
      ],
      "execution_count": 158,
      "outputs": [
        {
          "output_type": "stream",
          "text": [
            "[[[ 25.4 242. ]\n",
            "  [ 14.3  19.7]\n",
            "  [ 12.4  13.4]\n",
            "  [ 12.2  12.2]\n",
            "  [ 26.3 290. ]]]\n",
            "[[0. 1. 1. 1. 0.]]\n"
          ],
          "name": "stdout"
        }
      ]
    },
    {
      "cell_type": "code",
      "metadata": {
        "colab": {
          "base_uri": "https://localhost:8080/"
        },
        "id": "HQyyenD5lo_P",
        "outputId": "28687278-8078-411e-a300-2be12ee5c170"
      },
      "source": [
        "print(distances)"
      ],
      "execution_count": 159,
      "outputs": [
        {
          "output_type": "stream",
          "text": [
            "[[ 92.00086956 130.73859415 137.17988191 138.39320793 140.00603558]]\n"
          ],
          "name": "stdout"
        }
      ]
    },
    {
      "cell_type": "code",
      "metadata": {
        "colab": {
          "base_uri": "https://localhost:8080/",
          "height": 279
        },
        "id": "B4uqgSRNmMgV",
        "outputId": "f881c47e-e5d1-489d-e994-5d9f90399f7d"
      },
      "source": [
        "distances,indexes=kn.kneighbors([[25,150]])\r\n",
        "\r\n",
        "plt.scatter(train_input[:,0], train_input[:,1])\r\n",
        "plt.scatter(25,150,marker='^')\r\n",
        "plt.scatter(train_input[indexes,0],train_input[indexes,1],marker='D')\r\n",
        "plt.xlim((0,1000))\r\n",
        "plt.xlabel('length')\r\n",
        "plt.ylabel('weight')\r\n",
        "plt.show()"
      ],
      "execution_count": 160,
      "outputs": [
        {
          "output_type": "display_data",
          "data": {
            "image/png": "[encoded data removed]",
            "text/plain": [
              "<Figure size 432x288 with 1 Axes>"
            ]
          },
          "metadata": {
            "tags": [],
            "needs_background": "light"
          }
        }
      ]
    },
    {
      "cell_type": "markdown",
      "metadata": {
        "id": "YPotQcBSpAoC"
      },
      "source": [
        "### Use Standard Score"
      ]
    },
    {
      "cell_type": "code",
      "metadata": {
        "colab": {
          "base_uri": "https://localhost:8080/"
        },
        "id": "5VzvKwXJmc3t",
        "outputId": "1f382314-a52e-4ded-fbdf-ccec7a628544"
      },
      "source": [
        "mean=np.mean(train_input,axis=0)\r\n",
        "std=np.std(train_input,axis=0)\r\n",
        "print(mean,std)"
      ],
      "execution_count": 161,
      "outputs": [
        {
          "output_type": "stream",
          "text": [
            "[ 26.93333333 441.98333333] [ 10.09141549 325.61300692]\n"
          ],
          "name": "stdout"
        }
      ]
    },
    {
      "cell_type": "code",
      "metadata": {
        "id": "3nlHKi5BmvaM"
      },
      "source": [
        "train_scaled=(train_input-mean)/std\r\n",
        "test_scaled=(test_input-mean)/std"
      ],
      "execution_count": 162,
      "outputs": []
    },
    {
      "cell_type": "code",
      "metadata": {
        "colab": {
          "base_uri": "https://localhost:8080/",
          "height": 279
        },
        "id": "HuXYruYOm-bx",
        "outputId": "ae3b37cb-c4c5-4c41-8a82-f952ff05e558"
      },
      "source": [
        "new=([25,150]-mean)/std\r\n",
        "\r\n",
        "plt.scatter(train_scaled[:,0], train_scaled[:,1])\r\n",
        "plt.scatter(new[0],new[1],marker='^')\r\n",
        "plt.xlabel('length')\r\n",
        "plt.ylabel('weight')\r\n",
        "plt.show()"
      ],
      "execution_count": 163,
      "outputs": [
        {
          "output_type": "display_data",
          "data": {
            "image/png": "[encoded data removed]",
            "text/plain": [
              "<Figure size 432x288 with 1 Axes>"
            ]
          },
          "metadata": {
            "tags": [],
            "needs_background": "light"
          }
        }
      ]
    },
    {
      "cell_type": "code",
      "metadata": {
        "colab": {
          "base_uri": "https://localhost:8080/"
        },
        "id": "nGPc3jOhnGSC",
        "outputId": "97c68927-cc2a-436f-bc2f-807311da6ff3"
      },
      "source": [
        "kn.fit(train_scaled,train_target)\r\n",
        "kn.score(test_scaled,test_target)"
      ],
      "execution_count": 164,
      "outputs": [
        {
          "output_type": "execute_result",
          "data": {
            "text/plain": [
              "1.0"
            ]
          },
          "metadata": {
            "tags": []
          },
          "execution_count": 164
        }
      ]
    },
    {
      "cell_type": "code",
      "metadata": {
        "colab": {
          "base_uri": "https://localhost:8080/"
        },
        "id": "CWAWIgacnVOP",
        "outputId": "4fdb383b-5fee-4397-d639-aac0ec165c41"
      },
      "source": [
        "#올바른 예측\r\n",
        "print(kn.predict([new]))"
      ],
      "execution_count": 165,
      "outputs": [
        {
          "output_type": "stream",
          "text": [
            "[0.]\n"
          ],
          "name": "stdout"
        }
      ]
    },
    {
      "cell_type": "code",
      "metadata": {
        "colab": {
          "base_uri": "https://localhost:8080/",
          "height": 279
        },
        "id": "y3tKIb70nkJR",
        "outputId": "355240ad-0975-40f1-d0bf-1c0ecdc9c2d4"
      },
      "source": [
        "distances,indexes=kn.kneighbors([new])\r\n",
        "\r\n",
        "plt.scatter(train_scaled[:,0], train_scaled[:,1])\r\n",
        "plt.scatter(new[0],new[1],marker='^')\r\n",
        "plt.scatter(train_scaled[indexes,0],train_scaled[indexes,1],marker='D')\r\n",
        "plt.xlabel('length')\r\n",
        "plt.ylabel('weight')\r\n",
        "plt.show()"
      ],
      "execution_count": 166,
      "outputs": [
        {
          "output_type": "display_data",
          "data": {
            "image/png": "[encoded data removed]",
            "text/plain": [
              "<Figure size 432x288 with 1 Axes>"
            ]
          },
          "metadata": {
            "tags": [],
            "needs_background": "light"
          }
        }
      ]
    }
  ]
}