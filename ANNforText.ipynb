{
  "nbformat": 4,
  "nbformat_minor": 0,
  "metadata": {
    "colab": {
      "name": "ANNforText",
      "provenance": [],
      "collapsed_sections": [
        "eHK0UaTvECWB",
        "1AetFmqHHB-x",
        "q6_9eO12H9QR"
      ],
      "authorship_tag": "ABX9TyM0TAsBv5YIdlkxc9GGX7H4",
      "include_colab_link": true
    },
    "kernelspec": {
      "name": "python3",
      "display_name": "Python 3"
    },
    "language_info": {
      "name": "python"
    }
  },
  "cells": [
    {
      "cell_type": "markdown",
      "metadata": {
        "id": "view-in-github",
        "colab_type": "text"
      },
      "source": [
        "<a href=\"https://colab.research.google.com/github/seuha516/MachineLearningPractice/blob/main/ANNforText.ipynb\" target=\"_parent\"><img src=\"https://colab.research.google.com/assets/colab-badge.svg\" alt=\"Open In Colab\"/></a>"
      ]
    },
    {
      "cell_type": "markdown",
      "metadata": {
        "id": "VL5rY0Busczv"
      },
      "source": [
        "#**텍스트**를 위한 **인공 신경망**"
      ]
    },
    {
      "cell_type": "markdown",
      "metadata": {
        "id": "LYZStFxE341w"
      },
      "source": [
        "##Data"
      ]
    },
    {
      "cell_type": "code",
      "metadata": {
        "colab": {
          "base_uri": "https://localhost:8080/"
        },
        "id": "wMMgM_-j3522",
        "outputId": "eb6f5029-11a5-4386-8f7e-39f57965dd11"
      },
      "source": [
        "from tensorflow.keras.datasets import imdb\n",
        "(train_input,train_target),(test_input,test_target)=imdb.load_data(num_words=500)"
      ],
      "execution_count": 1,
      "outputs": [
        {
          "output_type": "stream",
          "text": [
            "Downloading data from https://storage.googleapis.com/tensorflow/tf-keras-datasets/imdb.npz\n",
            "17465344/17464789 [==============================] - 0s 0us/step\n"
          ],
          "name": "stdout"
        },
        {
          "output_type": "stream",
          "text": [
            "<string>:6: VisibleDeprecationWarning: Creating an ndarray from ragged nested sequences (which is a list-or-tuple of lists-or-tuples-or ndarrays with different lengths or shapes) is deprecated. If you meant to do this, you must specify 'dtype=object' when creating the ndarray\n",
            "/usr/local/lib/python3.7/dist-packages/tensorflow/python/keras/datasets/imdb.py:159: VisibleDeprecationWarning: Creating an ndarray from ragged nested sequences (which is a list-or-tuple of lists-or-tuples-or ndarrays with different lengths or shapes) is deprecated. If you meant to do this, you must specify 'dtype=object' when creating the ndarray\n",
            "  x_train, y_train = np.array(xs[:idx]), np.array(labels[:idx])\n",
            "/usr/local/lib/python3.7/dist-packages/tensorflow/python/keras/datasets/imdb.py:160: VisibleDeprecationWarning: Creating an ndarray from ragged nested sequences (which is a list-or-tuple of lists-or-tuples-or ndarrays with different lengths or shapes) is deprecated. If you meant to do this, you must specify 'dtype=object' when creating the ndarray\n",
            "  x_test, y_test = np.array(xs[idx:]), np.array(labels[idx:])\n"
          ],
          "name": "stderr"
        }
      ]
    },
    {
      "cell_type": "code",
      "metadata": {
        "colab": {
          "base_uri": "https://localhost:8080/"
        },
        "id": "MMBbI2pX45c-",
        "outputId": "5d38c22e-a884-44b6-8388-f573650f4698"
      },
      "source": [
        "print(train_input.shape,test_input.shape)"
      ],
      "execution_count": 2,
      "outputs": [
        {
          "output_type": "stream",
          "text": [
            "(25000,) (25000,)\n"
          ],
          "name": "stdout"
        }
      ]
    },
    {
      "cell_type": "code",
      "metadata": {
        "colab": {
          "base_uri": "https://localhost:8080/"
        },
        "id": "EZ_3TqkTzjCV",
        "outputId": "0f23a0b8-e172-45c5-a399-ce0c8c2192ad"
      },
      "source": [
        "print(len(train_input[0]))\n",
        "print(len(train_input[1]))\n",
        "print(train_input[0])"
      ],
      "execution_count": 3,
      "outputs": [
        {
          "output_type": "stream",
          "text": [
            "218\n",
            "189\n",
            "[1, 14, 22, 16, 43, 2, 2, 2, 2, 65, 458, 2, 66, 2, 4, 173, 36, 256, 5, 25, 100, 43, 2, 112, 50, 2, 2, 9, 35, 480, 284, 5, 150, 4, 172, 112, 167, 2, 336, 385, 39, 4, 172, 2, 2, 17, 2, 38, 13, 447, 4, 192, 50, 16, 6, 147, 2, 19, 14, 22, 4, 2, 2, 469, 4, 22, 71, 87, 12, 16, 43, 2, 38, 76, 15, 13, 2, 4, 22, 17, 2, 17, 12, 16, 2, 18, 2, 5, 62, 386, 12, 8, 316, 8, 106, 5, 4, 2, 2, 16, 480, 66, 2, 33, 4, 130, 12, 16, 38, 2, 5, 25, 124, 51, 36, 135, 48, 25, 2, 33, 6, 22, 12, 215, 28, 77, 52, 5, 14, 407, 16, 82, 2, 8, 4, 107, 117, 2, 15, 256, 4, 2, 7, 2, 5, 2, 36, 71, 43, 2, 476, 26, 400, 317, 46, 7, 4, 2, 2, 13, 104, 88, 4, 381, 15, 297, 98, 32, 2, 56, 26, 141, 6, 194, 2, 18, 4, 226, 22, 21, 134, 476, 26, 480, 5, 144, 30, 2, 18, 51, 36, 28, 224, 92, 25, 104, 4, 226, 65, 16, 38, 2, 88, 12, 16, 283, 5, 16, 2, 113, 103, 32, 15, 16, 2, 19, 178, 32]\n"
          ],
          "name": "stdout"
        }
      ]
    },
    {
      "cell_type": "code",
      "metadata": {
        "colab": {
          "base_uri": "https://localhost:8080/"
        },
        "id": "HiV-n40T6FQO",
        "outputId": "d8a6f9ef-7152-446a-d965-d9082072ddcb"
      },
      "source": [
        "#0: 부정, 1: 긍정\n",
        "print(train_target[:20])"
      ],
      "execution_count": 4,
      "outputs": [
        {
          "output_type": "stream",
          "text": [
            "[1 0 0 1 0 0 1 0 1 0 1 0 0 0 0 0 1 1 0 1]\n"
          ],
          "name": "stdout"
        }
      ]
    },
    {
      "cell_type": "code",
      "metadata": {
        "id": "tCZ-ixIE6K2V"
      },
      "source": [
        "from sklearn.model_selection import train_test_split\n",
        "train_input,val_input,train_target,val_target=train_test_split(train_input,train_target,test_size=0.2,random_state=42)"
      ],
      "execution_count": 5,
      "outputs": []
    },
    {
      "cell_type": "code",
      "metadata": {
        "colab": {
          "base_uri": "https://localhost:8080/"
        },
        "id": "yZvqZZxr6er6",
        "outputId": "d08e7621-f222-4b80-b575-bb63d83a7b7e"
      },
      "source": [
        "import numpy as np\n",
        "lengths=np.array([len(x) for x in train_input])\n",
        "\n",
        "print(np.mean(lengths),np.median(lengths))"
      ],
      "execution_count": 6,
      "outputs": [
        {
          "output_type": "stream",
          "text": [
            "239.00925 178.0\n"
          ],
          "name": "stdout"
        }
      ]
    },
    {
      "cell_type": "code",
      "metadata": {
        "colab": {
          "base_uri": "https://localhost:8080/",
          "height": 279
        },
        "id": "MtkSURhY6s_o",
        "outputId": "ce401109-e362-4e42-d1e7-a6dcca7658ec"
      },
      "source": [
        "import matplotlib.pyplot as plt\n",
        "plt.hist(lengths)\n",
        "plt.xlabel('length')\n",
        "plt.ylabel('frequency')\n",
        "plt.show()"
      ],
      "execution_count": 7,
      "outputs": [
        {
          "output_type": "display_data",
          "data": {
            "image/png": "[encoded data removed]",
            "text/plain": [
              "<Figure size 432x288 with 1 Axes>"
            ]
          },
          "metadata": {
            "tags": [],
            "needs_background": "light"
          }
        }
      ]
    },
    {
      "cell_type": "code",
      "metadata": {
        "colab": {
          "base_uri": "https://localhost:8080/"
        },
        "id": "zdkqw9Vz61IK",
        "outputId": "3a34ebe4-1177-4782-913b-b52b49ab8dd0"
      },
      "source": [
        "#모든 리뷰의 길이를 100으로\n",
        "from tensorflow.keras.preprocessing.sequence import pad_sequences\n",
        "train_seq=pad_sequences(train_input,maxlen=100)\n",
        "val_seq=pad_sequences(val_input,maxlen=100)\n",
        "\n",
        "print(train_seq.shape)"
      ],
      "execution_count": 8,
      "outputs": [
        {
          "output_type": "stream",
          "text": [
            "(20000, 100)\n"
          ],
          "name": "stdout"
        }
      ]
    },
    {
      "cell_type": "code",
      "metadata": {
        "colab": {
          "base_uri": "https://localhost:8080/"
        },
        "id": "BssWy5bu7U9-",
        "outputId": "748ed735-6a7c-4a18-a91e-d5d6884318fb"
      },
      "source": [
        "print(train_seq[0])\n",
        "print(train_input[0][-10:])\n",
        "print(train_seq[5])"
      ],
      "execution_count": 9,
      "outputs": [
        {
          "output_type": "stream",
          "text": [
            "[ 10   4  20   9   2 364 352   5  45   6   2   2  33 269   8   2 142   2\n",
            "   5   2  17  73  17 204   5   2  19  55   2   2  92  66 104  14  20  93\n",
            "  76   2 151  33   4  58  12 188   2 151  12 215  69 224 142  73 237   6\n",
            "   2   7   2   2 188   2 103  14  31  10  10 451   7   2   5   2  80  91\n",
            "   2  30   2  34  14  20 151  50  26 131  49   2  84  46  50  37  80  79\n",
            "   6   2  46   7  14  20  10  10 470 158]\n",
            "[6, 2, 46, 7, 14, 20, 10, 10, 470, 158]\n",
            "[  0   0   0   0   1   2 195  19  49   2   2 190   4   2 352   2 183  10\n",
            "  10  13  82  79   4   2  36  71 269   8   2  25  19  49   7   4   2   2\n",
            "   2   2   2  10  10  48  25  40   2  11   2   2  40   2   2   5   4   2\n",
            "   2  95  14 238  56 129   2  10  10  21   2  94 364 352   2   2  11 190\n",
            "  24 484   2   7  94 205 405  10  10  87   2  34  49   2   7   2   2   2\n",
            "   2   2 290   2  46  48  64  18   4   2]\n"
          ],
          "name": "stdout"
        }
      ]
    },
    {
      "cell_type": "markdown",
      "metadata": {
        "id": "cIwk8yvY72tl"
      },
      "source": [
        "##RNN"
      ]
    },
    {
      "cell_type": "markdown",
      "metadata": {
        "id": "7kCunICL9sNI"
      },
      "source": [
        "###Build"
      ]
    },
    {
      "cell_type": "code",
      "metadata": {
        "id": "zocMb3xa7rZa"
      },
      "source": [
        "from tensorflow import keras\n",
        "\n",
        "model=keras.Sequential()\n",
        "model.add(keras.layers.SimpleRNN(8,input_shape=(100,500)))\n",
        "model.add(keras.layers.Dense(1,activation='sigmoid'))"
      ],
      "execution_count": 11,
      "outputs": []
    },
    {
      "cell_type": "code",
      "metadata": {
        "colab": {
          "base_uri": "https://localhost:8080/"
        },
        "id": "eIxv34nk8V3M",
        "outputId": "74b39cfc-3dd1-44bc-c652-905f3e71230d"
      },
      "source": [
        "train_oh=keras.utils.to_categorical(train_seq)\n",
        "val_oh=keras.utils.to_categorical(val_seq)\n",
        "print(train_oh.shape)"
      ],
      "execution_count": 12,
      "outputs": [
        {
          "output_type": "stream",
          "text": [
            "(20000, 100, 500)\n"
          ],
          "name": "stdout"
        }
      ]
    },
    {
      "cell_type": "code",
      "metadata": {
        "colab": {
          "base_uri": "https://localhost:8080/"
        },
        "id": "O1WtURLt9KTm",
        "outputId": "38f6b927-acc5-44c3-de23-a339d1bce05d"
      },
      "source": [
        "print(train_oh[0][0][:12])\n",
        "print(np.sum(train_oh[0][0]))"
      ],
      "execution_count": 13,
      "outputs": [
        {
          "output_type": "stream",
          "text": [
            "[0. 0. 0. 0. 0. 0. 0. 0. 0. 0. 1. 0.]\n",
            "1.0\n"
          ],
          "name": "stdout"
        }
      ]
    },
    {
      "cell_type": "code",
      "metadata": {
        "colab": {
          "base_uri": "https://localhost:8080/"
        },
        "id": "DTELGcVZ9Unp",
        "outputId": "cc6cbf01-0e7a-4a4f-a9ad-cbeb30ff4cb4"
      },
      "source": [
        "model.summary()"
      ],
      "execution_count": 14,
      "outputs": [
        {
          "output_type": "stream",
          "text": [
            "Model: \"sequential_1\"\n",
            "_________________________________________________________________\n",
            "Layer (type)                 Output Shape              Param #   \n",
            "=================================================================\n",
            "simple_rnn_1 (SimpleRNN)     (None, 8)                 4072      \n",
            "_________________________________________________________________\n",
            "dense_1 (Dense)              (None, 1)                 9         \n",
            "=================================================================\n",
            "Total params: 4,081\n",
            "Trainable params: 4,081\n",
            "Non-trainable params: 0\n",
            "_________________________________________________________________\n"
          ],
          "name": "stdout"
        }
      ]
    },
    {
      "cell_type": "markdown",
      "metadata": {
        "id": "WqavMDSQ9ua5"
      },
      "source": [
        "###Training"
      ]
    },
    {
      "cell_type": "code",
      "metadata": {
        "colab": {
          "base_uri": "https://localhost:8080/"
        },
        "id": "A6o36hza9eJ6",
        "outputId": "a3daafde-c0c7-41f0-cac4-feda49d3f79b"
      },
      "source": [
        "rmsprop=keras.optimizers.RMSprop(learning_rate=1e-4)\n",
        "\n",
        "model.compile(optimizer=rmsprop,loss='binary_crossentropy',metrics=['accuracy'])\n",
        "checkpoint_cb=keras.callbacks.ModelCheckpoint('best-simplernn-model.h5')\n",
        "early_stopping_cb=keras.callbacks.EarlyStopping(patience=3,restore_best_weights=True)\n",
        "\n",
        "history=model.fit(train_oh,train_target,epochs=100,batch_size=64,\n",
        "                  validation_data=(val_oh,val_target),\n",
        "                  callbacks=[checkpoint_cb,early_stopping_cb])"
      ],
      "execution_count": 15,
      "outputs": [
        {
          "output_type": "stream",
          "text": [
            "Epoch 1/100\n",
            "313/313 [==============================] - 12s 34ms/step - loss: 0.6971 - accuracy: 0.5036 - val_loss: 0.6941 - val_accuracy: 0.5146\n",
            "Epoch 2/100\n",
            "313/313 [==============================] - 10s 33ms/step - loss: 0.6935 - accuracy: 0.5168 - val_loss: 0.6929 - val_accuracy: 0.5188\n",
            "Epoch 3/100\n",
            "313/313 [==============================] - 11s 34ms/step - loss: 0.6921 - accuracy: 0.5229 - val_loss: 0.6920 - val_accuracy: 0.5222\n",
            "Epoch 4/100\n",
            "313/313 [==============================] - 10s 33ms/step - loss: 0.6914 - accuracy: 0.5250 - val_loss: 0.6912 - val_accuracy: 0.5280\n",
            "Epoch 5/100\n",
            "313/313 [==============================] - 10s 32ms/step - loss: 0.6892 - accuracy: 0.5413 - val_loss: 0.6904 - val_accuracy: 0.5312\n",
            "Epoch 6/100\n",
            "313/313 [==============================] - 10s 32ms/step - loss: 0.6885 - accuracy: 0.5404 - val_loss: 0.6897 - val_accuracy: 0.5344\n",
            "Epoch 7/100\n",
            "313/313 [==============================] - 10s 33ms/step - loss: 0.6876 - accuracy: 0.5440 - val_loss: 0.6890 - val_accuracy: 0.5366\n",
            "Epoch 8/100\n",
            "313/313 [==============================] - 10s 33ms/step - loss: 0.6858 - accuracy: 0.5554 - val_loss: 0.6884 - val_accuracy: 0.5382\n",
            "Epoch 9/100\n",
            "313/313 [==============================] - 10s 32ms/step - loss: 0.6843 - accuracy: 0.5597 - val_loss: 0.6878 - val_accuracy: 0.5422\n",
            "Epoch 10/100\n",
            "313/313 [==============================] - 10s 32ms/step - loss: 0.6828 - accuracy: 0.5629 - val_loss: 0.6872 - val_accuracy: 0.5434\n",
            "Epoch 11/100\n",
            "313/313 [==============================] - 10s 33ms/step - loss: 0.6820 - accuracy: 0.5669 - val_loss: 0.6867 - val_accuracy: 0.5448\n",
            "Epoch 12/100\n",
            "313/313 [==============================] - 10s 33ms/step - loss: 0.6820 - accuracy: 0.5673 - val_loss: 0.6862 - val_accuracy: 0.5462\n",
            "Epoch 13/100\n",
            "313/313 [==============================] - 10s 32ms/step - loss: 0.6792 - accuracy: 0.5744 - val_loss: 0.6855 - val_accuracy: 0.5474\n",
            "Epoch 14/100\n",
            "313/313 [==============================] - 10s 32ms/step - loss: 0.6773 - accuracy: 0.5789 - val_loss: 0.6848 - val_accuracy: 0.5472\n",
            "Epoch 15/100\n",
            "313/313 [==============================] - 10s 33ms/step - loss: 0.6771 - accuracy: 0.5810 - val_loss: 0.6836 - val_accuracy: 0.5532\n",
            "Epoch 16/100\n",
            "313/313 [==============================] - 10s 33ms/step - loss: 0.6734 - accuracy: 0.5896 - val_loss: 0.6800 - val_accuracy: 0.5644\n",
            "Epoch 17/100\n",
            "313/313 [==============================] - 10s 32ms/step - loss: 0.6685 - accuracy: 0.6037 - val_loss: 0.6726 - val_accuracy: 0.5946\n",
            "Epoch 18/100\n",
            "313/313 [==============================] - 10s 32ms/step - loss: 0.6596 - accuracy: 0.6318 - val_loss: 0.6604 - val_accuracy: 0.6290\n",
            "Epoch 19/100\n",
            "313/313 [==============================] - 10s 32ms/step - loss: 0.6463 - accuracy: 0.6515 - val_loss: 0.6458 - val_accuracy: 0.6546\n",
            "Epoch 20/100\n",
            "313/313 [==============================] - 10s 33ms/step - loss: 0.6270 - accuracy: 0.6882 - val_loss: 0.6290 - val_accuracy: 0.6832\n",
            "Epoch 21/100\n",
            "313/313 [==============================] - 10s 33ms/step - loss: 0.6107 - accuracy: 0.7079 - val_loss: 0.6124 - val_accuracy: 0.6924\n",
            "Epoch 22/100\n",
            "313/313 [==============================] - 10s 32ms/step - loss: 0.5929 - accuracy: 0.7218 - val_loss: 0.5956 - val_accuracy: 0.7124\n",
            "Epoch 23/100\n",
            "313/313 [==============================] - 10s 32ms/step - loss: 0.5734 - accuracy: 0.7384 - val_loss: 0.5810 - val_accuracy: 0.7170\n",
            "Epoch 24/100\n",
            "313/313 [==============================] - 10s 32ms/step - loss: 0.5577 - accuracy: 0.7507 - val_loss: 0.5675 - val_accuracy: 0.7278\n",
            "Epoch 25/100\n",
            "313/313 [==============================] - 10s 32ms/step - loss: 0.5436 - accuracy: 0.7547 - val_loss: 0.5529 - val_accuracy: 0.7404\n",
            "Epoch 26/100\n",
            "313/313 [==============================] - 10s 32ms/step - loss: 0.5266 - accuracy: 0.7660 - val_loss: 0.5435 - val_accuracy: 0.7478\n",
            "Epoch 27/100\n",
            "313/313 [==============================] - 10s 32ms/step - loss: 0.5135 - accuracy: 0.7740 - val_loss: 0.5323 - val_accuracy: 0.7532\n",
            "Epoch 28/100\n",
            "313/313 [==============================] - 10s 32ms/step - loss: 0.4988 - accuracy: 0.7819 - val_loss: 0.5228 - val_accuracy: 0.7584\n",
            "Epoch 29/100\n",
            "313/313 [==============================] - 10s 32ms/step - loss: 0.4904 - accuracy: 0.7832 - val_loss: 0.5131 - val_accuracy: 0.7646\n",
            "Epoch 30/100\n",
            "313/313 [==============================] - 10s 32ms/step - loss: 0.4815 - accuracy: 0.7887 - val_loss: 0.5074 - val_accuracy: 0.7670\n",
            "Epoch 31/100\n",
            "313/313 [==============================] - 10s 31ms/step - loss: 0.4782 - accuracy: 0.7878 - val_loss: 0.5013 - val_accuracy: 0.7698\n",
            "Epoch 32/100\n",
            "313/313 [==============================] - 10s 32ms/step - loss: 0.4671 - accuracy: 0.7964 - val_loss: 0.4970 - val_accuracy: 0.7738\n",
            "Epoch 33/100\n",
            "313/313 [==============================] - 10s 33ms/step - loss: 0.4583 - accuracy: 0.8030 - val_loss: 0.4903 - val_accuracy: 0.7766\n",
            "Epoch 34/100\n",
            "313/313 [==============================] - 10s 32ms/step - loss: 0.4560 - accuracy: 0.8000 - val_loss: 0.4889 - val_accuracy: 0.7778\n",
            "Epoch 35/100\n",
            "313/313 [==============================] - 10s 32ms/step - loss: 0.4424 - accuracy: 0.8083 - val_loss: 0.4859 - val_accuracy: 0.7780\n",
            "Epoch 36/100\n",
            "313/313 [==============================] - 10s 32ms/step - loss: 0.4444 - accuracy: 0.8046 - val_loss: 0.4796 - val_accuracy: 0.7814\n",
            "Epoch 37/100\n",
            "313/313 [==============================] - 13s 40ms/step - loss: 0.4386 - accuracy: 0.8116 - val_loss: 0.4782 - val_accuracy: 0.7848\n",
            "Epoch 38/100\n",
            "313/313 [==============================] - 10s 33ms/step - loss: 0.4323 - accuracy: 0.8151 - val_loss: 0.4753 - val_accuracy: 0.7844\n",
            "Epoch 39/100\n",
            "313/313 [==============================] - 10s 33ms/step - loss: 0.4310 - accuracy: 0.8137 - val_loss: 0.4759 - val_accuracy: 0.7842\n",
            "Epoch 40/100\n",
            "313/313 [==============================] - 10s 32ms/step - loss: 0.4316 - accuracy: 0.8100 - val_loss: 0.4701 - val_accuracy: 0.7864\n",
            "Epoch 41/100\n",
            "313/313 [==============================] - 10s 33ms/step - loss: 0.4266 - accuracy: 0.8108 - val_loss: 0.4721 - val_accuracy: 0.7862\n",
            "Epoch 42/100\n",
            "313/313 [==============================] - 10s 33ms/step - loss: 0.4225 - accuracy: 0.8138 - val_loss: 0.4684 - val_accuracy: 0.7874\n",
            "Epoch 43/100\n",
            "313/313 [==============================] - 10s 33ms/step - loss: 0.4178 - accuracy: 0.8197 - val_loss: 0.4671 - val_accuracy: 0.7868\n",
            "Epoch 44/100\n",
            "313/313 [==============================] - 10s 33ms/step - loss: 0.4182 - accuracy: 0.8159 - val_loss: 0.4710 - val_accuracy: 0.7864\n",
            "Epoch 45/100\n",
            "313/313 [==============================] - 10s 33ms/step - loss: 0.4137 - accuracy: 0.8198 - val_loss: 0.4660 - val_accuracy: 0.7862\n",
            "Epoch 46/100\n",
            "313/313 [==============================] - 10s 33ms/step - loss: 0.4169 - accuracy: 0.8220 - val_loss: 0.4664 - val_accuracy: 0.7876\n",
            "Epoch 47/100\n",
            "313/313 [==============================] - 10s 33ms/step - loss: 0.4140 - accuracy: 0.8186 - val_loss: 0.4659 - val_accuracy: 0.7854\n",
            "Epoch 48/100\n",
            "313/313 [==============================] - 10s 33ms/step - loss: 0.4132 - accuracy: 0.8227 - val_loss: 0.4652 - val_accuracy: 0.7866\n",
            "Epoch 49/100\n",
            "313/313 [==============================] - 10s 33ms/step - loss: 0.4064 - accuracy: 0.8240 - val_loss: 0.4685 - val_accuracy: 0.7886\n",
            "Epoch 50/100\n",
            "313/313 [==============================] - 10s 32ms/step - loss: 0.4080 - accuracy: 0.8237 - val_loss: 0.4706 - val_accuracy: 0.7844\n",
            "Epoch 51/100\n",
            "313/313 [==============================] - 10s 33ms/step - loss: 0.4049 - accuracy: 0.8241 - val_loss: 0.4661 - val_accuracy: 0.7886\n"
          ],
          "name": "stdout"
        }
      ]
    },
    {
      "cell_type": "code",
      "metadata": {
        "colab": {
          "base_uri": "https://localhost:8080/",
          "height": 279
        },
        "id": "Uj-qi4_O-jfS",
        "outputId": "6b02a51d-2bcc-4ae3-d19f-73b7f2487324"
      },
      "source": [
        "plt.plot(history.history['loss'])\n",
        "plt.plot(history.history['val_loss'])\n",
        "plt.xlabel('epoch')\n",
        "plt.ylabel('loss')\n",
        "plt.legend(['train','val'])\n",
        "plt.show()"
      ],
      "execution_count": 16,
      "outputs": [
        {
          "output_type": "display_data",
          "data": {
            "image/png": "[encoded data removed]",
            "text/plain": [
              "<Figure size 432x288 with 1 Axes>"
            ]
          },
          "metadata": {
            "tags": [],
            "needs_background": "light"
          }
        }
      ]
    },
    {
      "cell_type": "code",
      "metadata": {
        "colab": {
          "base_uri": "https://localhost:8080/"
        },
        "id": "Bvnfmpxr9dY_",
        "outputId": "a6ca0eb4-1867-49a7-fb6c-96b965da5457"
      },
      "source": [
        "#원-핫 인코딩 사용으로 인해 입력 데이터가 커짐\n",
        "print(train_seq.nbytes,train_oh.nbytes)"
      ],
      "execution_count": 17,
      "outputs": [
        {
          "output_type": "stream",
          "text": [
            "8000000 4000000000\n"
          ],
          "name": "stdout"
        }
      ]
    },
    {
      "cell_type": "markdown",
      "metadata": {
        "id": "8v9mU7Pp_kvA"
      },
      "source": [
        "###Word Embedding"
      ]
    },
    {
      "cell_type": "code",
      "metadata": {
        "colab": {
          "base_uri": "https://localhost:8080/"
        },
        "id": "ISrfpit76CWU",
        "outputId": "e204d98d-aae2-4b4a-e903-310ea042dbc9"
      },
      "source": [
        "model2=keras.Sequential()\n",
        "\n",
        "model2.add(keras.layers.Embedding(500,16,input_length=100))\n",
        "model2.add(keras.layers.SimpleRNN(8))\n",
        "model2.add(keras.layers.Dense(1,activation='sigmoid'))\n",
        "\n",
        "model2.summary()"
      ],
      "execution_count": 18,
      "outputs": [
        {
          "output_type": "stream",
          "text": [
            "Model: \"sequential_2\"\n",
            "_________________________________________________________________\n",
            "Layer (type)                 Output Shape              Param #   \n",
            "=================================================================\n",
            "embedding (Embedding)        (None, 100, 16)           8000      \n",
            "_________________________________________________________________\n",
            "simple_rnn_2 (SimpleRNN)     (None, 8)                 200       \n",
            "_________________________________________________________________\n",
            "dense_2 (Dense)              (None, 1)                 9         \n",
            "=================================================================\n",
            "Total params: 8,209\n",
            "Trainable params: 8,209\n",
            "Non-trainable params: 0\n",
            "_________________________________________________________________\n"
          ],
          "name": "stdout"
        }
      ]
    },
    {
      "cell_type": "code",
      "metadata": {
        "colab": {
          "base_uri": "https://localhost:8080/"
        },
        "id": "KoNpr561BqpX",
        "outputId": "ac63c099-8233-4183-be56-f66fcf488c8c"
      },
      "source": [
        "rmsprop=keras.optimizers.RMSprop(learning_rate=1e-4)\n",
        "\n",
        "model2.compile(optimizer=rmsprop,loss='binary_crossentropy',metrics=['accuracy'])\n",
        "checkpoint_cb=keras.callbacks.ModelCheckpoint('best-embedding-model.h5')\n",
        "early_stopping_cb=keras.callbacks.EarlyStopping(patience=3,restore_best_weights=True)\n",
        "\n",
        "history=model2.fit(train_seq,train_target,epochs=100,batch_size=64,\n",
        "                  validation_data=(val_seq,val_target),\n",
        "                  callbacks=[checkpoint_cb,early_stopping_cb])"
      ],
      "execution_count": 19,
      "outputs": [
        {
          "output_type": "stream",
          "text": [
            "Epoch 1/100\n",
            "313/313 [==============================] - 6s 16ms/step - loss: 0.6963 - accuracy: 0.5059 - val_loss: 0.6920 - val_accuracy: 0.5160\n",
            "Epoch 2/100\n",
            "313/313 [==============================] - 5s 16ms/step - loss: 0.6890 - accuracy: 0.5397 - val_loss: 0.6793 - val_accuracy: 0.5996\n",
            "Epoch 3/100\n",
            "313/313 [==============================] - 5s 17ms/step - loss: 0.6722 - accuracy: 0.6275 - val_loss: 0.6606 - val_accuracy: 0.6560\n",
            "Epoch 4/100\n",
            "313/313 [==============================] - 5s 16ms/step - loss: 0.6501 - accuracy: 0.6920 - val_loss: 0.6478 - val_accuracy: 0.6682\n",
            "Epoch 5/100\n",
            "313/313 [==============================] - 5s 16ms/step - loss: 0.6350 - accuracy: 0.7054 - val_loss: 0.6261 - val_accuracy: 0.7190\n",
            "Epoch 6/100\n",
            "313/313 [==============================] - 5s 17ms/step - loss: 0.6172 - accuracy: 0.7323 - val_loss: 0.6204 - val_accuracy: 0.6978\n",
            "Epoch 7/100\n",
            "313/313 [==============================] - 5s 16ms/step - loss: 0.6051 - accuracy: 0.7354 - val_loss: 0.6017 - val_accuracy: 0.7292\n",
            "Epoch 8/100\n",
            "313/313 [==============================] - 5s 16ms/step - loss: 0.5943 - accuracy: 0.7354 - val_loss: 0.5941 - val_accuracy: 0.7232\n",
            "Epoch 9/100\n",
            "313/313 [==============================] - 5s 17ms/step - loss: 0.5842 - accuracy: 0.7354 - val_loss: 0.5828 - val_accuracy: 0.7274\n",
            "Epoch 10/100\n",
            "313/313 [==============================] - 5s 16ms/step - loss: 0.5688 - accuracy: 0.7456 - val_loss: 0.5755 - val_accuracy: 0.7340\n",
            "Epoch 11/100\n",
            "313/313 [==============================] - 5s 17ms/step - loss: 0.5547 - accuracy: 0.7564 - val_loss: 0.5660 - val_accuracy: 0.7376\n",
            "Epoch 12/100\n",
            "313/313 [==============================] - 5s 16ms/step - loss: 0.5454 - accuracy: 0.7583 - val_loss: 0.5547 - val_accuracy: 0.7422\n",
            "Epoch 13/100\n",
            "313/313 [==============================] - 5s 16ms/step - loss: 0.5393 - accuracy: 0.7552 - val_loss: 0.5497 - val_accuracy: 0.7446\n",
            "Epoch 14/100\n",
            "313/313 [==============================] - 5s 17ms/step - loss: 0.5309 - accuracy: 0.7614 - val_loss: 0.5445 - val_accuracy: 0.7432\n",
            "Epoch 15/100\n",
            "313/313 [==============================] - 5s 16ms/step - loss: 0.5246 - accuracy: 0.7652 - val_loss: 0.5436 - val_accuracy: 0.7392\n",
            "Epoch 16/100\n",
            "313/313 [==============================] - 5s 16ms/step - loss: 0.5257 - accuracy: 0.7574 - val_loss: 0.5342 - val_accuracy: 0.7474\n",
            "Epoch 17/100\n",
            "313/313 [==============================] - 5s 16ms/step - loss: 0.5175 - accuracy: 0.7628 - val_loss: 0.5382 - val_accuracy: 0.7418\n",
            "Epoch 18/100\n",
            "313/313 [==============================] - 5s 16ms/step - loss: 0.5130 - accuracy: 0.7651 - val_loss: 0.5401 - val_accuracy: 0.7424\n",
            "Epoch 19/100\n",
            "313/313 [==============================] - 5s 16ms/step - loss: 0.5054 - accuracy: 0.7713 - val_loss: 0.5384 - val_accuracy: 0.7422\n"
          ],
          "name": "stdout"
        }
      ]
    },
    {
      "cell_type": "code",
      "metadata": {
        "colab": {
          "base_uri": "https://localhost:8080/",
          "height": 279
        },
        "id": "Ff23u_l4sawZ",
        "outputId": "1f880e44-118a-470a-8a65-2d1699aba481"
      },
      "source": [
        "plt.plot(history.history['loss'])\n",
        "plt.plot(history.history['val_loss'])\n",
        "plt.xlabel('epoch')\n",
        "plt.ylabel('loss')\n",
        "plt.legend(['train','val'])\n",
        "plt.show()"
      ],
      "execution_count": 20,
      "outputs": [
        {
          "output_type": "display_data",
          "data": {
            "image/png": "[encoded data removed]",
            "text/plain": [
              "<Figure size 432x288 with 1 Axes>"
            ]
          },
          "metadata": {
            "tags": [],
            "needs_background": "light"
          }
        }
      ]
    },
    {
      "cell_type": "markdown",
      "metadata": {
        "id": "eHK0UaTvECWB"
      },
      "source": [
        "##LSTM"
      ]
    },
    {
      "cell_type": "code",
      "metadata": {
        "colab": {
          "base_uri": "https://localhost:8080/"
        },
        "id": "gRpQpQ5WFiBZ",
        "outputId": "01da1366-7cf1-4e9a-e735-e983b2d841c0"
      },
      "source": [
        "from tensorflow import keras\n",
        "\n",
        "model=keras.Sequential()\n",
        "model.add(keras.layers.Embedding(500,16,input_length=100))\n",
        "model.add(keras.layers.LSTM(8))\n",
        "model.add(keras.layers.Dense(1,activation='sigmoid'))\n",
        "\n",
        "model.summary()"
      ],
      "execution_count": 21,
      "outputs": [
        {
          "output_type": "stream",
          "text": [
            "Model: \"sequential_3\"\n",
            "_________________________________________________________________\n",
            "Layer (type)                 Output Shape              Param #   \n",
            "=================================================================\n",
            "embedding_1 (Embedding)      (None, 100, 16)           8000      \n",
            "_________________________________________________________________\n",
            "lstm (LSTM)                  (None, 8)                 800       \n",
            "_________________________________________________________________\n",
            "dense_3 (Dense)              (None, 1)                 9         \n",
            "=================================================================\n",
            "Total params: 8,809\n",
            "Trainable params: 8,809\n",
            "Non-trainable params: 0\n",
            "_________________________________________________________________\n"
          ],
          "name": "stdout"
        }
      ]
    },
    {
      "cell_type": "code",
      "metadata": {
        "colab": {
          "base_uri": "https://localhost:8080/"
        },
        "id": "S4G6FQPFF4iX",
        "outputId": "c8790f05-0c4b-433e-b5c3-88742f6c5d08"
      },
      "source": [
        "rmsprop=keras.optimizers.RMSprop(learning_rate=1e-4)\n",
        "\n",
        "model.compile(optimizer=rmsprop,loss='binary_crossentropy',metrics=['accuracy'])\n",
        "checkpoint_cb=keras.callbacks.ModelCheckpoint('best-lstm-model.h5')\n",
        "early_stopping_cb=keras.callbacks.EarlyStopping(patience=3,restore_best_weights=True)\n",
        "\n",
        "history=model.fit(train_seq,train_target,epochs=100,batch_size=64,\n",
        "                  validation_data=(val_seq,val_target),\n",
        "                  callbacks=[checkpoint_cb,early_stopping_cb])"
      ],
      "execution_count": 22,
      "outputs": [
        {
          "output_type": "stream",
          "text": [
            "Epoch 1/100\n",
            "313/313 [==============================] - 12s 34ms/step - loss: 0.6922 - accuracy: 0.5543 - val_loss: 0.6903 - val_accuracy: 0.5946\n",
            "Epoch 2/100\n",
            "313/313 [==============================] - 10s 32ms/step - loss: 0.6888 - accuracy: 0.6178 - val_loss: 0.6837 - val_accuracy: 0.6434\n",
            "Epoch 3/100\n",
            "313/313 [==============================] - 10s 32ms/step - loss: 0.6799 - accuracy: 0.6530 - val_loss: 0.6585 - val_accuracy: 0.6698\n",
            "Epoch 4/100\n",
            "313/313 [==============================] - 10s 32ms/step - loss: 0.6333 - accuracy: 0.7000 - val_loss: 0.5669 - val_accuracy: 0.7276\n",
            "Epoch 5/100\n",
            "313/313 [==============================] - 10s 32ms/step - loss: 0.5560 - accuracy: 0.7310 - val_loss: 0.5352 - val_accuracy: 0.7436\n",
            "Epoch 6/100\n",
            "313/313 [==============================] - 10s 32ms/step - loss: 0.5264 - accuracy: 0.7515 - val_loss: 0.5129 - val_accuracy: 0.7624\n",
            "Epoch 7/100\n",
            "313/313 [==============================] - 10s 32ms/step - loss: 0.4989 - accuracy: 0.7743 - val_loss: 0.4962 - val_accuracy: 0.7730\n",
            "Epoch 8/100\n",
            "313/313 [==============================] - 10s 32ms/step - loss: 0.4814 - accuracy: 0.7818 - val_loss: 0.4842 - val_accuracy: 0.7800\n",
            "Epoch 9/100\n",
            "313/313 [==============================] - 10s 32ms/step - loss: 0.4748 - accuracy: 0.7849 - val_loss: 0.4749 - val_accuracy: 0.7852\n",
            "Epoch 10/100\n",
            "313/313 [==============================] - 10s 32ms/step - loss: 0.4607 - accuracy: 0.7937 - val_loss: 0.4664 - val_accuracy: 0.7910\n",
            "Epoch 11/100\n",
            "313/313 [==============================] - 10s 32ms/step - loss: 0.4555 - accuracy: 0.7969 - val_loss: 0.4595 - val_accuracy: 0.7936\n",
            "Epoch 12/100\n",
            "313/313 [==============================] - 10s 32ms/step - loss: 0.4394 - accuracy: 0.8047 - val_loss: 0.4546 - val_accuracy: 0.7968\n",
            "Epoch 13/100\n",
            "313/313 [==============================] - 10s 32ms/step - loss: 0.4377 - accuracy: 0.8066 - val_loss: 0.4507 - val_accuracy: 0.7974\n",
            "Epoch 14/100\n",
            "313/313 [==============================] - 10s 32ms/step - loss: 0.4351 - accuracy: 0.8045 - val_loss: 0.4465 - val_accuracy: 0.7978\n",
            "Epoch 15/100\n",
            "313/313 [==============================] - 10s 32ms/step - loss: 0.4277 - accuracy: 0.8077 - val_loss: 0.4461 - val_accuracy: 0.7932\n",
            "Epoch 16/100\n",
            "313/313 [==============================] - 10s 32ms/step - loss: 0.4272 - accuracy: 0.8102 - val_loss: 0.4430 - val_accuracy: 0.7982\n",
            "Epoch 17/100\n",
            "313/313 [==============================] - 10s 32ms/step - loss: 0.4264 - accuracy: 0.8104 - val_loss: 0.4418 - val_accuracy: 0.8000\n",
            "Epoch 18/100\n",
            "313/313 [==============================] - 10s 32ms/step - loss: 0.4258 - accuracy: 0.8041 - val_loss: 0.4411 - val_accuracy: 0.8024\n",
            "Epoch 19/100\n",
            "313/313 [==============================] - 10s 32ms/step - loss: 0.4193 - accuracy: 0.8114 - val_loss: 0.4380 - val_accuracy: 0.8004\n",
            "Epoch 20/100\n",
            "313/313 [==============================] - 10s 32ms/step - loss: 0.4155 - accuracy: 0.8129 - val_loss: 0.4371 - val_accuracy: 0.7948\n",
            "Epoch 21/100\n",
            "313/313 [==============================] - 10s 32ms/step - loss: 0.4179 - accuracy: 0.8110 - val_loss: 0.4366 - val_accuracy: 0.7978\n",
            "Epoch 22/100\n",
            "313/313 [==============================] - 10s 32ms/step - loss: 0.4131 - accuracy: 0.8096 - val_loss: 0.4362 - val_accuracy: 0.7948\n",
            "Epoch 23/100\n",
            "313/313 [==============================] - 10s 32ms/step - loss: 0.4139 - accuracy: 0.8163 - val_loss: 0.4363 - val_accuracy: 0.8040\n",
            "Epoch 24/100\n",
            "313/313 [==============================] - 10s 33ms/step - loss: 0.4125 - accuracy: 0.8103 - val_loss: 0.4353 - val_accuracy: 0.8006\n",
            "Epoch 25/100\n",
            "313/313 [==============================] - 10s 33ms/step - loss: 0.4121 - accuracy: 0.8093 - val_loss: 0.4353 - val_accuracy: 0.8020\n",
            "Epoch 26/100\n",
            "313/313 [==============================] - 10s 33ms/step - loss: 0.4180 - accuracy: 0.8084 - val_loss: 0.4337 - val_accuracy: 0.7990\n",
            "Epoch 27/100\n",
            "313/313 [==============================] - 10s 33ms/step - loss: 0.4066 - accuracy: 0.8142 - val_loss: 0.4340 - val_accuracy: 0.7992\n",
            "Epoch 28/100\n",
            "313/313 [==============================] - 10s 33ms/step - loss: 0.4146 - accuracy: 0.8130 - val_loss: 0.4340 - val_accuracy: 0.7992\n",
            "Epoch 29/100\n",
            "313/313 [==============================] - 10s 32ms/step - loss: 0.4134 - accuracy: 0.8100 - val_loss: 0.4396 - val_accuracy: 0.7910\n"
          ],
          "name": "stdout"
        }
      ]
    },
    {
      "cell_type": "code",
      "metadata": {
        "id": "M-yM-EAxGF9h",
        "colab": {
          "base_uri": "https://localhost:8080/",
          "height": 279
        },
        "outputId": "0a7d048a-af43-4d93-954c-6148b7ad5580"
      },
      "source": [
        "plt.plot(history.history['loss'])\n",
        "plt.plot(history.history['val_loss'])\n",
        "plt.xlabel('epoch')\n",
        "plt.ylabel('loss')\n",
        "plt.legend(['train','val'])\n",
        "plt.show()"
      ],
      "execution_count": 23,
      "outputs": [
        {
          "output_type": "display_data",
          "data": {
            "image/png": "[encoded data removed]",
            "text/plain": [
              "<Figure size 432x288 with 1 Axes>"
            ]
          },
          "metadata": {
            "tags": [],
            "needs_background": "light"
          }
        }
      ]
    },
    {
      "cell_type": "markdown",
      "metadata": {
        "id": "rrXC2EFRGLQU"
      },
      "source": [
        "###Dropout"
      ]
    },
    {
      "cell_type": "code",
      "metadata": {
        "id": "dkx6eMkzGMbi",
        "colab": {
          "base_uri": "https://localhost:8080/",
          "height": 1000
        },
        "outputId": "81772376-1e8a-4c12-f1e1-53a8474cc570"
      },
      "source": [
        "model2=keras.Sequential()\n",
        "model2.add(keras.layers.Embedding(500,16,input_length=100))\n",
        "model2.add(keras.layers.LSTM(8,dropout=0.3))\n",
        "model2.add(keras.layers.Dense(1,activation='sigmoid'))\n",
        "\n",
        "rmsprop=keras.optimizers.RMSprop(learning_rate=1e-4)\n",
        "\n",
        "model2.compile(optimizer=rmsprop,loss='binary_crossentropy',metrics=['accuracy'])\n",
        "checkpoint_cb=keras.callbacks.ModelCheckpoint('best-dropout-model.h5')\n",
        "early_stopping_cb=keras.callbacks.EarlyStopping(patience=3,restore_best_weights=True)\n",
        "\n",
        "history=model2.fit(train_seq,train_target,epochs=100,batch_size=64,\n",
        "                  validation_data=(val_seq,val_target),\n",
        "                  callbacks=[checkpoint_cb,early_stopping_cb])\n",
        "\n",
        "plt.plot(history.history['loss'])\n",
        "plt.plot(history.history['val_loss'])\n",
        "plt.xlabel('epoch')\n",
        "plt.ylabel('loss')\n",
        "plt.legend(['train','val'])\n",
        "plt.show()"
      ],
      "execution_count": 24,
      "outputs": [
        {
          "output_type": "stream",
          "text": [
            "Epoch 1/100\n",
            "313/313 [==============================] - 14s 36ms/step - loss: 0.6929 - accuracy: 0.5123 - val_loss: 0.6915 - val_accuracy: 0.5796\n",
            "Epoch 2/100\n",
            "313/313 [==============================] - 11s 34ms/step - loss: 0.6908 - accuracy: 0.5867 - val_loss: 0.6875 - val_accuracy: 0.6426\n",
            "Epoch 3/100\n",
            "313/313 [==============================] - 11s 34ms/step - loss: 0.6851 - accuracy: 0.6343 - val_loss: 0.6580 - val_accuracy: 0.6026\n",
            "Epoch 4/100\n",
            "313/313 [==============================] - 11s 34ms/step - loss: 0.6437 - accuracy: 0.6440 - val_loss: 0.6007 - val_accuracy: 0.7434\n",
            "Epoch 5/100\n",
            "313/313 [==============================] - 10s 33ms/step - loss: 0.5999 - accuracy: 0.7403 - val_loss: 0.5827 - val_accuracy: 0.7498\n",
            "Epoch 6/100\n",
            "313/313 [==============================] - 11s 34ms/step - loss: 0.5800 - accuracy: 0.7478 - val_loss: 0.5688 - val_accuracy: 0.7522\n",
            "Epoch 7/100\n",
            "313/313 [==============================] - 11s 34ms/step - loss: 0.5662 - accuracy: 0.7519 - val_loss: 0.5563 - val_accuracy: 0.7646\n",
            "Epoch 8/100\n",
            "313/313 [==============================] - 11s 34ms/step - loss: 0.5488 - accuracy: 0.7688 - val_loss: 0.5448 - val_accuracy: 0.7724\n",
            "Epoch 9/100\n",
            "313/313 [==============================] - 10s 33ms/step - loss: 0.5385 - accuracy: 0.7707 - val_loss: 0.5360 - val_accuracy: 0.7692\n",
            "Epoch 10/100\n",
            "313/313 [==============================] - 11s 34ms/step - loss: 0.5285 - accuracy: 0.7693 - val_loss: 0.5236 - val_accuracy: 0.7682\n",
            "Epoch 11/100\n",
            "313/313 [==============================] - 10s 34ms/step - loss: 0.5122 - accuracy: 0.7768 - val_loss: 0.5169 - val_accuracy: 0.7610\n",
            "Epoch 12/100\n",
            "313/313 [==============================] - 11s 34ms/step - loss: 0.5051 - accuracy: 0.7769 - val_loss: 0.5032 - val_accuracy: 0.7770\n",
            "Epoch 13/100\n",
            "313/313 [==============================] - 11s 34ms/step - loss: 0.4970 - accuracy: 0.7840 - val_loss: 0.4968 - val_accuracy: 0.7720\n",
            "Epoch 14/100\n",
            "313/313 [==============================] - 11s 34ms/step - loss: 0.4842 - accuracy: 0.7883 - val_loss: 0.4842 - val_accuracy: 0.7842\n",
            "Epoch 15/100\n",
            "313/313 [==============================] - 11s 34ms/step - loss: 0.4792 - accuracy: 0.7870 - val_loss: 0.4798 - val_accuracy: 0.7790\n",
            "Epoch 16/100\n",
            "313/313 [==============================] - 11s 34ms/step - loss: 0.4661 - accuracy: 0.7935 - val_loss: 0.4711 - val_accuracy: 0.7840\n",
            "Epoch 17/100\n",
            "313/313 [==============================] - 11s 34ms/step - loss: 0.4590 - accuracy: 0.7972 - val_loss: 0.4640 - val_accuracy: 0.7838\n",
            "Epoch 18/100\n",
            "313/313 [==============================] - 10s 33ms/step - loss: 0.4496 - accuracy: 0.8014 - val_loss: 0.4581 - val_accuracy: 0.7944\n",
            "Epoch 19/100\n",
            "313/313 [==============================] - 10s 34ms/step - loss: 0.4474 - accuracy: 0.8006 - val_loss: 0.4537 - val_accuracy: 0.7930\n",
            "Epoch 20/100\n",
            "313/313 [==============================] - 11s 34ms/step - loss: 0.4447 - accuracy: 0.7998 - val_loss: 0.4518 - val_accuracy: 0.7962\n",
            "Epoch 21/100\n",
            "313/313 [==============================] - 11s 34ms/step - loss: 0.4441 - accuracy: 0.8011 - val_loss: 0.4489 - val_accuracy: 0.7948\n",
            "Epoch 22/100\n",
            "313/313 [==============================] - 11s 34ms/step - loss: 0.4393 - accuracy: 0.8043 - val_loss: 0.4461 - val_accuracy: 0.7942\n",
            "Epoch 23/100\n",
            "313/313 [==============================] - 11s 34ms/step - loss: 0.4340 - accuracy: 0.8046 - val_loss: 0.4444 - val_accuracy: 0.7934\n",
            "Epoch 24/100\n",
            "313/313 [==============================] - 10s 33ms/step - loss: 0.4331 - accuracy: 0.8087 - val_loss: 0.4428 - val_accuracy: 0.7932\n",
            "Epoch 25/100\n",
            "313/313 [==============================] - 10s 33ms/step - loss: 0.4323 - accuracy: 0.8058 - val_loss: 0.4458 - val_accuracy: 0.7978\n",
            "Epoch 26/100\n",
            "313/313 [==============================] - 10s 34ms/step - loss: 0.4287 - accuracy: 0.8089 - val_loss: 0.4409 - val_accuracy: 0.7932\n",
            "Epoch 27/100\n",
            "313/313 [==============================] - 11s 34ms/step - loss: 0.4274 - accuracy: 0.8081 - val_loss: 0.4399 - val_accuracy: 0.7940\n",
            "Epoch 28/100\n",
            "313/313 [==============================] - 11s 34ms/step - loss: 0.4322 - accuracy: 0.8052 - val_loss: 0.4394 - val_accuracy: 0.7954\n",
            "Epoch 29/100\n",
            "313/313 [==============================] - 11s 34ms/step - loss: 0.4248 - accuracy: 0.8093 - val_loss: 0.4394 - val_accuracy: 0.7930\n",
            "Epoch 30/100\n",
            "313/313 [==============================] - 11s 34ms/step - loss: 0.4224 - accuracy: 0.8054 - val_loss: 0.4380 - val_accuracy: 0.7970\n",
            "Epoch 31/100\n",
            "313/313 [==============================] - 11s 34ms/step - loss: 0.4259 - accuracy: 0.8052 - val_loss: 0.4377 - val_accuracy: 0.7924\n",
            "Epoch 32/100\n",
            "313/313 [==============================] - 11s 35ms/step - loss: 0.4323 - accuracy: 0.8018 - val_loss: 0.4380 - val_accuracy: 0.7976\n",
            "Epoch 33/100\n",
            "313/313 [==============================] - 11s 35ms/step - loss: 0.4185 - accuracy: 0.8111 - val_loss: 0.4360 - val_accuracy: 0.7966\n",
            "Epoch 34/100\n",
            "313/313 [==============================] - 11s 34ms/step - loss: 0.4156 - accuracy: 0.8125 - val_loss: 0.4374 - val_accuracy: 0.7954\n",
            "Epoch 35/100\n",
            "313/313 [==============================] - 11s 34ms/step - loss: 0.4211 - accuracy: 0.8091 - val_loss: 0.4357 - val_accuracy: 0.7970\n",
            "Epoch 36/100\n",
            "313/313 [==============================] - 11s 34ms/step - loss: 0.4155 - accuracy: 0.8132 - val_loss: 0.4355 - val_accuracy: 0.7996\n",
            "Epoch 37/100\n",
            "313/313 [==============================] - 11s 34ms/step - loss: 0.4180 - accuracy: 0.8105 - val_loss: 0.4357 - val_accuracy: 0.7990\n",
            "Epoch 38/100\n",
            "313/313 [==============================] - 11s 34ms/step - loss: 0.4197 - accuracy: 0.8102 - val_loss: 0.4340 - val_accuracy: 0.7996\n",
            "Epoch 39/100\n",
            "313/313 [==============================] - 11s 34ms/step - loss: 0.4222 - accuracy: 0.8102 - val_loss: 0.4341 - val_accuracy: 0.7982\n",
            "Epoch 40/100\n",
            "313/313 [==============================] - 11s 34ms/step - loss: 0.4172 - accuracy: 0.8084 - val_loss: 0.4342 - val_accuracy: 0.7994\n",
            "Epoch 41/100\n",
            "313/313 [==============================] - 11s 34ms/step - loss: 0.4191 - accuracy: 0.8072 - val_loss: 0.4336 - val_accuracy: 0.7996\n",
            "Epoch 42/100\n",
            "313/313 [==============================] - 11s 34ms/step - loss: 0.4116 - accuracy: 0.8123 - val_loss: 0.4348 - val_accuracy: 0.8014\n",
            "Epoch 43/100\n",
            "313/313 [==============================] - 11s 34ms/step - loss: 0.4102 - accuracy: 0.8150 - val_loss: 0.4335 - val_accuracy: 0.8004\n",
            "Epoch 44/100\n",
            "313/313 [==============================] - 11s 34ms/step - loss: 0.4134 - accuracy: 0.8123 - val_loss: 0.4357 - val_accuracy: 0.8010\n",
            "Epoch 45/100\n",
            "313/313 [==============================] - 11s 34ms/step - loss: 0.4124 - accuracy: 0.8081 - val_loss: 0.4335 - val_accuracy: 0.7978\n",
            "Epoch 46/100\n",
            "313/313 [==============================] - 11s 34ms/step - loss: 0.4143 - accuracy: 0.8129 - val_loss: 0.4363 - val_accuracy: 0.7966\n"
          ],
          "name": "stdout"
        },
        {
          "output_type": "display_data",
          "data": {
            "image/png": "[encoded data removed]",
            "text/plain": [
              "<Figure size 432x288 with 1 Axes>"
            ]
          },
          "metadata": {
            "tags": [],
            "needs_background": "light"
          }
        }
      ]
    },
    {
      "cell_type": "markdown",
      "metadata": {
        "id": "JNw0pz5WGpwb"
      },
      "source": [
        "###Connect 2 layers"
      ]
    },
    {
      "cell_type": "code",
      "metadata": {
        "id": "qXHWJ3R-GsVc",
        "colab": {
          "base_uri": "https://localhost:8080/"
        },
        "outputId": "3abbd93b-2545-44a0-8005-fc267bc0dad7"
      },
      "source": [
        "model3=keras.Sequential()\n",
        "model3.add(keras.layers.Embedding(500,16,input_length=100))\n",
        "model3.add(keras.layers.LSTM(8,dropout=0.3,return_sequences=True))\n",
        "model3.add(keras.layers.LSTM(8,dropout=0.3))\n",
        "model3.add(keras.layers.Dense(1,activation='sigmoid'))\n",
        "\n",
        "model3.summary()"
      ],
      "execution_count": 25,
      "outputs": [
        {
          "output_type": "stream",
          "text": [
            "Model: \"sequential_5\"\n",
            "_________________________________________________________________\n",
            "Layer (type)                 Output Shape              Param #   \n",
            "=================================================================\n",
            "embedding_3 (Embedding)      (None, 100, 16)           8000      \n",
            "_________________________________________________________________\n",
            "lstm_2 (LSTM)                (None, 100, 8)            800       \n",
            "_________________________________________________________________\n",
            "lstm_3 (LSTM)                (None, 8)                 544       \n",
            "_________________________________________________________________\n",
            "dense_5 (Dense)              (None, 1)                 9         \n",
            "=================================================================\n",
            "Total params: 9,353\n",
            "Trainable params: 9,353\n",
            "Non-trainable params: 0\n",
            "_________________________________________________________________\n"
          ],
          "name": "stdout"
        }
      ]
    },
    {
      "cell_type": "code",
      "metadata": {
        "id": "-Gdu0oQdG2X7",
        "colab": {
          "base_uri": "https://localhost:8080/",
          "height": 1000
        },
        "outputId": "f9188e24-bdb3-4c18-cc71-c26209fe86d0"
      },
      "source": [
        "rmsprop=keras.optimizers.RMSprop(learning_rate=1e-4)\n",
        "\n",
        "model3.compile(optimizer=rmsprop,loss='binary_crossentropy',metrics=['accuracy'])\n",
        "checkpoint_cb=keras.callbacks.ModelCheckpoint('best-2rnn-model.h5')\n",
        "early_stopping_cb=keras.callbacks.EarlyStopping(patience=3,restore_best_weights=True)\n",
        "\n",
        "history=model3.fit(train_seq,train_target,epochs=100,batch_size=64,\n",
        "                  validation_data=(val_seq,val_target),\n",
        "                  callbacks=[checkpoint_cb,early_stopping_cb])\n",
        "\n",
        "plt.plot(history.history['loss'])\n",
        "plt.plot(history.history['val_loss'])\n",
        "plt.xlabel('epoch')\n",
        "plt.ylabel('loss')\n",
        "plt.legend(['train','val'])\n",
        "plt.show()"
      ],
      "execution_count": 26,
      "outputs": [
        {
          "output_type": "stream",
          "text": [
            "Epoch 1/100\n",
            "313/313 [==============================] - 24s 68ms/step - loss: 0.6928 - accuracy: 0.5194 - val_loss: 0.6923 - val_accuracy: 0.5370\n",
            "Epoch 2/100\n",
            "313/313 [==============================] - 21s 66ms/step - loss: 0.6912 - accuracy: 0.5640 - val_loss: 0.6880 - val_accuracy: 0.6190\n",
            "Epoch 3/100\n",
            "313/313 [==============================] - 20s 65ms/step - loss: 0.6824 - accuracy: 0.6428 - val_loss: 0.6571 - val_accuracy: 0.6530\n",
            "Epoch 4/100\n",
            "313/313 [==============================] - 20s 65ms/step - loss: 0.6307 - accuracy: 0.6707 - val_loss: 0.5654 - val_accuracy: 0.7200\n",
            "Epoch 5/100\n",
            "313/313 [==============================] - 20s 65ms/step - loss: 0.5602 - accuracy: 0.7234 - val_loss: 0.5305 - val_accuracy: 0.7510\n",
            "Epoch 6/100\n",
            "313/313 [==============================] - 20s 65ms/step - loss: 0.5293 - accuracy: 0.7449 - val_loss: 0.5077 - val_accuracy: 0.7612\n",
            "Epoch 7/100\n",
            "313/313 [==============================] - 20s 65ms/step - loss: 0.5071 - accuracy: 0.7620 - val_loss: 0.4943 - val_accuracy: 0.7718\n",
            "Epoch 8/100\n",
            "313/313 [==============================] - 20s 65ms/step - loss: 0.4887 - accuracy: 0.7733 - val_loss: 0.4835 - val_accuracy: 0.7734\n",
            "Epoch 9/100\n",
            "313/313 [==============================] - 20s 65ms/step - loss: 0.4803 - accuracy: 0.7797 - val_loss: 0.4740 - val_accuracy: 0.7816\n",
            "Epoch 10/100\n",
            "313/313 [==============================] - 20s 65ms/step - loss: 0.4786 - accuracy: 0.7771 - val_loss: 0.4683 - val_accuracy: 0.7858\n",
            "Epoch 11/100\n",
            "313/313 [==============================] - 20s 65ms/step - loss: 0.4699 - accuracy: 0.7840 - val_loss: 0.4656 - val_accuracy: 0.7864\n",
            "Epoch 12/100\n",
            "313/313 [==============================] - 20s 65ms/step - loss: 0.4630 - accuracy: 0.7864 - val_loss: 0.4662 - val_accuracy: 0.7844\n",
            "Epoch 13/100\n",
            "313/313 [==============================] - 20s 65ms/step - loss: 0.4608 - accuracy: 0.7873 - val_loss: 0.4650 - val_accuracy: 0.7832\n",
            "Epoch 14/100\n",
            "313/313 [==============================] - 20s 65ms/step - loss: 0.4478 - accuracy: 0.7921 - val_loss: 0.4575 - val_accuracy: 0.7894\n",
            "Epoch 15/100\n",
            "313/313 [==============================] - 20s 64ms/step - loss: 0.4465 - accuracy: 0.7957 - val_loss: 0.4526 - val_accuracy: 0.7896\n",
            "Epoch 16/100\n",
            "313/313 [==============================] - 20s 64ms/step - loss: 0.4511 - accuracy: 0.7942 - val_loss: 0.4526 - val_accuracy: 0.7922\n",
            "Epoch 17/100\n",
            "313/313 [==============================] - 20s 64ms/step - loss: 0.4431 - accuracy: 0.7930 - val_loss: 0.4535 - val_accuracy: 0.7928\n",
            "Epoch 18/100\n",
            "313/313 [==============================] - 20s 64ms/step - loss: 0.4409 - accuracy: 0.8007 - val_loss: 0.4528 - val_accuracy: 0.7902\n",
            "Epoch 19/100\n",
            "313/313 [==============================] - 20s 65ms/step - loss: 0.4391 - accuracy: 0.8009 - val_loss: 0.4465 - val_accuracy: 0.7926\n",
            "Epoch 20/100\n",
            "313/313 [==============================] - 20s 64ms/step - loss: 0.4428 - accuracy: 0.7984 - val_loss: 0.4476 - val_accuracy: 0.7928\n",
            "Epoch 21/100\n",
            "313/313 [==============================] - 20s 65ms/step - loss: 0.4396 - accuracy: 0.7969 - val_loss: 0.4455 - val_accuracy: 0.7918\n",
            "Epoch 22/100\n",
            "313/313 [==============================] - 20s 64ms/step - loss: 0.4382 - accuracy: 0.7981 - val_loss: 0.4440 - val_accuracy: 0.7956\n",
            "Epoch 23/100\n",
            "313/313 [==============================] - 20s 64ms/step - loss: 0.4340 - accuracy: 0.8041 - val_loss: 0.4510 - val_accuracy: 0.7834\n",
            "Epoch 24/100\n",
            "313/313 [==============================] - 20s 65ms/step - loss: 0.4347 - accuracy: 0.7992 - val_loss: 0.4457 - val_accuracy: 0.7928\n",
            "Epoch 25/100\n",
            "313/313 [==============================] - 20s 64ms/step - loss: 0.4287 - accuracy: 0.8056 - val_loss: 0.4435 - val_accuracy: 0.7898\n",
            "Epoch 26/100\n",
            "313/313 [==============================] - 20s 64ms/step - loss: 0.4296 - accuracy: 0.8061 - val_loss: 0.4418 - val_accuracy: 0.7950\n",
            "Epoch 27/100\n",
            "313/313 [==============================] - 20s 65ms/step - loss: 0.4339 - accuracy: 0.8012 - val_loss: 0.4404 - val_accuracy: 0.7948\n",
            "Epoch 28/100\n",
            "313/313 [==============================] - 20s 64ms/step - loss: 0.4316 - accuracy: 0.8045 - val_loss: 0.4402 - val_accuracy: 0.7946\n",
            "Epoch 29/100\n",
            "313/313 [==============================] - 20s 65ms/step - loss: 0.4313 - accuracy: 0.8041 - val_loss: 0.4392 - val_accuracy: 0.7978\n",
            "Epoch 30/100\n",
            "313/313 [==============================] - 20s 65ms/step - loss: 0.4292 - accuracy: 0.8044 - val_loss: 0.4395 - val_accuracy: 0.7970\n",
            "Epoch 31/100\n",
            "313/313 [==============================] - 20s 65ms/step - loss: 0.4323 - accuracy: 0.8004 - val_loss: 0.4407 - val_accuracy: 0.7992\n",
            "Epoch 32/100\n",
            "313/313 [==============================] - 20s 64ms/step - loss: 0.4278 - accuracy: 0.8026 - val_loss: 0.4384 - val_accuracy: 0.7994\n",
            "Epoch 33/100\n",
            "313/313 [==============================] - 20s 65ms/step - loss: 0.4307 - accuracy: 0.8014 - val_loss: 0.4386 - val_accuracy: 0.7926\n",
            "Epoch 34/100\n",
            "313/313 [==============================] - 20s 65ms/step - loss: 0.4310 - accuracy: 0.8009 - val_loss: 0.4405 - val_accuracy: 0.7994\n",
            "Epoch 35/100\n",
            "313/313 [==============================] - 20s 65ms/step - loss: 0.4242 - accuracy: 0.8093 - val_loss: 0.4372 - val_accuracy: 0.7980\n",
            "Epoch 36/100\n",
            "313/313 [==============================] - 20s 65ms/step - loss: 0.4263 - accuracy: 0.8012 - val_loss: 0.4374 - val_accuracy: 0.8012\n",
            "Epoch 37/100\n",
            "313/313 [==============================] - 20s 65ms/step - loss: 0.4237 - accuracy: 0.8069 - val_loss: 0.4381 - val_accuracy: 0.7926\n",
            "Epoch 38/100\n",
            "313/313 [==============================] - 21s 66ms/step - loss: 0.4196 - accuracy: 0.8138 - val_loss: 0.4399 - val_accuracy: 0.7910\n"
          ],
          "name": "stdout"
        },
        {
          "output_type": "display_data",
          "data": {
            "image/png": "[encoded data removed]",
            "text/plain": [
              "<Figure size 432x288 with 1 Axes>"
            ]
          },
          "metadata": {
            "tags": [],
            "needs_background": "light"
          }
        }
      ]
    },
    {
      "cell_type": "markdown",
      "metadata": {
        "id": "1AetFmqHHB-x"
      },
      "source": [
        "##GRU"
      ]
    },
    {
      "cell_type": "code",
      "metadata": {
        "id": "lHni3wZaHEJR",
        "colab": {
          "base_uri": "https://localhost:8080/"
        },
        "outputId": "7979ad53-a156-47f2-bcc1-04d5affac9b1"
      },
      "source": [
        "model4=keras.Sequential()\n",
        "model4.add(keras.layers.Embedding(500,16,input_length=100))\n",
        "model4.add(keras.layers.GRU(8))\n",
        "model4.add(keras.layers.Dense(1,activation='sigmoid'))\n",
        "\n",
        "model4.summary()"
      ],
      "execution_count": 27,
      "outputs": [
        {
          "output_type": "stream",
          "text": [
            "Model: \"sequential_6\"\n",
            "_________________________________________________________________\n",
            "Layer (type)                 Output Shape              Param #   \n",
            "=================================================================\n",
            "embedding_4 (Embedding)      (None, 100, 16)           8000      \n",
            "_________________________________________________________________\n",
            "gru (GRU)                    (None, 8)                 624       \n",
            "_________________________________________________________________\n",
            "dense_6 (Dense)              (None, 1)                 9         \n",
            "=================================================================\n",
            "Total params: 8,633\n",
            "Trainable params: 8,633\n",
            "Non-trainable params: 0\n",
            "_________________________________________________________________\n"
          ],
          "name": "stdout"
        }
      ]
    },
    {
      "cell_type": "code",
      "metadata": {
        "id": "d_TYA0oBHwTp",
        "colab": {
          "base_uri": "https://localhost:8080/",
          "height": 1000
        },
        "outputId": "e9fc0fd5-795d-45bb-d60e-9e3bd250ca0b"
      },
      "source": [
        "rmsprop=keras.optimizers.RMSprop(learning_rate=1e-4)\n",
        "\n",
        "model4.compile(optimizer=rmsprop,loss='binary_crossentropy',metrics=['accuracy'])\n",
        "checkpoint_cb=keras.callbacks.ModelCheckpoint('best-gru-model.h5')\n",
        "early_stopping_cb=keras.callbacks.EarlyStopping(patience=3,restore_best_weights=True)\n",
        "\n",
        "history=model4.fit(train_seq,train_target,epochs=100,batch_size=64,\n",
        "                  validation_data=(val_seq,val_target),\n",
        "                  callbacks=[checkpoint_cb,early_stopping_cb])\n",
        "\n",
        "plt.plot(history.history['loss'])\n",
        "plt.plot(history.history['val_loss'])\n",
        "plt.xlabel('epoch')\n",
        "plt.ylabel('loss')\n",
        "plt.legend(['train','val'])\n",
        "plt.show()"
      ],
      "execution_count": 28,
      "outputs": [
        {
          "output_type": "stream",
          "text": [
            "Epoch 1/100\n",
            "313/313 [==============================] - 13s 36ms/step - loss: 0.6929 - accuracy: 0.5092 - val_loss: 0.6917 - val_accuracy: 0.5478\n",
            "Epoch 2/100\n",
            "313/313 [==============================] - 11s 34ms/step - loss: 0.6909 - accuracy: 0.5683 - val_loss: 0.6886 - val_accuracy: 0.6042\n",
            "Epoch 3/100\n",
            "313/313 [==============================] - 11s 34ms/step - loss: 0.6870 - accuracy: 0.6151 - val_loss: 0.6830 - val_accuracy: 0.6240\n",
            "Epoch 4/100\n",
            "313/313 [==============================] - 11s 35ms/step - loss: 0.6801 - accuracy: 0.6338 - val_loss: 0.6731 - val_accuracy: 0.6376\n",
            "Epoch 5/100\n",
            "313/313 [==============================] - 11s 35ms/step - loss: 0.6669 - accuracy: 0.6548 - val_loss: 0.6552 - val_accuracy: 0.6558\n",
            "Epoch 6/100\n",
            "313/313 [==============================] - 11s 35ms/step - loss: 0.6454 - accuracy: 0.6654 - val_loss: 0.6208 - val_accuracy: 0.6822\n",
            "Epoch 7/100\n",
            "313/313 [==============================] - 11s 36ms/step - loss: 0.5990 - accuracy: 0.6976 - val_loss: 0.5428 - val_accuracy: 0.7330\n",
            "Epoch 8/100\n",
            "313/313 [==============================] - 11s 35ms/step - loss: 0.5178 - accuracy: 0.7464 - val_loss: 0.5002 - val_accuracy: 0.7574\n",
            "Epoch 9/100\n",
            "313/313 [==============================] - 11s 36ms/step - loss: 0.4794 - accuracy: 0.7757 - val_loss: 0.4839 - val_accuracy: 0.7714\n",
            "Epoch 10/100\n",
            "313/313 [==============================] - 11s 36ms/step - loss: 0.4729 - accuracy: 0.7807 - val_loss: 0.4773 - val_accuracy: 0.7780\n",
            "Epoch 11/100\n",
            "313/313 [==============================] - 11s 36ms/step - loss: 0.4566 - accuracy: 0.7891 - val_loss: 0.4650 - val_accuracy: 0.7830\n",
            "Epoch 12/100\n",
            "313/313 [==============================] - 11s 37ms/step - loss: 0.4513 - accuracy: 0.7927 - val_loss: 0.4591 - val_accuracy: 0.7846\n",
            "Epoch 13/100\n",
            "313/313 [==============================] - 11s 36ms/step - loss: 0.4421 - accuracy: 0.8005 - val_loss: 0.4543 - val_accuracy: 0.7912\n",
            "Epoch 14/100\n",
            "313/313 [==============================] - 11s 36ms/step - loss: 0.4355 - accuracy: 0.8024 - val_loss: 0.4538 - val_accuracy: 0.7874\n",
            "Epoch 15/100\n",
            "313/313 [==============================] - 11s 35ms/step - loss: 0.4355 - accuracy: 0.8054 - val_loss: 0.4540 - val_accuracy: 0.7868\n",
            "Epoch 16/100\n",
            "313/313 [==============================] - 11s 36ms/step - loss: 0.4313 - accuracy: 0.8094 - val_loss: 0.4486 - val_accuracy: 0.7942\n",
            "Epoch 17/100\n",
            "313/313 [==============================] - 11s 35ms/step - loss: 0.4281 - accuracy: 0.8085 - val_loss: 0.4492 - val_accuracy: 0.7940\n",
            "Epoch 18/100\n",
            "313/313 [==============================] - 11s 35ms/step - loss: 0.4210 - accuracy: 0.8116 - val_loss: 0.4475 - val_accuracy: 0.7952\n",
            "Epoch 19/100\n",
            "313/313 [==============================] - 11s 36ms/step - loss: 0.4185 - accuracy: 0.8137 - val_loss: 0.4438 - val_accuracy: 0.7980\n",
            "Epoch 20/100\n",
            "313/313 [==============================] - 11s 35ms/step - loss: 0.4241 - accuracy: 0.8142 - val_loss: 0.4431 - val_accuracy: 0.7976\n",
            "Epoch 21/100\n",
            "313/313 [==============================] - 11s 35ms/step - loss: 0.4264 - accuracy: 0.8102 - val_loss: 0.4424 - val_accuracy: 0.7982\n",
            "Epoch 22/100\n",
            "313/313 [==============================] - 11s 35ms/step - loss: 0.4161 - accuracy: 0.8154 - val_loss: 0.4444 - val_accuracy: 0.7912\n",
            "Epoch 23/100\n",
            "313/313 [==============================] - 11s 35ms/step - loss: 0.4218 - accuracy: 0.8119 - val_loss: 0.4420 - val_accuracy: 0.7992\n",
            "Epoch 24/100\n",
            "313/313 [==============================] - 11s 34ms/step - loss: 0.4190 - accuracy: 0.8141 - val_loss: 0.4409 - val_accuracy: 0.7984\n",
            "Epoch 25/100\n",
            "313/313 [==============================] - 11s 36ms/step - loss: 0.4135 - accuracy: 0.8152 - val_loss: 0.4438 - val_accuracy: 0.7948\n",
            "Epoch 26/100\n",
            "313/313 [==============================] - 11s 37ms/step - loss: 0.4191 - accuracy: 0.8145 - val_loss: 0.4458 - val_accuracy: 0.7946\n",
            "Epoch 27/100\n",
            "313/313 [==============================] - 11s 36ms/step - loss: 0.4143 - accuracy: 0.8170 - val_loss: 0.4415 - val_accuracy: 0.7950\n"
          ],
          "name": "stdout"
        },
        {
          "output_type": "display_data",
          "data": {
            "image/png": "[encoded data removed]",
            "text/plain": [
              "<Figure size 432x288 with 1 Axes>"
            ]
          },
          "metadata": {
            "tags": [],
            "needs_background": "light"
          }
        }
      ]
    },
    {
      "cell_type": "markdown",
      "metadata": {
        "id": "q6_9eO12H9QR"
      },
      "source": [
        "##Test Reuslt"
      ]
    },
    {
      "cell_type": "code",
      "metadata": {
        "id": "mr49r65WH_EP",
        "colab": {
          "base_uri": "https://localhost:8080/"
        },
        "outputId": "bd8fcbb7-4b83-4bbd-c24e-48bd0a72c5d3"
      },
      "source": [
        "test_seq=pad_sequences(test_input,maxlen=100)\n",
        "rnn_model=keras.models.load_model('best-2rnn-model.h5')\n",
        "rnn_model.evaluate(test_seq,test_target)"
      ],
      "execution_count": 29,
      "outputs": [
        {
          "output_type": "stream",
          "text": [
            "782/782 [==============================] - 9s 10ms/step - loss: 0.4346 - accuracy: 0.7972\n"
          ],
          "name": "stdout"
        },
        {
          "output_type": "execute_result",
          "data": {
            "text/plain": [
              "[0.43463221192359924, 0.7972000241279602]"
            ]
          },
          "metadata": {
            "tags": []
          },
          "execution_count": 29
        }
      ]
    }
  ]
}