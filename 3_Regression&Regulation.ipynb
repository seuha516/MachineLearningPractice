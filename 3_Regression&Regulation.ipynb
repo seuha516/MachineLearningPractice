{
  "nbformat": 4,
  "nbformat_minor": 0,
  "metadata": {
    "colab": {
      "name": "Regression&Regulation",
      "provenance": [],
      "collapsed_sections": [
        "K_i7E8E5Mkzx",
        "F-BWnqEzqVbX",
        "yUn8mDGdoaKK",
        "xbPq2PW4QyHA",
        "BuN9ezuCSA1O",
        "HaCG8yfUsT6A",
        "712cPfKwtvY3",
        "xMJFFW4svVlK",
        "PdSYsFXKvaTh",
        "IZz_xBuBzhCS",
        "XZwYNJgj5tBa",
        "-QdeUNHs9UHg",
        "_KtSZXdl9ijR",
        "XDR8_cAeAjXV",
        "g6zgmzjzBXvG",
        "ILm7GQoWCNxZ",
        "bsTJlboIGSch",
        "84ww9GbJHDf4"
      ],
      "toc_visible": true,
      "authorship_tag": "ABX9TyOq1OZMHbKZOK5U3JEbhjJ4",
      "include_colab_link": true
    },
    "kernelspec": {
      "name": "python3",
      "display_name": "Python 3"
    }
  },
  "cells": [
    {
      "cell_type": "markdown",
      "metadata": {
        "id": "view-in-github",
        "colab_type": "text"
      },
      "source": [
        "<a href=\"https://colab.research.google.com/github/seuha516/MachineLearningPractice/blob/main/Regression%26Regulation.ipynb\" target=\"_parent\"><img src=\"https://colab.research.google.com/assets/colab-badge.svg\" alt=\"Open In Colab\"/></a>"
      ]
    },
    {
      "cell_type": "markdown",
      "metadata": {
        "id": "0D-QrZRIN8W9"
      },
      "source": [
        "# **회귀 알고리즘**과 **모델 규제**"
      ]
    },
    {
      "cell_type": "markdown",
      "metadata": {
        "id": "K_i7E8E5Mkzx"
      },
      "source": [
        "##KNeighborsRegressor"
      ]
    },
    {
      "cell_type": "markdown",
      "metadata": {
        "id": "F-BWnqEzqVbX"
      },
      "source": [
        "### *Data*"
      ]
    },
    {
      "cell_type": "code",
      "metadata": {
        "id": "eYw9PBpqNuaY"
      },
      "source": [
        "import numpy as np\r\n",
        "perch_length = np.array([8.4, 13.7, 15.0, 16.2, 17.4, 18.0, 18.7, 19.0, 19.6, 20.0, 21.0,\r\n",
        "       21.0, 21.0, 21.3, 22.0, 22.0, 22.0, 22.0, 22.0, 22.5, 22.5, 22.7,\r\n",
        "       23.0, 23.5, 24.0, 24.0, 24.6, 25.0, 25.6, 26.5, 27.3, 27.5, 27.5,\r\n",
        "       27.5, 28.0, 28.7, 30.0, 32.8, 34.5, 35.0, 36.5, 36.0, 37.0, 37.0,\r\n",
        "       39.0, 39.0, 39.0, 40.0, 40.0, 40.0, 40.0, 42.0, 43.0, 43.0, 43.5,\r\n",
        "       44.0])\r\n",
        "perch_weight = np.array([5.9, 32.0, 40.0, 51.5, 70.0, 100.0, 78.0, 80.0, 85.0, 85.0, 110.0,\r\n",
        "       115.0, 125.0, 130.0, 120.0, 120.0, 130.0, 135.0, 110.0, 130.0,\r\n",
        "       150.0, 145.0, 150.0, 170.0, 225.0, 145.0, 188.0, 180.0, 197.0,\r\n",
        "       218.0, 300.0, 260.0, 265.0, 250.0, 250.0, 300.0, 320.0, 514.0,\r\n",
        "       556.0, 840.0, 685.0, 700.0, 700.0, 690.0, 900.0, 650.0, 820.0,\r\n",
        "       850.0, 900.0, 1015.0, 820.0, 1100.0, 1000.0, 1100.0, 1000.0,\r\n",
        "       1000.0])"
      ],
      "execution_count": 189,
      "outputs": []
    },
    {
      "cell_type": "code",
      "metadata": {
        "colab": {
          "base_uri": "https://localhost:8080/",
          "height": 0
        },
        "id": "dwd3Zt_XOhMZ",
        "outputId": "56c5fb0f-317f-4868-ad6a-64bacbc4b4ca"
      },
      "source": [
        "import matplotlib.pyplot as plt\r\n",
        "plt.scatter(perch_length,perch_weight)\r\n",
        "plt.xlabel(\"length\")\r\n",
        "plt.ylabel(\"weight\")\r\n",
        "plt.show()"
      ],
      "execution_count": 190,
      "outputs": [
        {
          "output_type": "display_data",
          "data": {
            "image/png": "[encoded data removed]",
            "text/plain": [
              "<Figure size 432x288 with 1 Axes>"
            ]
          },
          "metadata": {
            "tags": [],
            "needs_background": "light"
          }
        }
      ]
    },
    {
      "cell_type": "markdown",
      "metadata": {
        "id": "yUn8mDGdoaKK"
      },
      "source": [
        "### Train_Test_Split"
      ]
    },
    {
      "cell_type": "code",
      "metadata": {
        "id": "gbSu9hK-OxGq"
      },
      "source": [
        "from sklearn.model_selection import train_test_split\r\n",
        "train_input,test_input,train_target,test_target=train_test_split(perch_length,perch_weight,random_state=42)"
      ],
      "execution_count": 191,
      "outputs": []
    },
    {
      "cell_type": "code",
      "metadata": {
        "id": "HoHDDCIxPqxp"
      },
      "source": [
        "#1차원 배열 -> 2차원 배열\r\n",
        "train_input=train_input.reshape(-1,1)\r\n",
        "test_input=test_input.reshape(-1,1)"
      ],
      "execution_count": 192,
      "outputs": []
    },
    {
      "cell_type": "markdown",
      "metadata": {
        "id": "xbPq2PW4QyHA"
      },
      "source": [
        "### Training"
      ]
    },
    {
      "cell_type": "code",
      "metadata": {
        "colab": {
          "base_uri": "https://localhost:8080/"
        },
        "id": "r_5oN_HdQrPq",
        "outputId": "dd773a60-47ab-45ac-8bc9-e479eaceb36a"
      },
      "source": [
        "from sklearn.neighbors import KNeighborsRegressor\r\n",
        "knr=KNeighborsRegressor()\r\n",
        "knr.fit(train_input,train_target)\r\n",
        "print(knr.score(test_input,test_target))"
      ],
      "execution_count": 193,
      "outputs": [
        {
          "output_type": "stream",
          "text": [
            "0.9928094061010639\n"
          ],
          "name": "stdout"
        }
      ]
    },
    {
      "cell_type": "markdown",
      "metadata": {
        "id": "BuN9ezuCSA1O"
      },
      "source": [
        "#### Check Error"
      ]
    },
    {
      "cell_type": "code",
      "metadata": {
        "colab": {
          "base_uri": "https://localhost:8080/"
        },
        "id": "Ve301gzxSIC9",
        "outputId": "82f5dac0-a42a-48f5-e590-101405519cb8"
      },
      "source": [
        "from sklearn.metrics import mean_absolute_error\r\n",
        "test_prediction=knr.predict(test_input)\r\n",
        "mean_err=mean_absolute_error(test_target,test_prediction)\r\n",
        "print(mean_err)"
      ],
      "execution_count": 194,
      "outputs": [
        {
          "output_type": "stream",
          "text": [
            "19.157142857142862\n"
          ],
          "name": "stdout"
        }
      ]
    },
    {
      "cell_type": "markdown",
      "metadata": {
        "id": "HaCG8yfUsT6A"
      },
      "source": [
        "####Underfitting"
      ]
    },
    {
      "cell_type": "code",
      "metadata": {
        "colab": {
          "base_uri": "https://localhost:8080/"
        },
        "id": "1SDrMi2nrVGS",
        "outputId": "5f9a697a-0698-4897-b63e-77bcf58d83bf"
      },
      "source": [
        "#과소적합\r\n",
        "print(knr.score(train_input,train_target))\r\n",
        "print(knr.score(test_input,test_target))"
      ],
      "execution_count": 195,
      "outputs": [
        {
          "output_type": "stream",
          "text": [
            "0.9698823289099255\n",
            "0.9928094061010639\n"
          ],
          "name": "stdout"
        }
      ]
    },
    {
      "cell_type": "code",
      "metadata": {
        "colab": {
          "base_uri": "https://localhost:8080/"
        },
        "id": "LF7cJHwXrtZ5",
        "outputId": "cf402214-b425-4e70-a0b3-87d2a0520c4a"
      },
      "source": [
        "knr.n_neighbors=3\r\n",
        "knr.fit(train_input,train_target)\r\n",
        "print(knr.score(train_input,train_target))\r\n",
        "print(knr.score(test_input,test_target))"
      ],
      "execution_count": 196,
      "outputs": [
        {
          "output_type": "stream",
          "text": [
            "0.9804899950518966\n",
            "0.974645996398761\n"
          ],
          "name": "stdout"
        }
      ]
    },
    {
      "cell_type": "markdown",
      "metadata": {
        "id": "712cPfKwtvY3"
      },
      "source": [
        "###Problem Solve"
      ]
    },
    {
      "cell_type": "code",
      "metadata": {
        "colab": {
          "base_uri": "https://localhost:8080/",
          "height": 0
        },
        "id": "vteIVx2Ltxh6",
        "outputId": "b0fa79dc-7731-449e-a343-88c43c31e97d"
      },
      "source": [
        "knr=KNeighborsRegressor()\r\n",
        "x=np.arange(5,45).reshape(-1,1)\r\n",
        "\r\n",
        "for n in [1,5,10]:\r\n",
        "  knr.n_neighbors=n\r\n",
        "  knr.fit(train_input,train_target)\r\n",
        "  prediction=knr.predict(x)\r\n",
        "  \r\n",
        "  plt.scatter(train_input,train_target)\r\n",
        "  plt.plot(x,prediction)\r\n",
        "  plt.show()\r\n",
        "  print(\"n_neighbors=%d\"%n)\r\n",
        "  print(\"score : %f\"%knr.score(train_input,train_target))"
      ],
      "execution_count": 197,
      "outputs": [
        {
          "output_type": "display_data",
          "data": {
            "image/png": "[encoded data removed]",
            "text/plain": [
              "<Figure size 432x288 with 1 Axes>"
            ]
          },
          "metadata": {
            "tags": [],
            "needs_background": "light"
          }
        },
        {
          "output_type": "stream",
          "text": [
            "n_neighbors=1\n",
            "score : 0.985283\n"
          ],
          "name": "stdout"
        },
        {
          "output_type": "display_data",
          "data": {
            "image/png": "[encoded data removed]",
            "text/plain": [
              "<Figure size 432x288 with 1 Axes>"
            ]
          },
          "metadata": {
            "tags": [],
            "needs_background": "light"
          }
        },
        {
          "output_type": "stream",
          "text": [
            "n_neighbors=5\n",
            "score : 0.969882\n"
          ],
          "name": "stdout"
        },
        {
          "output_type": "display_data",
          "data": {
            "image/png": "[encoded data removed]",
            "text/plain": [
              "<Figure size 432x288 with 1 Axes>"
            ]
          },
          "metadata": {
            "tags": [],
            "needs_background": "light"
          }
        },
        {
          "output_type": "stream",
          "text": [
            "n_neighbors=10\n",
            "score : 0.961646\n"
          ],
          "name": "stdout"
        }
      ]
    },
    {
      "cell_type": "markdown",
      "metadata": {
        "id": "xMJFFW4svVlK"
      },
      "source": [
        "##Linear Regression"
      ]
    },
    {
      "cell_type": "markdown",
      "metadata": {
        "id": "PdSYsFXKvaTh"
      },
      "source": [
        "###Error Case"
      ]
    },
    {
      "cell_type": "code",
      "metadata": {
        "colab": {
          "base_uri": "https://localhost:8080/"
        },
        "id": "ijYpZQTFvsoK",
        "outputId": "7106f647-6ef6-4ec0-a875-a474f52c4130"
      },
      "source": [
        "#실제 값보다 훨씬 작게 예측\r\n",
        "knr=KNeighborsRegressor(n_neighbors=3)\r\n",
        "knr.fit(train_input,train_target)\r\n",
        "print(knr.predict([[50]]))\r\n",
        "print(knr.predict([[100]]))"
      ],
      "execution_count": 198,
      "outputs": [
        {
          "output_type": "stream",
          "text": [
            "[1033.33333333]\n",
            "[1033.33333333]\n"
          ],
          "name": "stdout"
        }
      ]
    },
    {
      "cell_type": "code",
      "metadata": {
        "colab": {
          "base_uri": "https://localhost:8080/",
          "height": 0
        },
        "id": "MmrXJaCuzhLN",
        "outputId": "ea1a7e2a-a3fe-436e-8cc6-c70e739c7c3b"
      },
      "source": [
        "distances,indexes=knr.kneighbors([[50]])\r\n",
        "\r\n",
        "plt.scatter(train_input,train_target)\r\n",
        "plt.scatter(train_input[indexes],train_target[indexes],marker='D')\r\n",
        "plt.scatter(50,1033.33,marker='^')\r\n",
        "plt.show()\r\n",
        "print(np.mean(train_target[indexes]))"
      ],
      "execution_count": 199,
      "outputs": [
        {
          "output_type": "display_data",
          "data": {
            "image/png": "[encoded data removed]",
            "text/plain": [
              "<Figure size 432x288 with 1 Axes>"
            ]
          },
          "metadata": {
            "tags": [],
            "needs_background": "light"
          }
        },
        {
          "output_type": "stream",
          "text": [
            "1033.3333333333333\n"
          ],
          "name": "stdout"
        }
      ]
    },
    {
      "cell_type": "code",
      "metadata": {
        "colab": {
          "base_uri": "https://localhost:8080/",
          "height": 0
        },
        "id": "gDVLbJLe0PXh",
        "outputId": "1c98f79c-b7c7-4fac-a407-271ce66595b7"
      },
      "source": [
        "distances,indexes=knr.kneighbors([[100]])\r\n",
        "\r\n",
        "plt.scatter(train_input,train_target)\r\n",
        "plt.scatter(train_input[indexes],train_target[indexes],marker='D')\r\n",
        "plt.scatter(100,1033.33,marker='^')\r\n",
        "plt.show()\r\n",
        "print(np.mean(train_target[indexes]))"
      ],
      "execution_count": 200,
      "outputs": [
        {
          "output_type": "display_data",
          "data": {
            "image/png": "[encoded data removed]",
            "text/plain": [
              "<Figure size 432x288 with 1 Axes>"
            ]
          },
          "metadata": {
            "tags": [],
            "needs_background": "light"
          }
        },
        {
          "output_type": "stream",
          "text": [
            "1033.3333333333333\n"
          ],
          "name": "stdout"
        }
      ]
    },
    {
      "cell_type": "markdown",
      "metadata": {
        "id": "IZz_xBuBzhCS"
      },
      "source": [
        "###LinearRegression"
      ]
    },
    {
      "cell_type": "code",
      "metadata": {
        "colab": {
          "base_uri": "https://localhost:8080/"
        },
        "id": "PL1nemu54KYK",
        "outputId": "3ac6bb6a-3cb6-4fd7-dc12-ed5b0729b1d8"
      },
      "source": [
        "from sklearn.linear_model import LinearRegression\r\n",
        "lr=LinearRegression()\r\n",
        "lr.fit(train_input,train_target)\r\n",
        "print(lr.predict([[50]]))\r\n",
        "print(lr.coef_,lr.intercept_)"
      ],
      "execution_count": 201,
      "outputs": [
        {
          "output_type": "stream",
          "text": [
            "[1241.83860323]\n",
            "[39.01714496] -709.0186449535477\n"
          ],
          "name": "stdout"
        }
      ]
    },
    {
      "cell_type": "code",
      "metadata": {
        "colab": {
          "base_uri": "https://localhost:8080/",
          "height": 0
        },
        "id": "bG7foiXU5BOc",
        "outputId": "00228837-ff59-4e52-b6f5-1e5d309c083b"
      },
      "source": [
        "plt.scatter(train_input,train_target)\r\n",
        "plt.plot([15,50],[15*lr.coef_+lr.intercept_,50*lr.coef_+lr.intercept_])\r\n",
        "plt.scatter(50,1241.838,marker='^')\r\n",
        "plt.show()"
      ],
      "execution_count": 202,
      "outputs": [
        {
          "output_type": "display_data",
          "data": {
            "image/png": "[encoded data removed]",
            "text/plain": [
              "<Figure size 432x288 with 1 Axes>"
            ]
          },
          "metadata": {
            "tags": [],
            "needs_background": "light"
          }
        }
      ]
    },
    {
      "cell_type": "markdown",
      "metadata": {
        "id": "XZwYNJgj5tBa"
      },
      "source": [
        "####Result"
      ]
    },
    {
      "cell_type": "code",
      "metadata": {
        "colab": {
          "base_uri": "https://localhost:8080/"
        },
        "id": "Q6q3EnLr5uUP",
        "outputId": "172cd1b0-53d3-4c19-90a4-075be09f1dd5"
      },
      "source": [
        "print(lr.score(train_input,train_target))\r\n",
        "print(lr.score(test_input,test_target))"
      ],
      "execution_count": 203,
      "outputs": [
        {
          "output_type": "stream",
          "text": [
            "0.9398463339976039\n",
            "0.8247503123313558\n"
          ],
          "name": "stdout"
        }
      ]
    },
    {
      "cell_type": "markdown",
      "metadata": {
        "id": "0pWFSWYS6Bw6"
      },
      "source": [
        "###PolynominalRegression"
      ]
    },
    {
      "cell_type": "code",
      "metadata": {
        "colab": {
          "base_uri": "https://localhost:8080/"
        },
        "id": "TI5CiTm36KLG",
        "outputId": "e127e291-9b06-44b6-e96c-c7b7719ca173"
      },
      "source": [
        "train_poly=np.column_stack((train_input**2,train_input))\r\n",
        "test_poly=np.column_stack((test_input**2,test_input))\r\n",
        "print(train_poly)\r\n",
        "print(test_poly)"
      ],
      "execution_count": 204,
      "outputs": [
        {
          "output_type": "stream",
          "text": [
            "[[ 384.16   19.6 ]\n",
            " [ 484.     22.  ]\n",
            " [ 349.69   18.7 ]\n",
            " [ 302.76   17.4 ]\n",
            " [1296.     36.  ]\n",
            " [ 625.     25.  ]\n",
            " [1600.     40.  ]\n",
            " [1521.     39.  ]\n",
            " [1849.     43.  ]\n",
            " [ 484.     22.  ]\n",
            " [ 400.     20.  ]\n",
            " [ 484.     22.  ]\n",
            " [ 576.     24.  ]\n",
            " [ 756.25   27.5 ]\n",
            " [1849.     43.  ]\n",
            " [1600.     40.  ]\n",
            " [ 576.     24.  ]\n",
            " [ 441.     21.  ]\n",
            " [ 756.25   27.5 ]\n",
            " [1600.     40.  ]\n",
            " [1075.84   32.8 ]\n",
            " [ 702.25   26.5 ]\n",
            " [1332.25   36.5 ]\n",
            " [ 187.69   13.7 ]\n",
            " [ 515.29   22.7 ]\n",
            " [ 225.     15.  ]\n",
            " [1369.     37.  ]\n",
            " [1225.     35.  ]\n",
            " [ 823.69   28.7 ]\n",
            " [ 552.25   23.5 ]\n",
            " [1521.     39.  ]\n",
            " [ 441.     21.  ]\n",
            " [ 529.     23.  ]\n",
            " [ 484.     22.  ]\n",
            " [1936.     44.  ]\n",
            " [ 506.25   22.5 ]\n",
            " [ 361.     19.  ]\n",
            " [1369.     37.  ]\n",
            " [ 484.     22.  ]\n",
            " [ 655.36   25.6 ]\n",
            " [1764.     42.  ]\n",
            " [1190.25   34.5 ]]\n",
            "[[  70.56    8.4 ]\n",
            " [ 324.     18.  ]\n",
            " [ 756.25   27.5 ]\n",
            " [ 453.69   21.3 ]\n",
            " [ 506.25   22.5 ]\n",
            " [1600.     40.  ]\n",
            " [ 900.     30.  ]\n",
            " [ 605.16   24.6 ]\n",
            " [1521.     39.  ]\n",
            " [ 441.     21.  ]\n",
            " [1892.25   43.5 ]\n",
            " [ 262.44   16.2 ]\n",
            " [ 784.     28.  ]\n",
            " [ 745.29   27.3 ]]\n"
          ],
          "name": "stdout"
        }
      ]
    },
    {
      "cell_type": "code",
      "metadata": {
        "colab": {
          "base_uri": "https://localhost:8080/"
        },
        "id": "_gwUI8n16uEN",
        "outputId": "1a323349-462b-4319-895f-b61099ce5074"
      },
      "source": [
        "lr=LinearRegression()\r\n",
        "lr.fit(train_poly,train_target)\r\n",
        "print(lr.predict([[50**2,50]]))\r\n",
        "print(lr.coef_,lr.intercept_)"
      ],
      "execution_count": 205,
      "outputs": [
        {
          "output_type": "stream",
          "text": [
            "[1573.98423528]\n",
            "[  1.01433211 -21.55792498] 116.05021078278276\n"
          ],
          "name": "stdout"
        }
      ]
    },
    {
      "cell_type": "code",
      "metadata": {
        "colab": {
          "base_uri": "https://localhost:8080/",
          "height": 0
        },
        "id": "UaVM_OpS7sFJ",
        "outputId": "e6735b3e-e49f-456f-f0ee-ba044524b317"
      },
      "source": [
        "point=np.arange(15,50)\r\n",
        "plt.scatter(train_input,train_target)\r\n",
        "plt.plot(point,lr.coef_[0]*point**2+lr.coef_[1]*point+lr.intercept_)\r\n",
        "plt.scatter(50,1573.98,marker='^')\r\n",
        "plt.show()"
      ],
      "execution_count": 206,
      "outputs": [
        {
          "output_type": "display_data",
          "data": {
            "image/png": "[encoded data removed]",
            "text/plain": [
              "<Figure size 432x288 with 1 Axes>"
            ]
          },
          "metadata": {
            "tags": [],
            "needs_background": "light"
          }
        }
      ]
    },
    {
      "cell_type": "markdown",
      "metadata": {
        "id": "Xe8YfzfO8Iq0"
      },
      "source": [
        "####Result"
      ]
    },
    {
      "cell_type": "code",
      "metadata": {
        "colab": {
          "base_uri": "https://localhost:8080/"
        },
        "id": "IkM_EK5c8L3P",
        "outputId": "d2b44194-0160-49dd-813d-1f01867ecb9e"
      },
      "source": [
        "print(lr.score(train_poly,train_target))\r\n",
        "print(lr.score(test_poly,test_target))"
      ],
      "execution_count": 207,
      "outputs": [
        {
          "output_type": "stream",
          "text": [
            "0.9706807451768623\n",
            "0.9775935108325122\n"
          ],
          "name": "stdout"
        }
      ]
    },
    {
      "cell_type": "markdown",
      "metadata": {
        "id": "DqOLJkTl8LfO"
      },
      "source": [
        ""
      ]
    },
    {
      "cell_type": "markdown",
      "metadata": {
        "id": "-QdeUNHs9UHg"
      },
      "source": [
        "##Multiple Regression"
      ]
    },
    {
      "cell_type": "markdown",
      "metadata": {
        "id": "_KtSZXdl9ijR"
      },
      "source": [
        "###Pandas"
      ]
    },
    {
      "cell_type": "code",
      "metadata": {
        "colab": {
          "base_uri": "https://localhost:8080/"
        },
        "id": "1gwhkDHn9kr_",
        "outputId": "02a589a2-d4e1-4001-dad4-9161371cde81"
      },
      "source": [
        "import pandas as pd\r\n",
        "df=pd.read_csv('https://bit.ly/perch_csv')\r\n",
        "perch_full=df.to_numpy()\r\n",
        "print(perch_full)"
      ],
      "execution_count": 208,
      "outputs": [
        {
          "output_type": "stream",
          "text": [
            "[[ 8.4   2.11  1.41]\n",
            " [13.7   3.53  2.  ]\n",
            " [15.    3.82  2.43]\n",
            " [16.2   4.59  2.63]\n",
            " [17.4   4.59  2.94]\n",
            " [18.    5.22  3.32]\n",
            " [18.7   5.2   3.12]\n",
            " [19.    5.64  3.05]\n",
            " [19.6   5.14  3.04]\n",
            " [20.    5.08  2.77]\n",
            " [21.    5.69  3.56]\n",
            " [21.    5.92  3.31]\n",
            " [21.    5.69  3.67]\n",
            " [21.3   6.38  3.53]\n",
            " [22.    6.11  3.41]\n",
            " [22.    5.64  3.52]\n",
            " [22.    6.11  3.52]\n",
            " [22.    5.88  3.52]\n",
            " [22.    5.52  4.  ]\n",
            " [22.5   5.86  3.62]\n",
            " [22.5   6.79  3.62]\n",
            " [22.7   5.95  3.63]\n",
            " [23.    5.22  3.63]\n",
            " [23.5   6.28  3.72]\n",
            " [24.    7.29  3.72]\n",
            " [24.    6.38  3.82]\n",
            " [24.6   6.73  4.17]\n",
            " [25.    6.44  3.68]\n",
            " [25.6   6.56  4.24]\n",
            " [26.5   7.17  4.14]\n",
            " [27.3   8.32  5.14]\n",
            " [27.5   7.17  4.34]\n",
            " [27.5   7.05  4.34]\n",
            " [27.5   7.28  4.57]\n",
            " [28.    7.82  4.2 ]\n",
            " [28.7   7.59  4.64]\n",
            " [30.    7.62  4.77]\n",
            " [32.8  10.03  6.02]\n",
            " [34.5  10.26  6.39]\n",
            " [35.   11.49  7.8 ]\n",
            " [36.5  10.88  6.86]\n",
            " [36.   10.61  6.74]\n",
            " [37.   10.84  6.26]\n",
            " [37.   10.57  6.37]\n",
            " [39.   11.14  7.49]\n",
            " [39.   11.14  6.  ]\n",
            " [39.   12.43  7.35]\n",
            " [40.   11.93  7.11]\n",
            " [40.   11.73  7.22]\n",
            " [40.   12.38  7.46]\n",
            " [40.   11.14  6.63]\n",
            " [42.   12.8   6.87]\n",
            " [43.   11.93  7.28]\n",
            " [43.   12.51  7.42]\n",
            " [43.5  12.6   8.14]\n",
            " [44.   12.49  7.6 ]]\n"
          ],
          "name": "stdout"
        }
      ]
    },
    {
      "cell_type": "markdown",
      "metadata": {
        "id": "XDR8_cAeAjXV"
      },
      "source": [
        "###PolynomialFeatures"
      ]
    },
    {
      "cell_type": "code",
      "metadata": {
        "id": "aVLlAHaK-ywO"
      },
      "source": [
        "train_input,test_input,train_target,test_target=train_test_split(perch_full,perch_weight,random_state=42)"
      ],
      "execution_count": 209,
      "outputs": []
    },
    {
      "cell_type": "code",
      "metadata": {
        "colab": {
          "base_uri": "https://localhost:8080/"
        },
        "id": "Xv9Y3QgR_HG9",
        "outputId": "a62fd41f-a4bd-4869-8025-5dd68ca73599"
      },
      "source": [
        "#PolynomialFeatures 예제\r\n",
        "from sklearn.preprocessing import PolynomialFeatures\r\n",
        "poly=PolynomialFeatures(include_bias=False)\r\n",
        "poly.fit([[2,3]])\r\n",
        "print(poly.transform([[2,3]]))"
      ],
      "execution_count": 210,
      "outputs": [
        {
          "output_type": "stream",
          "text": [
            "[[2. 3. 4. 6. 9.]]\n"
          ],
          "name": "stdout"
        }
      ]
    },
    {
      "cell_type": "code",
      "metadata": {
        "colab": {
          "base_uri": "https://localhost:8080/"
        },
        "id": "rpkULfQoAf-U",
        "outputId": "3e0ba061-f76b-4f7d-8f0f-6780618b32cc"
      },
      "source": [
        "poly=PolynomialFeatures(include_bias=False)\r\n",
        "poly.fit(train_input)\r\n",
        "train_poly=poly.transform(train_input)\r\n",
        "print(train_poly.shape)\r\n",
        "poly.get_feature_names()"
      ],
      "execution_count": 211,
      "outputs": [
        {
          "output_type": "stream",
          "text": [
            "(42, 9)\n"
          ],
          "name": "stdout"
        },
        {
          "output_type": "execute_result",
          "data": {
            "text/plain": [
              "['x0', 'x1', 'x2', 'x0^2', 'x0 x1', 'x0 x2', 'x1^2', 'x1 x2', 'x2^2']"
            ]
          },
          "metadata": {
            "tags": []
          },
          "execution_count": 211
        }
      ]
    },
    {
      "cell_type": "code",
      "metadata": {
        "id": "wiffxDOSBN59"
      },
      "source": [
        "test_poly=poly.transform(test_input)"
      ],
      "execution_count": 212,
      "outputs": []
    },
    {
      "cell_type": "markdown",
      "metadata": {
        "id": "g6zgmzjzBXvG"
      },
      "source": [
        "###Training"
      ]
    },
    {
      "cell_type": "code",
      "metadata": {
        "colab": {
          "base_uri": "https://localhost:8080/"
        },
        "id": "IRkWt2XEBbmq",
        "outputId": "f7fcaa61-6ccf-407f-c724-ee4d8408e6df"
      },
      "source": [
        "lr=LinearRegression()\r\n",
        "lr.fit(train_poly,train_target)"
      ],
      "execution_count": 213,
      "outputs": [
        {
          "output_type": "execute_result",
          "data": {
            "text/plain": [
              "LinearRegression(copy_X=True, fit_intercept=True, n_jobs=None, normalize=False)"
            ]
          },
          "metadata": {
            "tags": []
          },
          "execution_count": 213
        }
      ]
    },
    {
      "cell_type": "markdown",
      "metadata": {
        "id": "xow1M_7BCBPg"
      },
      "source": [
        "####Result"
      ]
    },
    {
      "cell_type": "code",
      "metadata": {
        "colab": {
          "base_uri": "https://localhost:8080/"
        },
        "id": "7itSZqQpCC-B",
        "outputId": "e6af5ddc-fb1a-459c-bb18-7e4f4db72c83"
      },
      "source": [
        "print(lr.score(train_poly,train_target))\r\n",
        "print(lr.score(test_poly,test_target))"
      ],
      "execution_count": 214,
      "outputs": [
        {
          "output_type": "stream",
          "text": [
            "0.9903183436982124\n",
            "0.9714559911594132\n"
          ],
          "name": "stdout"
        }
      ]
    },
    {
      "cell_type": "markdown",
      "metadata": {
        "id": "ILm7GQoWCNxZ"
      },
      "source": [
        "###Training (Degree=5)"
      ]
    },
    {
      "cell_type": "code",
      "metadata": {
        "colab": {
          "base_uri": "https://localhost:8080/"
        },
        "id": "E3zbtG_TCPuA",
        "outputId": "a182d3f6-ff4e-434e-a619-ed3392687625"
      },
      "source": [
        "poly=PolynomialFeatures(degree=5,include_bias=False)\r\n",
        "poly.fit(train_input)\r\n",
        "train_poly=poly.transform(train_input)\r\n",
        "test_poly=poly.transform(test_input)\r\n",
        "print(train_poly.shape)"
      ],
      "execution_count": 215,
      "outputs": [
        {
          "output_type": "stream",
          "text": [
            "(42, 55)\n"
          ],
          "name": "stdout"
        }
      ]
    },
    {
      "cell_type": "markdown",
      "metadata": {
        "id": "HUS1wv58GKQW"
      },
      "source": [
        "####Result"
      ]
    },
    {
      "cell_type": "code",
      "metadata": {
        "colab": {
          "base_uri": "https://localhost:8080/"
        },
        "id": "B92rXSxvFTAi",
        "outputId": "ec5cd899-71a7-4829-8980-7b8630a8d846"
      },
      "source": [
        "#과대적합\r\n",
        "lr.fit(train_poly,train_target)\r\n",
        "print(lr.score(train_poly,train_target))\r\n",
        "print(lr.score(test_poly,test_target))"
      ],
      "execution_count": 216,
      "outputs": [
        {
          "output_type": "stream",
          "text": [
            "0.9999999999991096\n",
            "-144.40579242335605\n"
          ],
          "name": "stdout"
        }
      ]
    },
    {
      "cell_type": "markdown",
      "metadata": {
        "id": "bsTJlboIGSch"
      },
      "source": [
        "##Regulation"
      ]
    },
    {
      "cell_type": "markdown",
      "metadata": {
        "id": "9h0zTTbLGwCc"
      },
      "source": [
        "###StandardScaler"
      ]
    },
    {
      "cell_type": "code",
      "metadata": {
        "id": "OIBqShEmGWyX"
      },
      "source": [
        "from sklearn.preprocessing import StandardScaler\r\n",
        "ss=StandardScaler()\r\n",
        "ss.fit(train_poly)\r\n",
        "train_scaled=ss.transform(train_poly)\r\n",
        "test_scaled=ss.transform(test_poly)"
      ],
      "execution_count": 217,
      "outputs": []
    },
    {
      "cell_type": "markdown",
      "metadata": {
        "id": "84ww9GbJHDf4"
      },
      "source": [
        "###Ridge"
      ]
    },
    {
      "cell_type": "code",
      "metadata": {
        "colab": {
          "base_uri": "https://localhost:8080/"
        },
        "id": "fQYNglZ_HfI3",
        "outputId": "eb88ea66-ca01-47fa-9d36-2b31644ff37f"
      },
      "source": [
        "from sklearn.linear_model import Ridge\r\n",
        "ridge=Ridge()\r\n",
        "ridge.fit(train_scaled,train_target)\r\n",
        "\r\n",
        "print(ridge.score(train_scaled,train_target))\r\n",
        "print(ridge.score(test_scaled,test_target))"
      ],
      "execution_count": 218,
      "outputs": [
        {
          "output_type": "stream",
          "text": [
            "0.9896101671037343\n",
            "0.9790693977615398\n"
          ],
          "name": "stdout"
        }
      ]
    },
    {
      "cell_type": "markdown",
      "metadata": {
        "id": "k7fOWhBsIEzg"
      },
      "source": [
        "####Find alpha"
      ]
    },
    {
      "cell_type": "code",
      "metadata": {
        "colab": {
          "base_uri": "https://localhost:8080/",
          "height": 265
        },
        "id": "Vbd8NtYzIIE2",
        "outputId": "53a14e71-7470-46ed-cd48-9026ab82a324"
      },
      "source": [
        "train_score=[]\r\n",
        "test_score=[]\r\n",
        "alpha_list=[0.001,0.01,0.1,1,10,100]\r\n",
        "\r\n",
        "for alpha in alpha_list:\r\n",
        "  ridge=Ridge(alpha=alpha)\r\n",
        "  ridge.fit(train_scaled,train_target)\r\n",
        "  train_score.append(ridge.score(train_scaled,train_target))\r\n",
        "  test_score.append(ridge.score(test_scaled,test_target))\r\n",
        "\r\n",
        "plt.plot(np.log10(alpha_list),train_score)\r\n",
        "plt.plot(np.log10(alpha_list),test_score)\r\n",
        "plt.show()"
      ],
      "execution_count": 219,
      "outputs": [
        {
          "output_type": "display_data",
          "data": {
            "image/png": "[encoded data removed]",
            "text/plain": [
              "<Figure size 432x288 with 1 Axes>"
            ]
          },
          "metadata": {
            "tags": [],
            "needs_background": "light"
          }
        }
      ]
    },
    {
      "cell_type": "code",
      "metadata": {
        "colab": {
          "base_uri": "https://localhost:8080/"
        },
        "id": "EW2EiQVoI9Bl",
        "outputId": "80ca0279-09fd-461d-c478-5c805c94fb48"
      },
      "source": [
        "#alpha=0.1\r\n",
        "ridge=Ridge(alpha=0.1)\r\n",
        "ridge.fit(train_scaled,train_target)\r\n",
        "print(ridge.score(train_scaled,train_target))\r\n",
        "print(ridge.score(test_scaled,test_target))"
      ],
      "execution_count": 220,
      "outputs": [
        {
          "output_type": "stream",
          "text": [
            "0.9903815817570366\n",
            "0.9827976465386927\n"
          ],
          "name": "stdout"
        }
      ]
    },
    {
      "cell_type": "markdown",
      "metadata": {
        "id": "6zVFNdFoJVX0"
      },
      "source": [
        "###Lasso"
      ]
    },
    {
      "cell_type": "code",
      "metadata": {
        "colab": {
          "base_uri": "https://localhost:8080/"
        },
        "id": "IEalHIdEJbYQ",
        "outputId": "fba3fe79-1cd7-414a-de08-e9cf99d4865e"
      },
      "source": [
        "from sklearn.linear_model import Lasso\r\n",
        "lasso=Lasso()\r\n",
        "lasso.fit(train_scaled,train_target)\r\n",
        "\r\n",
        "print(lasso.score(train_scaled,train_target))\r\n",
        "print(lasso.score(test_scaled,test_target))"
      ],
      "execution_count": 221,
      "outputs": [
        {
          "output_type": "stream",
          "text": [
            "0.9897898972080961\n",
            "0.9800593698421883\n"
          ],
          "name": "stdout"
        }
      ]
    },
    {
      "cell_type": "markdown",
      "metadata": {
        "id": "t4w7z4RPJy8v"
      },
      "source": [
        "####Find alpha"
      ]
    },
    {
      "cell_type": "code",
      "metadata": {
        "colab": {
          "base_uri": "https://localhost:8080/",
          "height": 355
        },
        "id": "tU76vLdKJ1Wu",
        "outputId": "3a9c05c6-0630-41d2-f81d-189829c1de43"
      },
      "source": [
        "train_score=[]\r\n",
        "test_score=[]\r\n",
        "alpha_list=[0.001,0.01,0.1,1,10,100]\r\n",
        "\r\n",
        "for alpha in alpha_list:\r\n",
        "  lasso=Lasso(alpha=alpha, max_iter=10000)\r\n",
        "  lasso.fit(train_scaled,train_target)\r\n",
        "  train_score.append(lasso.score(train_scaled,train_target))\r\n",
        "  test_score.append(lasso.score(test_scaled,test_target))\r\n",
        "\r\n",
        "plt.plot(np.log10(alpha_list),train_score)\r\n",
        "plt.plot(np.log10(alpha_list),test_score)\r\n",
        "plt.show()"
      ],
      "execution_count": 222,
      "outputs": [
        {
          "output_type": "stream",
          "text": [
            "/usr/local/lib/python3.7/dist-packages/sklearn/linear_model/_coordinate_descent.py:476: ConvergenceWarning: Objective did not converge. You might want to increase the number of iterations. Duality gap: 18778.697957792876, tolerance: 518.2793833333334\n",
            "  positive)\n",
            "/usr/local/lib/python3.7/dist-packages/sklearn/linear_model/_coordinate_descent.py:476: ConvergenceWarning: Objective did not converge. You might want to increase the number of iterations. Duality gap: 12972.821345404844, tolerance: 518.2793833333334\n",
            "  positive)\n"
          ],
          "name": "stderr"
        },
        {
          "output_type": "display_data",
          "data": {
            "image/png": "[encoded data removed]",
            "text/plain": [
              "<Figure size 432x288 with 1 Axes>"
            ]
          },
          "metadata": {
            "tags": [],
            "needs_background": "light"
          }
        }
      ]
    },
    {
      "cell_type": "code",
      "metadata": {
        "colab": {
          "base_uri": "https://localhost:8080/"
        },
        "id": "dx26YgohKd93",
        "outputId": "82388af6-d7d6-4b1f-ce40-995e7f101f32"
      },
      "source": [
        "#alpha=10\r\n",
        "lasso=Lasso(alpha=10)\r\n",
        "lasso.fit(train_scaled,train_target)\r\n",
        "print(lasso.score(train_scaled,train_target))\r\n",
        "print(lasso.score(test_scaled,test_target))"
      ],
      "execution_count": 223,
      "outputs": [
        {
          "output_type": "stream",
          "text": [
            "0.9888067471131867\n",
            "0.9824470598706695\n"
          ],
          "name": "stdout"
        }
      ]
    },
    {
      "cell_type": "markdown",
      "metadata": {
        "id": "jgF58im0Ks2D"
      },
      "source": [
        "####Lasso.coef"
      ]
    },
    {
      "cell_type": "code",
      "metadata": {
        "colab": {
          "base_uri": "https://localhost:8080/"
        },
        "id": "aYf2VoxRKx2e",
        "outputId": "efb64607-bb7d-4538-9e76-fd4a17b1c862"
      },
      "source": [
        "print(np.sum(lasso.coef_==0))"
      ],
      "execution_count": 224,
      "outputs": [
        {
          "output_type": "stream",
          "text": [
            "40\n"
          ],
          "name": "stdout"
        }
      ]
    }
  ]
}